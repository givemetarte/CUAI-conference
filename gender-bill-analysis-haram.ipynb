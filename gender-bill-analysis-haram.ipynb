{
 "cells": [
  {
   "cell_type": "markdown",
   "metadata": {
    "colab_type": "text",
    "id": "xCvVVrYxwoiy"
   },
   "source": [
    "# 계류 법안 분석 \n",
    "\n",
    "작성자: 박하람"
   ]
  },
  {
   "cell_type": "code",
   "execution_count": 1,
   "metadata": {},
   "outputs": [],
   "source": [
    "import sys\n",
    "sys.path.append(\"/usr/local/lib/python3.8/site-packages\")"
   ]
  },
  {
   "cell_type": "code",
   "execution_count": 2,
   "metadata": {
    "colab": {
     "base_uri": "https://localhost:8080/",
     "height": 71
    },
    "colab_type": "code",
    "executionInfo": {
     "elapsed": 1184,
     "status": "ok",
     "timestamp": 1598672359844,
     "user": {
      "displayName": "Haram Park",
      "photoUrl": "https://lh3.googleusercontent.com/a-/AOh14Gj3OsCszz1Owp0GjirIDs_OjWpL5Bp-AgvXhBfOlQ=s64",
      "userId": "01012964350621990937"
     },
     "user_tz": -540
    },
    "id": "OmbzfdzZwoi3",
    "outputId": "24282f9b-498d-446a-f5c4-a2b8e2e27148"
   },
   "outputs": [],
   "source": [
    "import pandas as pd\n",
    "import numpy as np\n",
    "import matplotlib.pyplot as plt\n",
    "import seaborn as sns\n",
    "import re\n",
    "%matplotlib inline"
   ]
  },
  {
   "cell_type": "code",
   "execution_count": 3,
   "metadata": {
    "colab": {},
    "colab_type": "code",
    "executionInfo": {
     "elapsed": 2805,
     "status": "ok",
     "timestamp": 1598672361482,
     "user": {
      "displayName": "Haram Park",
      "photoUrl": "https://lh3.googleusercontent.com/a-/AOh14Gj3OsCszz1Owp0GjirIDs_OjWpL5Bp-AgvXhBfOlQ=s64",
      "userId": "01012964350621990937"
     },
     "user_tz": -540
    },
    "id": "QdDqEUvswoi5"
   },
   "outputs": [],
   "source": [
    "bill20_df = pd.read_csv('bill_20th_data_final.csv', parse_dates=['제안일자','의결일자'])\n",
    "bill20_df = bill20_df[['의안번호','의안명','제안자구분','제안일자','의결일자','의결결과','제안회기','제안이유','소관위원회','제안정당','법률반영여부']]"
   ]
  },
  {
   "cell_type": "code",
   "execution_count": 4,
   "metadata": {},
   "outputs": [
    {
     "data": {
      "text/plain": [
       "(23684, 11)"
      ]
     },
     "execution_count": 4,
     "metadata": {},
     "output_type": "execute_result"
    }
   ],
   "source": [
    "bill20_df.shape"
   ]
  },
  {
   "cell_type": "code",
   "execution_count": 5,
   "metadata": {},
   "outputs": [],
   "source": [
    "bill21_df = pd.read_csv('bill-21st-data-final.csv', index_col=0, \n",
    "                        parse_dates=['제안일자','의결일자'])\n",
    "bill21_df = bill21_df[['의안번호','의안명','제안자구분','제안일자','의결일자','의결결과',\n",
    "                       '제안회기','제안이유','소관위원회','제안정당']]"
   ]
  },
  {
   "cell_type": "code",
   "execution_count": 6,
   "metadata": {},
   "outputs": [],
   "source": [
    "accept_list = ['대안반영폐기', '원안가결', '수정가결', '수정안반영폐기', '가결']\n",
    "\n",
    "## 의결결과가 '대안반영폐기', '원안가결', '수정가결', '수정안반영폐기', '가결' 이면 법률반영\n",
    "## 그외 법률미반영\n",
    "bill21_df.loc[bill21_df['의결결과'].isin(accept_list), '법률반영여부'] = '반영'\n",
    "bill21_df.loc[~bill21_df['의결결과'].isin(accept_list), '법률반영여부'] = '미반영'"
   ]
  },
  {
   "cell_type": "code",
   "execution_count": 7,
   "metadata": {},
   "outputs": [
    {
     "data": {
      "text/plain": [
       "(3687, 11)"
      ]
     },
     "execution_count": 7,
     "metadata": {},
     "output_type": "execute_result"
    }
   ],
   "source": [
    "bill21_df.shape"
   ]
  },
  {
   "cell_type": "code",
   "execution_count": 8,
   "metadata": {},
   "outputs": [],
   "source": [
    "bill_df = pd.concat([bill20_df, bill21_df]).reset_index().drop('index', 1)"
   ]
  },
  {
   "cell_type": "code",
   "execution_count": 9,
   "metadata": {},
   "outputs": [
    {
     "data": {
      "text/plain": [
       "(27371, 11)"
      ]
     },
     "execution_count": 9,
     "metadata": {},
     "output_type": "execute_result"
    }
   ],
   "source": [
    "bill_df.shape"
   ]
  },
  {
   "cell_type": "markdown",
   "metadata": {
    "colab_type": "text",
    "id": "VuXmDlKFwojN"
   },
   "source": [
    "## 데이터 전처리 \n",
    "\n",
    "- 법률안만 선정\n",
    "\n",
    "> 의안의 결과를 예측하기 위해서는 먼저 문제의 특성을 잘 이해하는 것이 중요하다. 먼저 의안에는 기존 법률을 수정, 폐지하거나 새로운 법률을 제안하는 법률안만 있는 것이 아니라 결의안, 동의안, 출석요구안, 예산안, 정부 관리직의 임명선출안 등도 포함된다. 그 중에서 일반 시민 및 각종 이익 단체에 영향을 가장 크게 주는 것은 법을 수정하는 법률안이므로, 이 연구에서는 법률안에 중점을 둔다.(선행연구)"
   ]
  },
  {
   "cell_type": "markdown",
   "metadata": {
    "colab_type": "text",
    "id": "39CurLWUwojN"
   },
   "source": [
    "#### 법률안 추리기"
   ]
  },
  {
   "cell_type": "code",
   "execution_count": 74,
   "metadata": {
    "colab": {},
    "colab_type": "code",
    "executionInfo": {
     "elapsed": 2736,
     "status": "ok",
     "timestamp": 1598672361486,
     "user": {
      "displayName": "Haram Park",
      "photoUrl": "https://lh3.googleusercontent.com/a-/AOh14Gj3OsCszz1Owp0GjirIDs_OjWpL5Bp-AgvXhBfOlQ=s64",
      "userId": "01012964350621990937"
     },
     "user_tz": -540
    },
    "id": "BdhGFPx-wojO"
   },
   "outputs": [],
   "source": [
    "from ast import literal_eval\n",
    "\n",
    "def split_name(text): \n",
    "    name = text.split('(')[0]\n",
    "    return name\n",
    "\n",
    "def preprocessing(text):\n",
    "    # 특수문자 제거\n",
    "    text = re.sub('[?.,;:|\\)(*~`’!^\\-_+<>@\\#$%&-=#}※]', '', text)\n",
    "    # 한글, 영문만 남기고 모두 제거하도록 합니다.\n",
    "    text = re.sub('[^가-힣ㄱ-ㅎㅏ-ㅣa-zA-Z0-9]', ' ', text)\n",
    "    return text\n",
    "\n",
    "def str_to_list(x): \n",
    "    party = literal_eval(x)\n",
    "    return party\n",
    "\n",
    "def get_party(df): \n",
    "    partylist = []\n",
    "    for i in range(len(df)): \n",
    "        for j in range(len(df['제안정당'][i])): \n",
    "            party = df['제안정당'][i][j]\n",
    "            if party not in partylist:\n",
    "                partylist.append(df['제안정당'][i][j]) \n",
    "    return partylist"
   ]
  },
  {
   "cell_type": "code",
   "execution_count": 11,
   "metadata": {
    "colab": {},
    "colab_type": "code",
    "executionInfo": {
     "elapsed": 2730,
     "status": "ok",
     "timestamp": 1598672361487,
     "user": {
      "displayName": "Haram Park",
      "photoUrl": "https://lh3.googleusercontent.com/a-/AOh14Gj3OsCszz1Owp0GjirIDs_OjWpL5Bp-AgvXhBfOlQ=s64",
      "userId": "01012964350621990937"
     },
     "user_tz": -540
    },
    "id": "tSGijMyBwojQ"
   },
   "outputs": [],
   "source": [
    "bill_df['의안명'] = bill_df['의안명'].apply(split_name)"
   ]
  },
  {
   "cell_type": "code",
   "execution_count": 12,
   "metadata": {
    "colab": {},
    "colab_type": "code",
    "executionInfo": {
     "elapsed": 2710,
     "status": "ok",
     "timestamp": 1598672361487,
     "user": {
      "displayName": "Haram Park",
      "photoUrl": "https://lh3.googleusercontent.com/a-/AOh14Gj3OsCszz1Owp0GjirIDs_OjWpL5Bp-AgvXhBfOlQ=s64",
      "userId": "01012964350621990937"
     },
     "user_tz": -540
    },
    "id": "xUuj-gBgwojS"
   },
   "outputs": [],
   "source": [
    "bill_df.loc[bill_df['의안명'].str.endswith('법률안') == True, '법률안'] = 1\n",
    "bill_df.loc[bill_df['의안명'].str.endswith('법률안') == False, '법률안'] = 0"
   ]
  },
  {
   "cell_type": "code",
   "execution_count": 13,
   "metadata": {
    "colab": {
     "base_uri": "https://localhost:8080/",
     "height": 68
    },
    "colab_type": "code",
    "executionInfo": {
     "elapsed": 2705,
     "status": "ok",
     "timestamp": 1598672361487,
     "user": {
      "displayName": "Haram Park",
      "photoUrl": "https://lh3.googleusercontent.com/a-/AOh14Gj3OsCszz1Owp0GjirIDs_OjWpL5Bp-AgvXhBfOlQ=s64",
      "userId": "01012964350621990937"
     },
     "user_tz": -540
    },
    "id": "K4zgEGOCwojU",
    "outputId": "68c995ab-0b9d-40db-f7d7-7aede94ebad2"
   },
   "outputs": [
    {
     "data": {
      "text/plain": [
       "1.0    26140\n",
       "0.0     1231\n",
       "Name: 법률안, dtype: int64"
      ]
     },
     "execution_count": 13,
     "metadata": {},
     "output_type": "execute_result"
    }
   ],
   "source": [
    "# 법률안을 제외하면 1231개임 \n",
    "bill_df['법률안'].value_counts()"
   ]
  },
  {
   "cell_type": "code",
   "execution_count": 14,
   "metadata": {
    "colab": {},
    "colab_type": "code",
    "executionInfo": {
     "elapsed": 2702,
     "status": "ok",
     "timestamp": 1598672361489,
     "user": {
      "displayName": "Haram Park",
      "photoUrl": "https://lh3.googleusercontent.com/a-/AOh14Gj3OsCszz1Owp0GjirIDs_OjWpL5Bp-AgvXhBfOlQ=s64",
      "userId": "01012964350621990937"
     },
     "user_tz": -540
    },
    "id": "yWGFs3xtwojX"
   },
   "outputs": [],
   "source": [
    "bill_df = bill_df[bill_df['법률안'] == 1]\n",
    "bill_df = bill_df.reset_index()\n",
    "bill_df = bill_df.drop('index',1)"
   ]
  },
  {
   "cell_type": "code",
   "execution_count": 15,
   "metadata": {
    "colab": {
     "base_uri": "https://localhost:8080/",
     "height": 34
    },
    "colab_type": "code",
    "executionInfo": {
     "elapsed": 2696,
     "status": "ok",
     "timestamp": 1598672361489,
     "user": {
      "displayName": "Haram Park",
      "photoUrl": "https://lh3.googleusercontent.com/a-/AOh14Gj3OsCszz1Owp0GjirIDs_OjWpL5Bp-AgvXhBfOlQ=s64",
      "userId": "01012964350621990937"
     },
     "user_tz": -540
    },
    "id": "U21KyI6-wojZ",
    "outputId": "03f1bfd2-ebd4-487b-9988-3bacfbb5d0f1"
   },
   "outputs": [
    {
     "data": {
      "text/plain": [
       "26140"
      ]
     },
     "execution_count": 15,
     "metadata": {},
     "output_type": "execute_result"
    }
   ],
   "source": [
    "len(bill_df)"
   ]
  },
  {
   "cell_type": "code",
   "execution_count": 16,
   "metadata": {},
   "outputs": [
    {
     "name": "stdout",
     "output_type": "stream",
     "text": [
      "CPU times: user 260 ms, sys: 10.6 ms, total: 271 ms\n",
      "Wall time: 270 ms\n"
     ]
    }
   ],
   "source": [
    "# object를 list로 변화! \n",
    "%time bill_df['제안정당'] = bill_df['제안정당'].apply(str_to_list)"
   ]
  },
  {
   "cell_type": "markdown",
   "metadata": {},
   "source": [
    "#### 정당별 칼럼 만들기"
   ]
  },
  {
   "cell_type": "code",
   "execution_count": 105,
   "metadata": {},
   "outputs": [
    {
     "data": {
      "text/plain": [
       "['더불어민주당',\n",
       " '자유한국당',\n",
       " '미래통합당',\n",
       " '미래한국당',\n",
       " '민생당',\n",
       " '더불어시민당',\n",
       " '국민의당',\n",
       " '무소속',\n",
       " '민중당',\n",
       " '정의당',\n",
       " '우리공화당',\n",
       " '',\n",
       " '대안신당',\n",
       " '바른미래당',\n",
       " '새로운보수당',\n",
       " '미래를향한전진4.0',\n",
       " '민주평화당',\n",
       " '대한애국당',\n",
       " '새누리당',\n",
       " '바른정당',\n",
       " '새민중정당',\n",
       " '개혁보수신당',\n",
       " '열린민주당',\n",
       " '기본소득당',\n",
       " '시대전환']"
      ]
     },
     "execution_count": 105,
     "metadata": {},
     "output_type": "execute_result"
    }
   ],
   "source": [
    "get_party(bill_df)"
   ]
  },
  {
   "cell_type": "code",
   "execution_count": 19,
   "metadata": {},
   "outputs": [],
   "source": [
    "party_df = bill_df['제안정당'].apply(lambda x: pd.Series(x))\n",
    "party_df.columns = ['제안정당_1','제안정당_2','제안정당_3','제안정당_4','제안정당_5','제안정당_6','제안정당_7','제안정당_8']\n",
    "                    \n",
    "# 원핫인코딩을 통해 정당이 칼럼명인 데이터 프레임을 만들고 모두 합칩니다.\n",
    "df1 = pd.get_dummies(party_df['제안정당_1'])\n",
    "df2 = pd.get_dummies(party_df['제안정당_2'])\n",
    "df3 = pd.get_dummies(party_df['제안정당_3'])\n",
    "df4 = pd.get_dummies(party_df['제안정당_4'])\n",
    "df5 = pd.get_dummies(party_df['제안정당_5'])\n",
    "df6 = pd.get_dummies(party_df['제안정당_6'])\n",
    "df7 = pd.get_dummies(party_df['제안정당_7'])\n",
    "df8 = pd.get_dummies(party_df['제안정당_8'])\n",
    "\n",
    "df = df1.add(df2, fill_value=0).add(df3, fill_value=0).add(df4, fill_value=0).add(df5, fill_value=0).add(df6, fill_value=0).add(df7, fill_value=0).add(df8, fill_value=0)\n",
    "\n",
    "# 원본데이터와 합칩니다.\n",
    "bill_df = pd.concat([bill_df, df], axis=1)"
   ]
  },
  {
   "cell_type": "code",
   "execution_count": 20,
   "metadata": {},
   "outputs": [
    {
     "data": {
      "text/plain": [
       "Index(['의안번호', '의안명', '제안자구분', '제안일자', '의결일자', '의결결과', '제안회기', '제안이유', '소관위원회',\n",
       "       '제안정당', '법률반영여부', '법률안', '', '개혁보수신당', '국민의당', '기본소득당', '대안신당', '대한애국당',\n",
       "       '더불어민주당', '더불어시민당', '무소속', '미래를향한전진4.0', '미래통합당', '미래한국당', '민생당',\n",
       "       '민주평화당', '민중당', '바른미래당', '바른정당', '새누리당', '새로운보수당', '새민중정당', '시대전환',\n",
       "       '열린민주당', '우리공화당', '자유한국당', '정의당'],\n",
       "      dtype='object')"
      ]
     },
     "execution_count": 20,
     "metadata": {},
     "output_type": "execute_result"
    }
   ],
   "source": [
    "bill_df.columns"
   ]
  },
  {
   "cell_type": "code",
   "execution_count": null,
   "metadata": {},
   "outputs": [],
   "source": []
  },
  {
   "cell_type": "markdown",
   "metadata": {
    "colab_type": "text",
    "id": "6zR2l2bawojg"
   },
   "source": [
    "## EDA \n",
    "\n",
    "### 법률 반영/미반영 기준으로 의안처리시 소요시간 분석\n",
    "\n",
    "- 법률반영: 원안가결, 원안수정, 대안반영, 수정안반영\n",
    "- 법률미반영: 부결, 폐기, 철회, 반려, 기타 "
   ]
  },
  {
   "cell_type": "code",
   "execution_count": 21,
   "metadata": {},
   "outputs": [],
   "source": [
    "bill_df['의결결과'] = bill_df['의결결과'].fillna('')"
   ]
  },
  {
   "cell_type": "code",
   "execution_count": 22,
   "metadata": {
    "colab": {
     "base_uri": "https://localhost:8080/",
     "height": 51
    },
    "colab_type": "code",
    "executionInfo": {
     "elapsed": 3903,
     "status": "ok",
     "timestamp": 1598672362718,
     "user": {
      "displayName": "Haram Park",
      "photoUrl": "https://lh3.googleusercontent.com/a-/AOh14Gj3OsCszz1Owp0GjirIDs_OjWpL5Bp-AgvXhBfOlQ=s64",
      "userId": "01012964350621990937"
     },
     "user_tz": -540
    },
    "id": "eoM_PihWwojg",
    "outputId": "2c31d3bb-e11e-472c-face-ad624327ae3e"
   },
   "outputs": [
    {
     "data": {
      "text/plain": [
       "array(['임기만료폐기', '원안가결', '수정가결', '대안반영폐기', '철회', '폐기', '부결', '수정안반영폐기',\n",
       "       ''], dtype=object)"
      ]
     },
     "execution_count": 22,
     "metadata": {},
     "output_type": "execute_result"
    }
   ],
   "source": [
    "bill_df['의결결과'].unique()"
   ]
  },
  {
   "cell_type": "code",
   "execution_count": 23,
   "metadata": {},
   "outputs": [],
   "source": [
    "bill_df.loc[bill_df['의결결과'] == '', '의결결과'] = '계류'"
   ]
  },
  {
   "cell_type": "markdown",
   "metadata": {
    "colab_type": "text",
    "id": "AGjLfWhKwojl"
   },
   "source": [
    "- accept_list = ['대안반영폐기', '원안가결', '수정가결', '수정안반영폐기', '가결']\n",
    "- reject_list = ['임기만료폐기', '부결', '철회', '반려', '심사대상제외', '폐기']"
   ]
  },
  {
   "cell_type": "code",
   "execution_count": 24,
   "metadata": {
    "colab": {
     "base_uri": "https://localhost:8080/",
     "height": 170
    },
    "colab_type": "code",
    "executionInfo": {
     "elapsed": 3892,
     "status": "ok",
     "timestamp": 1598672362719,
     "user": {
      "displayName": "Haram Park",
      "photoUrl": "https://lh3.googleusercontent.com/a-/AOh14Gj3OsCszz1Owp0GjirIDs_OjWpL5Bp-AgvXhBfOlQ=s64",
      "userId": "01012964350621990937"
     },
     "user_tz": -540
    },
    "id": "FVbeOHwLwojm",
    "outputId": "040ee45e-b4be-4b71-9015-93ac64803f2e"
   },
   "outputs": [
    {
     "data": {
      "text/plain": [
       "임기만료폐기     14269\n",
       "대안반영폐기      5026\n",
       "계류          3617\n",
       "원안가결        1976\n",
       "수정가결         862\n",
       "철회           226\n",
       "폐기           121\n",
       "수정안반영폐기       41\n",
       "부결             2\n",
       "Name: 의결결과, dtype: int64"
      ]
     },
     "execution_count": 24,
     "metadata": {},
     "output_type": "execute_result"
    }
   ],
   "source": [
    "bill_tmp = bill_df['의결결과'].value_counts()\n",
    "bill_tmp"
   ]
  },
  {
   "cell_type": "code",
   "execution_count": 25,
   "metadata": {
    "colab": {
     "base_uri": "https://localhost:8080/",
     "height": 68
    },
    "colab_type": "code",
    "executionInfo": {
     "elapsed": 3882,
     "status": "ok",
     "timestamp": 1598672362719,
     "user": {
      "displayName": "Haram Park",
      "photoUrl": "https://lh3.googleusercontent.com/a-/AOh14Gj3OsCszz1Owp0GjirIDs_OjWpL5Bp-AgvXhBfOlQ=s64",
      "userId": "01012964350621990937"
     },
     "user_tz": -540
    },
    "id": "q0vIOIEnwojr",
    "outputId": "6979ae5c-37de-4758-83d2-b97961ea4d9f"
   },
   "outputs": [
    {
     "data": {
      "text/plain": [
       "미반영    18235\n",
       "반영      7905\n",
       "Name: 법률반영여부, dtype: int64"
      ]
     },
     "execution_count": 25,
     "metadata": {},
     "output_type": "execute_result"
    }
   ],
   "source": [
    "bill_df['법률반영여부'].value_counts()"
   ]
  },
  {
   "cell_type": "code",
   "execution_count": 26,
   "metadata": {},
   "outputs": [
    {
     "name": "stdout",
     "output_type": "stream",
     "text": [
      "<class 'pandas.core.frame.DataFrame'>\n",
      "RangeIndex: 26140 entries, 0 to 26139\n",
      "Data columns (total 37 columns):\n",
      " #   Column      Non-Null Count  Dtype         \n",
      "---  ------      --------------  -----         \n",
      " 0   의안번호        26140 non-null  int64         \n",
      " 1   의안명         26140 non-null  object        \n",
      " 2   제안자구분       26140 non-null  object        \n",
      " 3   제안일자        26140 non-null  datetime64[ns]\n",
      " 4   의결일자        22523 non-null  datetime64[ns]\n",
      " 5   의결결과        26140 non-null  object        \n",
      " 6   제안회기        26140 non-null  object        \n",
      " 7   제안이유        26094 non-null  object        \n",
      " 8   소관위원회       26132 non-null  object        \n",
      " 9   제안정당        26140 non-null  object        \n",
      " 10  법률반영여부      26140 non-null  object        \n",
      " 11  법률안         26140 non-null  float64       \n",
      " 12              26140 non-null  float64       \n",
      " 13  개혁보수신당      26140 non-null  float64       \n",
      " 14  국민의당        26140 non-null  float64       \n",
      " 15  기본소득당       26140 non-null  float64       \n",
      " 16  대안신당        26140 non-null  float64       \n",
      " 17  대한애국당       26140 non-null  float64       \n",
      " 18  더불어민주당      26140 non-null  float64       \n",
      " 19  더불어시민당      26140 non-null  float64       \n",
      " 20  무소속         26140 non-null  float64       \n",
      " 21  미래를향한전진4.0  26140 non-null  float64       \n",
      " 22  미래통합당       26140 non-null  float64       \n",
      " 23  미래한국당       26140 non-null  float64       \n",
      " 24  민생당         26140 non-null  float64       \n",
      " 25  민주평화당       26140 non-null  float64       \n",
      " 26  민중당         26140 non-null  float64       \n",
      " 27  바른미래당       26140 non-null  float64       \n",
      " 28  바른정당        26140 non-null  float64       \n",
      " 29  새누리당        26140 non-null  float64       \n",
      " 30  새로운보수당      26140 non-null  float64       \n",
      " 31  새민중정당       26140 non-null  float64       \n",
      " 32  시대전환        26140 non-null  float64       \n",
      " 33  열린민주당       26140 non-null  float64       \n",
      " 34  우리공화당       26140 non-null  float64       \n",
      " 35  자유한국당       26140 non-null  float64       \n",
      " 36  정의당         26140 non-null  float64       \n",
      "dtypes: datetime64[ns](2), float64(26), int64(1), object(8)\n",
      "memory usage: 7.4+ MB\n"
     ]
    }
   ],
   "source": [
    "bill_df.info()"
   ]
  },
  {
   "cell_type": "code",
   "execution_count": 27,
   "metadata": {
    "colab": {
     "base_uri": "https://localhost:8080/",
     "height": 278
    },
    "colab_type": "code",
    "executionInfo": {
     "elapsed": 3874,
     "status": "ok",
     "timestamp": 1598672362720,
     "user": {
      "displayName": "Haram Park",
      "photoUrl": "https://lh3.googleusercontent.com/a-/AOh14Gj3OsCszz1Owp0GjirIDs_OjWpL5Bp-AgvXhBfOlQ=s64",
      "userId": "01012964350621990937"
     },
     "user_tz": -540
    },
    "id": "b6suONMNwojt",
    "outputId": "34360b10-bccb-432a-a025-32370d610e33"
   },
   "outputs": [
    {
     "data": {
      "text/html": [
       "<div>\n",
       "<style scoped>\n",
       "    .dataframe tbody tr th:only-of-type {\n",
       "        vertical-align: middle;\n",
       "    }\n",
       "\n",
       "    .dataframe tbody tr th {\n",
       "        vertical-align: top;\n",
       "    }\n",
       "\n",
       "    .dataframe thead th {\n",
       "        text-align: right;\n",
       "    }\n",
       "</style>\n",
       "<table border=\"1\" class=\"dataframe\">\n",
       "  <thead>\n",
       "    <tr style=\"text-align: right;\">\n",
       "      <th></th>\n",
       "      <th>의안번호</th>\n",
       "      <th>의안명</th>\n",
       "      <th>제안자구분</th>\n",
       "      <th>제안일자</th>\n",
       "      <th>의결일자</th>\n",
       "      <th>의결결과</th>\n",
       "      <th>제안회기</th>\n",
       "      <th>제안이유</th>\n",
       "      <th>소관위원회</th>\n",
       "      <th>제안정당</th>\n",
       "      <th>...</th>\n",
       "      <th>바른정당</th>\n",
       "      <th>새누리당</th>\n",
       "      <th>새로운보수당</th>\n",
       "      <th>새민중정당</th>\n",
       "      <th>시대전환</th>\n",
       "      <th>열린민주당</th>\n",
       "      <th>우리공화당</th>\n",
       "      <th>자유한국당</th>\n",
       "      <th>정의당</th>\n",
       "      <th>의결처리기간</th>\n",
       "    </tr>\n",
       "  </thead>\n",
       "  <tbody>\n",
       "    <tr>\n",
       "      <th>0</th>\n",
       "      <td>2024996</td>\n",
       "      <td>집합건물의 소유 및 관리에 관한 법률 일부개정법률안</td>\n",
       "      <td>의원</td>\n",
       "      <td>2020-05-22</td>\n",
       "      <td>2020-05-29</td>\n",
       "      <td>임기만료폐기</td>\n",
       "      <td>제20대 (2016~2020) 제378회</td>\n",
       "      <td>아파트 등 공동주택은 「공동주택관리법」에 의해 체계적으로 관리되고 있는 반면  ...</td>\n",
       "      <td>법제사법위원회</td>\n",
       "      <td>[더불어민주당]</td>\n",
       "      <td>...</td>\n",
       "      <td>0.0</td>\n",
       "      <td>0.0</td>\n",
       "      <td>0.0</td>\n",
       "      <td>0.0</td>\n",
       "      <td>0.0</td>\n",
       "      <td>0.0</td>\n",
       "      <td>0.0</td>\n",
       "      <td>0.0</td>\n",
       "      <td>0.0</td>\n",
       "      <td>7.0</td>\n",
       "    </tr>\n",
       "    <tr>\n",
       "      <th>1</th>\n",
       "      <td>2024995</td>\n",
       "      <td>지방세법 일부개정법률안</td>\n",
       "      <td>의원</td>\n",
       "      <td>2020-05-22</td>\n",
       "      <td>2020-05-29</td>\n",
       "      <td>임기만료폐기</td>\n",
       "      <td>제20대 (2016~2020) 제378회</td>\n",
       "      <td>현행법상 아파트 등 주택에 대한 재산세 과세표준은 국토교통부가 해마다 「부동산 가격...</td>\n",
       "      <td>행정안전위원회</td>\n",
       "      <td>[더불어민주당]</td>\n",
       "      <td>...</td>\n",
       "      <td>0.0</td>\n",
       "      <td>0.0</td>\n",
       "      <td>0.0</td>\n",
       "      <td>0.0</td>\n",
       "      <td>0.0</td>\n",
       "      <td>0.0</td>\n",
       "      <td>0.0</td>\n",
       "      <td>0.0</td>\n",
       "      <td>0.0</td>\n",
       "      <td>7.0</td>\n",
       "    </tr>\n",
       "    <tr>\n",
       "      <th>2</th>\n",
       "      <td>2024994</td>\n",
       "      <td>법률용어 정비를 위한 정보위원회 소관 2개 법률 일부개정을 위한 법률안</td>\n",
       "      <td>위원장</td>\n",
       "      <td>2020-05-20</td>\n",
       "      <td>2020-05-20</td>\n",
       "      <td>원안가결</td>\n",
       "      <td>제20대 (2016~2020) 제378회</td>\n",
       "      <td>NaN</td>\n",
       "      <td>정보위원회</td>\n",
       "      <td>[더불어민주당]</td>\n",
       "      <td>...</td>\n",
       "      <td>0.0</td>\n",
       "      <td>0.0</td>\n",
       "      <td>0.0</td>\n",
       "      <td>0.0</td>\n",
       "      <td>0.0</td>\n",
       "      <td>0.0</td>\n",
       "      <td>0.0</td>\n",
       "      <td>0.0</td>\n",
       "      <td>0.0</td>\n",
       "      <td>0.0</td>\n",
       "    </tr>\n",
       "  </tbody>\n",
       "</table>\n",
       "<p>3 rows × 38 columns</p>\n",
       "</div>"
      ],
      "text/plain": [
       "      의안번호                                      의안명 제안자구분       제안일자  \\\n",
       "0  2024996             집합건물의 소유 및 관리에 관한 법률 일부개정법률안    의원 2020-05-22   \n",
       "1  2024995                             지방세법 일부개정법률안    의원 2020-05-22   \n",
       "2  2024994  법률용어 정비를 위한 정보위원회 소관 2개 법률 일부개정을 위한 법률안   위원장 2020-05-20   \n",
       "\n",
       "        의결일자    의결결과                    제안회기  \\\n",
       "0 2020-05-29  임기만료폐기  제20대 (2016~2020) 제378회   \n",
       "1 2020-05-29  임기만료폐기  제20대 (2016~2020) 제378회   \n",
       "2 2020-05-20    원안가결  제20대 (2016~2020) 제378회   \n",
       "\n",
       "                                                제안이유    소관위원회      제안정당  ...  \\\n",
       "0    아파트 등 공동주택은 「공동주택관리법」에 의해 체계적으로 관리되고 있는 반면  ...  법제사법위원회  [더불어민주당]  ...   \n",
       "1  현행법상 아파트 등 주택에 대한 재산세 과세표준은 국토교통부가 해마다 「부동산 가격...  행정안전위원회  [더불어민주당]  ...   \n",
       "2                                                NaN    정보위원회  [더불어민주당]  ...   \n",
       "\n",
       "  바른정당  새누리당  새로운보수당  새민중정당  시대전환  열린민주당  우리공화당  자유한국당  정의당  의결처리기간  \n",
       "0  0.0   0.0     0.0    0.0   0.0    0.0    0.0    0.0  0.0     7.0  \n",
       "1  0.0   0.0     0.0    0.0   0.0    0.0    0.0    0.0  0.0     7.0  \n",
       "2  0.0   0.0     0.0    0.0   0.0    0.0    0.0    0.0  0.0     0.0  \n",
       "\n",
       "[3 rows x 38 columns]"
      ]
     },
     "execution_count": 27,
     "metadata": {},
     "output_type": "execute_result"
    }
   ],
   "source": [
    "bill_df['의결처리기간'] = (bill_df['의결일자'] - bill_df['제안일자']).dt.days\n",
    "bill_df.head(3)"
   ]
  },
  {
   "cell_type": "code",
   "execution_count": 28,
   "metadata": {
    "colab": {
     "base_uri": "https://localhost:8080/",
     "height": 85
    },
    "colab_type": "code",
    "executionInfo": {
     "elapsed": 3862,
     "status": "ok",
     "timestamp": 1598672362720,
     "user": {
      "displayName": "Haram Park",
      "photoUrl": "https://lh3.googleusercontent.com/a-/AOh14Gj3OsCszz1Owp0GjirIDs_OjWpL5Bp-AgvXhBfOlQ=s64",
      "userId": "01012964350621990937"
     },
     "user_tz": -540
    },
    "id": "pE9n82ENwojw",
    "outputId": "73221f23-4388-4640-e02e-f717748606f6"
   },
   "outputs": [
    {
     "data": {
      "text/plain": [
       "법률반영여부\n",
       "미반영    758.283007\n",
       "반영     252.349020\n",
       "Name: 의결처리기간, dtype: float64"
      ]
     },
     "execution_count": 28,
     "metadata": {},
     "output_type": "execute_result"
    }
   ],
   "source": [
    "bill_df['의결처리기간'].groupby(bill_df['법률반영여부']).mean()"
   ]
  },
  {
   "cell_type": "code",
   "execution_count": 29,
   "metadata": {
    "colab": {
     "base_uri": "https://localhost:8080/",
     "height": 328
    },
    "colab_type": "code",
    "executionInfo": {
     "elapsed": 3857,
     "status": "ok",
     "timestamp": 1598672362720,
     "user": {
      "displayName": "Haram Park",
      "photoUrl": "https://lh3.googleusercontent.com/a-/AOh14Gj3OsCszz1Owp0GjirIDs_OjWpL5Bp-AgvXhBfOlQ=s64",
      "userId": "01012964350621990937"
     },
     "user_tz": -540
    },
    "id": "88M-_R7Xwojy",
    "outputId": "323f248e-598e-49b7-8583-13771cb92cb2"
   },
   "outputs": [
    {
     "data": {
      "text/html": [
       "<div>\n",
       "<style scoped>\n",
       "    .dataframe tbody tr th:only-of-type {\n",
       "        vertical-align: middle;\n",
       "    }\n",
       "\n",
       "    .dataframe tbody tr th {\n",
       "        vertical-align: top;\n",
       "    }\n",
       "\n",
       "    .dataframe thead th {\n",
       "        text-align: right;\n",
       "    }\n",
       "</style>\n",
       "<table border=\"1\" class=\"dataframe\">\n",
       "  <thead>\n",
       "    <tr style=\"text-align: right;\">\n",
       "      <th></th>\n",
       "      <th></th>\n",
       "      <th>의결처리기간</th>\n",
       "    </tr>\n",
       "    <tr>\n",
       "      <th>법률반영여부</th>\n",
       "      <th>의결결과</th>\n",
       "      <th></th>\n",
       "    </tr>\n",
       "  </thead>\n",
       "  <tbody>\n",
       "    <tr>\n",
       "      <th rowspan=\"4\" valign=\"top\">미반영</th>\n",
       "      <th>부결</th>\n",
       "      <td>217.500000</td>\n",
       "    </tr>\n",
       "    <tr>\n",
       "      <th>임기만료폐기</th>\n",
       "      <td>772.238419</td>\n",
       "    </tr>\n",
       "    <tr>\n",
       "      <th>철회</th>\n",
       "      <td>75.933628</td>\n",
       "    </tr>\n",
       "    <tr>\n",
       "      <th>폐기</th>\n",
       "      <td>395.991736</td>\n",
       "    </tr>\n",
       "    <tr>\n",
       "      <th rowspan=\"4\" valign=\"top\">반영</th>\n",
       "      <th>대안반영폐기</th>\n",
       "      <td>320.234381</td>\n",
       "    </tr>\n",
       "    <tr>\n",
       "      <th>수정가결</th>\n",
       "      <td>280.439675</td>\n",
       "    </tr>\n",
       "    <tr>\n",
       "      <th>수정안반영폐기</th>\n",
       "      <td>207.975610</td>\n",
       "    </tr>\n",
       "    <tr>\n",
       "      <th>원안가결</th>\n",
       "      <td>68.347672</td>\n",
       "    </tr>\n",
       "  </tbody>\n",
       "</table>\n",
       "</div>"
      ],
      "text/plain": [
       "                    의결처리기간\n",
       "법률반영여부 의결결과               \n",
       "미반영    부결       217.500000\n",
       "       임기만료폐기   772.238419\n",
       "       철회        75.933628\n",
       "       폐기       395.991736\n",
       "반영     대안반영폐기   320.234381\n",
       "       수정가결     280.439675\n",
       "       수정안반영폐기  207.975610\n",
       "       원안가결      68.347672"
      ]
     },
     "execution_count": 29,
     "metadata": {},
     "output_type": "execute_result"
    }
   ],
   "source": [
    "pend_df = pd.pivot_table(bill_df, \n",
    "                        index=['법률반영여부', '의결결과'],\n",
    "                        values=['의결처리기간']).fillna(0)\n",
    "pend_df"
   ]
  },
  {
   "cell_type": "code",
   "execution_count": 30,
   "metadata": {
    "colab": {
     "base_uri": "https://localhost:8080/",
     "height": 328
    },
    "colab_type": "code",
    "executionInfo": {
     "elapsed": 3839,
     "status": "ok",
     "timestamp": 1598672362721,
     "user": {
      "displayName": "Haram Park",
      "photoUrl": "https://lh3.googleusercontent.com/a-/AOh14Gj3OsCszz1Owp0GjirIDs_OjWpL5Bp-AgvXhBfOlQ=s64",
      "userId": "01012964350621990937"
     },
     "user_tz": -540
    },
    "id": "wWydUAWdwoj0",
    "outputId": "246d80e2-1d5b-406f-b0f9-ccdfd6095434"
   },
   "outputs": [
    {
     "data": {
      "text/html": [
       "<div>\n",
       "<style scoped>\n",
       "    .dataframe tbody tr th:only-of-type {\n",
       "        vertical-align: middle;\n",
       "    }\n",
       "\n",
       "    .dataframe tbody tr th {\n",
       "        vertical-align: top;\n",
       "    }\n",
       "\n",
       "    .dataframe thead th {\n",
       "        text-align: right;\n",
       "    }\n",
       "</style>\n",
       "<table border=\"1\" class=\"dataframe\">\n",
       "  <thead>\n",
       "    <tr style=\"text-align: right;\">\n",
       "      <th></th>\n",
       "      <th></th>\n",
       "      <th>의결처리기간</th>\n",
       "      <th>의결결과</th>\n",
       "    </tr>\n",
       "    <tr>\n",
       "      <th>법률반영여부</th>\n",
       "      <th>의결결과</th>\n",
       "      <th></th>\n",
       "      <th></th>\n",
       "    </tr>\n",
       "  </thead>\n",
       "  <tbody>\n",
       "    <tr>\n",
       "      <th rowspan=\"4\" valign=\"top\">미반영</th>\n",
       "      <th>부결</th>\n",
       "      <td>217.500000</td>\n",
       "      <td>2</td>\n",
       "    </tr>\n",
       "    <tr>\n",
       "      <th>임기만료폐기</th>\n",
       "      <td>772.238419</td>\n",
       "      <td>14269</td>\n",
       "    </tr>\n",
       "    <tr>\n",
       "      <th>철회</th>\n",
       "      <td>75.933628</td>\n",
       "      <td>226</td>\n",
       "    </tr>\n",
       "    <tr>\n",
       "      <th>폐기</th>\n",
       "      <td>395.991736</td>\n",
       "      <td>121</td>\n",
       "    </tr>\n",
       "    <tr>\n",
       "      <th rowspan=\"4\" valign=\"top\">반영</th>\n",
       "      <th>대안반영폐기</th>\n",
       "      <td>320.234381</td>\n",
       "      <td>5026</td>\n",
       "    </tr>\n",
       "    <tr>\n",
       "      <th>수정가결</th>\n",
       "      <td>280.439675</td>\n",
       "      <td>862</td>\n",
       "    </tr>\n",
       "    <tr>\n",
       "      <th>수정안반영폐기</th>\n",
       "      <td>207.975610</td>\n",
       "      <td>41</td>\n",
       "    </tr>\n",
       "    <tr>\n",
       "      <th>원안가결</th>\n",
       "      <td>68.347672</td>\n",
       "      <td>1976</td>\n",
       "    </tr>\n",
       "  </tbody>\n",
       "</table>\n",
       "</div>"
      ],
      "text/plain": [
       "                    의결처리기간   의결결과\n",
       "법률반영여부 의결결과                      \n",
       "미반영    부결       217.500000      2\n",
       "       임기만료폐기   772.238419  14269\n",
       "       철회        75.933628    226\n",
       "       폐기       395.991736    121\n",
       "반영     대안반영폐기   320.234381   5026\n",
       "       수정가결     280.439675    862\n",
       "       수정안반영폐기  207.975610     41\n",
       "       원안가결      68.347672   1976"
      ]
     },
     "execution_count": 30,
     "metadata": {},
     "output_type": "execute_result"
    }
   ],
   "source": [
    "# 의결처리기간 - 평균 \n",
    "pd.merge(pend_df, bill_tmp, left_on='의결결과', right_index=True)"
   ]
  },
  {
   "cell_type": "code",
   "execution_count": 31,
   "metadata": {
    "colab": {
     "base_uri": "https://localhost:8080/",
     "height": 51
    },
    "colab_type": "code",
    "executionInfo": {
     "elapsed": 3830,
     "status": "ok",
     "timestamp": 1598672362723,
     "user": {
      "displayName": "Haram Park",
      "photoUrl": "https://lh3.googleusercontent.com/a-/AOh14Gj3OsCszz1Owp0GjirIDs_OjWpL5Bp-AgvXhBfOlQ=s64",
      "userId": "01012964350621990937"
     },
     "user_tz": -540
    },
    "id": "tT040ISpwoj3",
    "outputId": "fc5b0022-a3e7-4f2b-d5da-7c645dd0990a"
   },
   "outputs": [
    {
     "name": "stdout",
     "output_type": "stream",
     "text": [
      "미반영 평균 소요시간:  365.41594570148646\n",
      "반영 평균 소요시간:  219.24933455313925\n"
     ]
    }
   ],
   "source": [
    "print('미반영 평균 소요시간: ', pend_df.loc['미반영','의결처리기간'].mean())\n",
    "print('반영 평균 소요시간: ', pend_df.loc['반영','의결처리기간'].mean())"
   ]
  },
  {
   "cell_type": "markdown",
   "metadata": {
    "colab_type": "text",
    "id": "_cSogET2woj7"
   },
   "source": [
    "#### 소관위원회별 법률반영여부 분석"
   ]
  },
  {
   "cell_type": "markdown",
   "metadata": {
    "colab_type": "text",
    "id": "ynypmQNcwokA"
   },
   "source": [
    "법률반영여부에 대한 기준은 의안정보시스템에 따른 것. 그러나 대안반영폐기, 수정안반영폐기는 법률안이 되지 못하므로 이것이 과연 법률이 반영 되었다 볼 수 있는가의 문제도 존재. \n",
    "\n",
    "> 일반적으로 법률안들은 임기만료폐기, 대안반영폐기, 폐기, 철회, 부결, 공포 등 6가지 상태 중 하나로 끝나게 된다. 그 중에서 공포된 법률안만이 성공적으로 “통과”되었다고 볼 수 있으며, 공포 단계에 이르기 전에 현재 국회의 임기가 만료되거나(임기만료폐기), 같은 목적을 가진 다른 대안이 반영되어 원안이 폐 기되거나(대안반영폐기), 발의한 의원들이 철회를 하는 경우 법률안은 법이 되지 못한다. 본 연구에서는 법률안의 발의 시점, 즉 접수 단계에서 해당 법률안이 공포될 것인지의 여부를 예측하는 것을 목표로 한다. (선행연구) \n",
    "\n",
    "### 법률공포여부 분석"
   ]
  },
  {
   "cell_type": "code",
   "execution_count": 32,
   "metadata": {
    "colab": {},
    "colab_type": "code",
    "executionInfo": {
     "elapsed": 3748,
     "status": "ok",
     "timestamp": 1598672362725,
     "user": {
      "displayName": "Haram Park",
      "photoUrl": "https://lh3.googleusercontent.com/a-/AOh14Gj3OsCszz1Owp0GjirIDs_OjWpL5Bp-AgvXhBfOlQ=s64",
      "userId": "01012964350621990937"
     },
     "user_tz": -540
    },
    "id": "aut8H3RYwokE"
   },
   "outputs": [],
   "source": [
    "proclaim_list = ['원안가결', '수정가결']\n",
    "reject_list = ['임기만료폐기', '대안반영폐기', '철회', '폐기', '부결', '수정안반영폐기','계류']"
   ]
  },
  {
   "cell_type": "code",
   "execution_count": 33,
   "metadata": {
    "colab": {},
    "colab_type": "code",
    "executionInfo": {
     "elapsed": 3744,
     "status": "ok",
     "timestamp": 1598672362726,
     "user": {
      "displayName": "Haram Park",
      "photoUrl": "https://lh3.googleusercontent.com/a-/AOh14Gj3OsCszz1Owp0GjirIDs_OjWpL5Bp-AgvXhBfOlQ=s64",
      "userId": "01012964350621990937"
     },
     "user_tz": -540
    },
    "id": "zdBWs6XEwokH"
   },
   "outputs": [],
   "source": [
    "bill_df.loc[bill_df['의결결과'].isin(proclaim_list), '법률공포여부'] = '공포'\n",
    "bill_df.loc[bill_df['의결결과'].isin(reject_list), '법률공포여부'] = '미공포'"
   ]
  },
  {
   "cell_type": "code",
   "execution_count": 34,
   "metadata": {
    "colab": {
     "base_uri": "https://localhost:8080/",
     "height": 68
    },
    "colab_type": "code",
    "executionInfo": {
     "elapsed": 3735,
     "status": "ok",
     "timestamp": 1598672362727,
     "user": {
      "displayName": "Haram Park",
      "photoUrl": "https://lh3.googleusercontent.com/a-/AOh14Gj3OsCszz1Owp0GjirIDs_OjWpL5Bp-AgvXhBfOlQ=s64",
      "userId": "01012964350621990937"
     },
     "user_tz": -540
    },
    "id": "fZG23qsWwokN",
    "outputId": "ac963175-1909-4c37-f884-74271270630a"
   },
   "outputs": [
    {
     "data": {
      "text/plain": [
       "미공포    23302\n",
       "공포      2838\n",
       "Name: 법률공포여부, dtype: int64"
      ]
     },
     "execution_count": 34,
     "metadata": {},
     "output_type": "execute_result"
    }
   ],
   "source": [
    "bill_df['법률공포여부'].value_counts()"
   ]
  },
  {
   "cell_type": "code",
   "execution_count": null,
   "metadata": {},
   "outputs": [],
   "source": []
  },
  {
   "cell_type": "markdown",
   "metadata": {
    "colab_type": "text",
    "id": "pVCFBwGtwokO"
   },
   "source": [
    "#### 소관위원회별 법률공포여부 분석"
   ]
  },
  {
   "cell_type": "markdown",
   "metadata": {
    "colab_type": "text",
    "id": "THmuQxDswokP"
   },
   "source": [
    "국회법 제4장 회의 제2절 발의, 동의, 철회와 번안 \n",
    "\n",
    "> 제33조 3번 의안이 발의 또는 제출되었을 때에는 의장은 이것을 국회에 보고한 후 적당한 위원회에 부탁하고 그 심사가 끝난 뒤에 본회의에 부의한다. **단, 법률안 이외의 의안은 국회의 결의에 의하여 위원회의 심사를 생략할 수 있다.**\n",
    "\n",
    "**적어도 100개 이상**의 데이터가 있는 것으로 분석해야"
   ]
  },
  {
   "cell_type": "code",
   "execution_count": 35,
   "metadata": {},
   "outputs": [],
   "source": [
    "comm_df = bill_df.copy()"
   ]
  },
  {
   "cell_type": "code",
   "execution_count": 36,
   "metadata": {},
   "outputs": [],
   "source": [
    "comm_df['소관위원회'] = comm_df['소관위원회'].fillna('미정')"
   ]
  },
  {
   "cell_type": "code",
   "execution_count": 37,
   "metadata": {
    "colab": {
     "base_uri": "https://localhost:8080/",
     "height": 122
    },
    "colab_type": "code",
    "executionInfo": {
     "elapsed": 3731,
     "status": "ok",
     "timestamp": 1598672362728,
     "user": {
      "displayName": "Haram Park",
      "photoUrl": "https://lh3.googleusercontent.com/a-/AOh14Gj3OsCszz1Owp0GjirIDs_OjWpL5Bp-AgvXhBfOlQ=s64",
      "userId": "01012964350621990937"
     },
     "user_tz": -540
    },
    "id": "q_OdjpozwokP",
    "outputId": "c9c92cec-3ff8-4b54-9396-441baf5a4e29"
   },
   "outputs": [
    {
     "name": "stdout",
     "output_type": "stream",
     "text": [
      "상설 특별위원회 리스트: \n",
      " ['헌법개정 및 정치개혁 특별위원회', '정치개혁 특별위원회', '사법개혁 특별위원회'] \n",
      "\n",
      "상임위원회 리스트: \n",
      " ['법제사법위원회', '행정안전위원회', '정보위원회', '여성가족위원회', '문화체육관광위원회', '국회운영위원회', '과학기술정보방송통신위원회', '기획재정위원회', '국토교통위원회', '환경노동위원회', '외교통일위원회', '농림축산식품해양수산위원회', '정무위원회', '국방위원회', '교육위원회', '보건복지위원회', '산업통상자원중소벤처기업위원회', '교육문화체육관광위원회', '안전행정위원회', '산업통상자원위원회', '미래창조과학방송통신위원회']\n"
     ]
    }
   ],
   "source": [
    "comm = comm_df['소관위원회'].unique()\n",
    "special_comm = [com for com in comm if com.endswith('특별위원회') == True]\n",
    "basic_comm = [com for com in comm if com.endswith('특별위원회') == False]\n",
    "basic_comm.remove('미정')\n",
    "\n",
    "print('상설 특별위원회 리스트:', '\\n', special_comm, '\\n')\n",
    "print('상임위원회 리스트:', '\\n', basic_comm)"
   ]
  },
  {
   "cell_type": "code",
   "execution_count": 38,
   "metadata": {
    "colab": {},
    "colab_type": "code",
    "executionInfo": {
     "elapsed": 3727,
     "status": "ok",
     "timestamp": 1598672362728,
     "user": {
      "displayName": "Haram Park",
      "photoUrl": "https://lh3.googleusercontent.com/a-/AOh14Gj3OsCszz1Owp0GjirIDs_OjWpL5Bp-AgvXhBfOlQ=s64",
      "userId": "01012964350621990937"
     },
     "user_tz": -540
    },
    "id": "jy8Rdy1BwokR"
   },
   "outputs": [],
   "source": [
    "comm_df.loc[comm_df['소관위원회'].isin(basic_comm), '위원회 분류'] = '상임위원회'\n",
    "comm_df.loc[comm_df['소관위원회'].isin(special_comm), '위원회 분류'] = '특별위원회'"
   ]
  },
  {
   "cell_type": "code",
   "execution_count": null,
   "metadata": {
    "colab": {},
    "colab_type": "code",
    "executionInfo": {
     "elapsed": 3721,
     "status": "ok",
     "timestamp": 1598672362729,
     "user": {
      "displayName": "Haram Park",
      "photoUrl": "https://lh3.googleusercontent.com/a-/AOh14Gj3OsCszz1Owp0GjirIDs_OjWpL5Bp-AgvXhBfOlQ=s64",
      "userId": "01012964350621990937"
     },
     "user_tz": -540
    },
    "id": "R3ojbdP9wokT"
   },
   "outputs": [],
   "source": []
  },
  {
   "cell_type": "markdown",
   "metadata": {
    "colab_type": "text",
    "id": "PlYNSXhIwokV"
   },
   "source": [
    "#### 상임위원회만 분석"
   ]
  },
  {
   "cell_type": "code",
   "execution_count": 39,
   "metadata": {
    "colab": {
     "base_uri": "https://localhost:8080/",
     "height": 408
    },
    "colab_type": "code",
    "executionInfo": {
     "elapsed": 3716,
     "status": "ok",
     "timestamp": 1598672362729,
     "user": {
      "displayName": "Haram Park",
      "photoUrl": "https://lh3.googleusercontent.com/a-/AOh14Gj3OsCszz1Owp0GjirIDs_OjWpL5Bp-AgvXhBfOlQ=s64",
      "userId": "01012964350621990937"
     },
     "user_tz": -540
    },
    "id": "wZwu09YmwokV",
    "outputId": "7c4c6f8b-54ec-4564-a86f-ad7e12221529"
   },
   "outputs": [
    {
     "data": {
      "text/html": [
       "<div>\n",
       "<style scoped>\n",
       "    .dataframe tbody tr th:only-of-type {\n",
       "        vertical-align: middle;\n",
       "    }\n",
       "\n",
       "    .dataframe tbody tr th {\n",
       "        vertical-align: top;\n",
       "    }\n",
       "\n",
       "    .dataframe thead th {\n",
       "        text-align: right;\n",
       "    }\n",
       "</style>\n",
       "<table border=\"1\" class=\"dataframe\">\n",
       "  <thead>\n",
       "    <tr style=\"text-align: right;\">\n",
       "      <th></th>\n",
       "      <th>의안번호</th>\n",
       "      <th>의안명</th>\n",
       "      <th>제안자구분</th>\n",
       "      <th>제안일자</th>\n",
       "      <th>의결일자</th>\n",
       "      <th>의결결과</th>\n",
       "      <th>제안회기</th>\n",
       "      <th>제안이유</th>\n",
       "      <th>소관위원회</th>\n",
       "      <th>제안정당</th>\n",
       "      <th>...</th>\n",
       "      <th>새로운보수당</th>\n",
       "      <th>새민중정당</th>\n",
       "      <th>시대전환</th>\n",
       "      <th>열린민주당</th>\n",
       "      <th>우리공화당</th>\n",
       "      <th>자유한국당</th>\n",
       "      <th>정의당</th>\n",
       "      <th>의결처리기간</th>\n",
       "      <th>법률공포여부</th>\n",
       "      <th>위원회 분류</th>\n",
       "    </tr>\n",
       "  </thead>\n",
       "  <tbody>\n",
       "    <tr>\n",
       "      <th>0</th>\n",
       "      <td>2024996</td>\n",
       "      <td>집합건물의 소유 및 관리에 관한 법률 일부개정법률안</td>\n",
       "      <td>의원</td>\n",
       "      <td>2020-05-22</td>\n",
       "      <td>2020-05-29</td>\n",
       "      <td>임기만료폐기</td>\n",
       "      <td>제20대 (2016~2020) 제378회</td>\n",
       "      <td>아파트 등 공동주택은 「공동주택관리법」에 의해 체계적으로 관리되고 있는 반면  ...</td>\n",
       "      <td>법제사법위원회</td>\n",
       "      <td>[더불어민주당]</td>\n",
       "      <td>...</td>\n",
       "      <td>0.0</td>\n",
       "      <td>0.0</td>\n",
       "      <td>0.0</td>\n",
       "      <td>0.0</td>\n",
       "      <td>0.0</td>\n",
       "      <td>0.0</td>\n",
       "      <td>0.0</td>\n",
       "      <td>7.0</td>\n",
       "      <td>미공포</td>\n",
       "      <td>상임위원회</td>\n",
       "    </tr>\n",
       "    <tr>\n",
       "      <th>1</th>\n",
       "      <td>2024995</td>\n",
       "      <td>지방세법 일부개정법률안</td>\n",
       "      <td>의원</td>\n",
       "      <td>2020-05-22</td>\n",
       "      <td>2020-05-29</td>\n",
       "      <td>임기만료폐기</td>\n",
       "      <td>제20대 (2016~2020) 제378회</td>\n",
       "      <td>현행법상 아파트 등 주택에 대한 재산세 과세표준은 국토교통부가 해마다 「부동산 가격...</td>\n",
       "      <td>행정안전위원회</td>\n",
       "      <td>[더불어민주당]</td>\n",
       "      <td>...</td>\n",
       "      <td>0.0</td>\n",
       "      <td>0.0</td>\n",
       "      <td>0.0</td>\n",
       "      <td>0.0</td>\n",
       "      <td>0.0</td>\n",
       "      <td>0.0</td>\n",
       "      <td>0.0</td>\n",
       "      <td>7.0</td>\n",
       "      <td>미공포</td>\n",
       "      <td>상임위원회</td>\n",
       "    </tr>\n",
       "    <tr>\n",
       "      <th>2</th>\n",
       "      <td>2024994</td>\n",
       "      <td>법률용어 정비를 위한 정보위원회 소관 2개 법률 일부개정을 위한 법률안</td>\n",
       "      <td>위원장</td>\n",
       "      <td>2020-05-20</td>\n",
       "      <td>2020-05-20</td>\n",
       "      <td>원안가결</td>\n",
       "      <td>제20대 (2016~2020) 제378회</td>\n",
       "      <td>NaN</td>\n",
       "      <td>정보위원회</td>\n",
       "      <td>[더불어민주당]</td>\n",
       "      <td>...</td>\n",
       "      <td>0.0</td>\n",
       "      <td>0.0</td>\n",
       "      <td>0.0</td>\n",
       "      <td>0.0</td>\n",
       "      <td>0.0</td>\n",
       "      <td>0.0</td>\n",
       "      <td>0.0</td>\n",
       "      <td>0.0</td>\n",
       "      <td>공포</td>\n",
       "      <td>상임위원회</td>\n",
       "    </tr>\n",
       "    <tr>\n",
       "      <th>3</th>\n",
       "      <td>2024993</td>\n",
       "      <td>진실·화해를 위한 과거사정리 기본법 일부개정법률안</td>\n",
       "      <td>위원장</td>\n",
       "      <td>2020-05-20</td>\n",
       "      <td>2020-05-20</td>\n",
       "      <td>원안가결</td>\n",
       "      <td>제20대 (2016~2020) 제378회</td>\n",
       "      <td>NaN</td>\n",
       "      <td>행정안전위원회</td>\n",
       "      <td>[더불어민주당]</td>\n",
       "      <td>...</td>\n",
       "      <td>0.0</td>\n",
       "      <td>0.0</td>\n",
       "      <td>0.0</td>\n",
       "      <td>0.0</td>\n",
       "      <td>0.0</td>\n",
       "      <td>0.0</td>\n",
       "      <td>0.0</td>\n",
       "      <td>0.0</td>\n",
       "      <td>공포</td>\n",
       "      <td>상임위원회</td>\n",
       "    </tr>\n",
       "    <tr>\n",
       "      <th>4</th>\n",
       "      <td>2024992</td>\n",
       "      <td>화재예방, 소방시설 설치·유지 및 안전관리에 관한 법률 일부개정법률안</td>\n",
       "      <td>위원장</td>\n",
       "      <td>2020-05-20</td>\n",
       "      <td>2020-05-20</td>\n",
       "      <td>원안가결</td>\n",
       "      <td>제20대 (2016~2020) 제378회</td>\n",
       "      <td>NaN</td>\n",
       "      <td>행정안전위원회</td>\n",
       "      <td>[더불어민주당]</td>\n",
       "      <td>...</td>\n",
       "      <td>0.0</td>\n",
       "      <td>0.0</td>\n",
       "      <td>0.0</td>\n",
       "      <td>0.0</td>\n",
       "      <td>0.0</td>\n",
       "      <td>0.0</td>\n",
       "      <td>0.0</td>\n",
       "      <td>0.0</td>\n",
       "      <td>공포</td>\n",
       "      <td>상임위원회</td>\n",
       "    </tr>\n",
       "  </tbody>\n",
       "</table>\n",
       "<p>5 rows × 40 columns</p>\n",
       "</div>"
      ],
      "text/plain": [
       "      의안번호                                      의안명 제안자구분       제안일자  \\\n",
       "0  2024996             집합건물의 소유 및 관리에 관한 법률 일부개정법률안    의원 2020-05-22   \n",
       "1  2024995                             지방세법 일부개정법률안    의원 2020-05-22   \n",
       "2  2024994  법률용어 정비를 위한 정보위원회 소관 2개 법률 일부개정을 위한 법률안   위원장 2020-05-20   \n",
       "3  2024993              진실·화해를 위한 과거사정리 기본법 일부개정법률안   위원장 2020-05-20   \n",
       "4  2024992   화재예방, 소방시설 설치·유지 및 안전관리에 관한 법률 일부개정법률안   위원장 2020-05-20   \n",
       "\n",
       "        의결일자    의결결과                    제안회기  \\\n",
       "0 2020-05-29  임기만료폐기  제20대 (2016~2020) 제378회   \n",
       "1 2020-05-29  임기만료폐기  제20대 (2016~2020) 제378회   \n",
       "2 2020-05-20    원안가결  제20대 (2016~2020) 제378회   \n",
       "3 2020-05-20    원안가결  제20대 (2016~2020) 제378회   \n",
       "4 2020-05-20    원안가결  제20대 (2016~2020) 제378회   \n",
       "\n",
       "                                                제안이유    소관위원회      제안정당  ...  \\\n",
       "0    아파트 등 공동주택은 「공동주택관리법」에 의해 체계적으로 관리되고 있는 반면  ...  법제사법위원회  [더불어민주당]  ...   \n",
       "1  현행법상 아파트 등 주택에 대한 재산세 과세표준은 국토교통부가 해마다 「부동산 가격...  행정안전위원회  [더불어민주당]  ...   \n",
       "2                                                NaN    정보위원회  [더불어민주당]  ...   \n",
       "3                                                NaN  행정안전위원회  [더불어민주당]  ...   \n",
       "4                                                NaN  행정안전위원회  [더불어민주당]  ...   \n",
       "\n",
       "  새로운보수당  새민중정당  시대전환  열린민주당  우리공화당  자유한국당  정의당  의결처리기간  법률공포여부  위원회 분류  \n",
       "0    0.0    0.0   0.0    0.0    0.0    0.0  0.0     7.0     미공포   상임위원회  \n",
       "1    0.0    0.0   0.0    0.0    0.0    0.0  0.0     7.0     미공포   상임위원회  \n",
       "2    0.0    0.0   0.0    0.0    0.0    0.0  0.0     0.0      공포   상임위원회  \n",
       "3    0.0    0.0   0.0    0.0    0.0    0.0  0.0     0.0      공포   상임위원회  \n",
       "4    0.0    0.0   0.0    0.0    0.0    0.0  0.0     0.0      공포   상임위원회  \n",
       "\n",
       "[5 rows x 40 columns]"
      ]
     },
     "execution_count": 39,
     "metadata": {},
     "output_type": "execute_result"
    }
   ],
   "source": [
    "comm_df1 = comm_df[comm_df['위원회 분류'] == '상임위원회']\n",
    "comm_df1.head()"
   ]
  },
  {
   "cell_type": "code",
   "execution_count": 40,
   "metadata": {
    "colab": {
     "base_uri": "https://localhost:8080/",
     "height": 204
    },
    "colab_type": "code",
    "executionInfo": {
     "elapsed": 4018,
     "status": "ok",
     "timestamp": 1598672363035,
     "user": {
      "displayName": "Haram Park",
      "photoUrl": "https://lh3.googleusercontent.com/a-/AOh14Gj3OsCszz1Owp0GjirIDs_OjWpL5Bp-AgvXhBfOlQ=s64",
      "userId": "01012964350621990937"
     },
     "user_tz": -540
    },
    "id": "ZHAWMWXlwokX",
    "outputId": "db33da5a-788a-496e-fd58-3e2346f55b42"
   },
   "outputs": [
    {
     "data": {
      "text/html": [
       "<div>\n",
       "<style scoped>\n",
       "    .dataframe tbody tr th:only-of-type {\n",
       "        vertical-align: middle;\n",
       "    }\n",
       "\n",
       "    .dataframe tbody tr th {\n",
       "        vertical-align: top;\n",
       "    }\n",
       "\n",
       "    .dataframe thead th {\n",
       "        text-align: right;\n",
       "    }\n",
       "</style>\n",
       "<table border=\"1\" class=\"dataframe\">\n",
       "  <thead>\n",
       "    <tr style=\"text-align: right;\">\n",
       "      <th></th>\n",
       "      <th>소관위원회</th>\n",
       "      <th>공포</th>\n",
       "      <th>미공포</th>\n",
       "    </tr>\n",
       "  </thead>\n",
       "  <tbody>\n",
       "    <tr>\n",
       "      <th>0</th>\n",
       "      <td>과학기술정보방송통신위원회</td>\n",
       "      <td>111</td>\n",
       "      <td>942</td>\n",
       "    </tr>\n",
       "    <tr>\n",
       "      <th>1</th>\n",
       "      <td>교육문화체육관광위원회</td>\n",
       "      <td>109</td>\n",
       "      <td>124</td>\n",
       "    </tr>\n",
       "    <tr>\n",
       "      <th>2</th>\n",
       "      <td>교육위원회</td>\n",
       "      <td>91</td>\n",
       "      <td>977</td>\n",
       "    </tr>\n",
       "    <tr>\n",
       "      <th>3</th>\n",
       "      <td>국방위원회</td>\n",
       "      <td>58</td>\n",
       "      <td>471</td>\n",
       "    </tr>\n",
       "    <tr>\n",
       "      <th>4</th>\n",
       "      <td>국토교통위원회</td>\n",
       "      <td>393</td>\n",
       "      <td>2030</td>\n",
       "    </tr>\n",
       "  </tbody>\n",
       "</table>\n",
       "</div>"
      ],
      "text/plain": [
       "           소관위원회   공포   미공포\n",
       "0  과학기술정보방송통신위원회  111   942\n",
       "1    교육문화체육관광위원회  109   124\n",
       "2          교육위원회   91   977\n",
       "3          국방위원회   58   471\n",
       "4        국토교통위원회  393  2030"
      ]
     },
     "execution_count": 40,
     "metadata": {},
     "output_type": "execute_result"
    }
   ],
   "source": [
    "comm_df2 = pd.DataFrame(comm_df1.groupby('소관위원회')['법률공포여부'].value_counts()).unstack().fillna(0)\n",
    "comm_df2.reset_index(inplace=True)\n",
    "comm_df2.columns = ['소관위원회','공포','미공포']\n",
    "comm_df2.head()"
   ]
  },
  {
   "cell_type": "code",
   "execution_count": 41,
   "metadata": {
    "colab": {
     "base_uri": "https://localhost:8080/",
     "height": 700
    },
    "colab_type": "code",
    "executionInfo": {
     "elapsed": 4013,
     "status": "ok",
     "timestamp": 1598672363035,
     "user": {
      "displayName": "Haram Park",
      "photoUrl": "https://lh3.googleusercontent.com/a-/AOh14Gj3OsCszz1Owp0GjirIDs_OjWpL5Bp-AgvXhBfOlQ=s64",
      "userId": "01012964350621990937"
     },
     "user_tz": -540
    },
    "id": "aVDirn1uwokZ",
    "outputId": "69e2e0dc-c13e-4db2-ea53-7078104abe33"
   },
   "outputs": [
    {
     "data": {
      "text/html": [
       "<div>\n",
       "<style scoped>\n",
       "    .dataframe tbody tr th:only-of-type {\n",
       "        vertical-align: middle;\n",
       "    }\n",
       "\n",
       "    .dataframe tbody tr th {\n",
       "        vertical-align: top;\n",
       "    }\n",
       "\n",
       "    .dataframe thead th {\n",
       "        text-align: right;\n",
       "    }\n",
       "</style>\n",
       "<table border=\"1\" class=\"dataframe\">\n",
       "  <thead>\n",
       "    <tr style=\"text-align: right;\">\n",
       "      <th></th>\n",
       "      <th>소관위원회</th>\n",
       "      <th>공포</th>\n",
       "      <th>미공포</th>\n",
       "      <th>합계</th>\n",
       "      <th>공포율</th>\n",
       "    </tr>\n",
       "  </thead>\n",
       "  <tbody>\n",
       "    <tr>\n",
       "      <th>9</th>\n",
       "      <td>미래창조과학방송통신위원회</td>\n",
       "      <td>7</td>\n",
       "      <td>4</td>\n",
       "      <td>11</td>\n",
       "      <td>64.0</td>\n",
       "    </tr>\n",
       "    <tr>\n",
       "      <th>12</th>\n",
       "      <td>산업통상자원위원회</td>\n",
       "      <td>58</td>\n",
       "      <td>38</td>\n",
       "      <td>96</td>\n",
       "      <td>60.0</td>\n",
       "    </tr>\n",
       "    <tr>\n",
       "      <th>1</th>\n",
       "      <td>교육문화체육관광위원회</td>\n",
       "      <td>109</td>\n",
       "      <td>124</td>\n",
       "      <td>233</td>\n",
       "      <td>47.0</td>\n",
       "    </tr>\n",
       "    <tr>\n",
       "      <th>7</th>\n",
       "      <td>농림축산식품해양수산위원회</td>\n",
       "      <td>446</td>\n",
       "      <td>1248</td>\n",
       "      <td>1694</td>\n",
       "      <td>26.0</td>\n",
       "    </tr>\n",
       "    <tr>\n",
       "      <th>14</th>\n",
       "      <td>안전행정위원회</td>\n",
       "      <td>33</td>\n",
       "      <td>109</td>\n",
       "      <td>142</td>\n",
       "      <td>23.0</td>\n",
       "    </tr>\n",
       "    <tr>\n",
       "      <th>4</th>\n",
       "      <td>국토교통위원회</td>\n",
       "      <td>393</td>\n",
       "      <td>2030</td>\n",
       "      <td>2423</td>\n",
       "      <td>16.0</td>\n",
       "    </tr>\n",
       "    <tr>\n",
       "      <th>15</th>\n",
       "      <td>여성가족위원회</td>\n",
       "      <td>65</td>\n",
       "      <td>395</td>\n",
       "      <td>460</td>\n",
       "      <td>14.0</td>\n",
       "    </tr>\n",
       "    <tr>\n",
       "      <th>13</th>\n",
       "      <td>산업통상자원중소벤처기업위원회</td>\n",
       "      <td>199</td>\n",
       "      <td>1213</td>\n",
       "      <td>1412</td>\n",
       "      <td>14.0</td>\n",
       "    </tr>\n",
       "    <tr>\n",
       "      <th>0</th>\n",
       "      <td>과학기술정보방송통신위원회</td>\n",
       "      <td>111</td>\n",
       "      <td>942</td>\n",
       "      <td>1053</td>\n",
       "      <td>11.0</td>\n",
       "    </tr>\n",
       "    <tr>\n",
       "      <th>3</th>\n",
       "      <td>국방위원회</td>\n",
       "      <td>58</td>\n",
       "      <td>471</td>\n",
       "      <td>529</td>\n",
       "      <td>11.0</td>\n",
       "    </tr>\n",
       "    <tr>\n",
       "      <th>11</th>\n",
       "      <td>보건복지위원회</td>\n",
       "      <td>316</td>\n",
       "      <td>2599</td>\n",
       "      <td>2915</td>\n",
       "      <td>11.0</td>\n",
       "    </tr>\n",
       "    <tr>\n",
       "      <th>17</th>\n",
       "      <td>정무위원회</td>\n",
       "      <td>184</td>\n",
       "      <td>1672</td>\n",
       "      <td>1856</td>\n",
       "      <td>10.0</td>\n",
       "    </tr>\n",
       "    <tr>\n",
       "      <th>8</th>\n",
       "      <td>문화체육관광위원회</td>\n",
       "      <td>87</td>\n",
       "      <td>795</td>\n",
       "      <td>882</td>\n",
       "      <td>10.0</td>\n",
       "    </tr>\n",
       "    <tr>\n",
       "      <th>2</th>\n",
       "      <td>교육위원회</td>\n",
       "      <td>91</td>\n",
       "      <td>977</td>\n",
       "      <td>1068</td>\n",
       "      <td>9.0</td>\n",
       "    </tr>\n",
       "    <tr>\n",
       "      <th>16</th>\n",
       "      <td>외교통일위원회</td>\n",
       "      <td>31</td>\n",
       "      <td>305</td>\n",
       "      <td>336</td>\n",
       "      <td>9.0</td>\n",
       "    </tr>\n",
       "    <tr>\n",
       "      <th>20</th>\n",
       "      <td>환경노동위원회</td>\n",
       "      <td>177</td>\n",
       "      <td>2141</td>\n",
       "      <td>2318</td>\n",
       "      <td>8.0</td>\n",
       "    </tr>\n",
       "    <tr>\n",
       "      <th>10</th>\n",
       "      <td>법제사법위원회</td>\n",
       "      <td>153</td>\n",
       "      <td>1990</td>\n",
       "      <td>2143</td>\n",
       "      <td>7.0</td>\n",
       "    </tr>\n",
       "    <tr>\n",
       "      <th>6</th>\n",
       "      <td>기획재정위원회</td>\n",
       "      <td>117</td>\n",
       "      <td>2281</td>\n",
       "      <td>2398</td>\n",
       "      <td>5.0</td>\n",
       "    </tr>\n",
       "    <tr>\n",
       "      <th>19</th>\n",
       "      <td>행정안전위원회</td>\n",
       "      <td>165</td>\n",
       "      <td>3114</td>\n",
       "      <td>3279</td>\n",
       "      <td>5.0</td>\n",
       "    </tr>\n",
       "    <tr>\n",
       "      <th>5</th>\n",
       "      <td>국회운영위원회</td>\n",
       "      <td>27</td>\n",
       "      <td>598</td>\n",
       "      <td>625</td>\n",
       "      <td>4.0</td>\n",
       "    </tr>\n",
       "    <tr>\n",
       "      <th>18</th>\n",
       "      <td>정보위원회</td>\n",
       "      <td>1</td>\n",
       "      <td>34</td>\n",
       "      <td>35</td>\n",
       "      <td>3.0</td>\n",
       "    </tr>\n",
       "  </tbody>\n",
       "</table>\n",
       "</div>"
      ],
      "text/plain": [
       "              소관위원회   공포   미공포    합계   공포율\n",
       "9     미래창조과학방송통신위원회    7     4    11  64.0\n",
       "12        산업통상자원위원회   58    38    96  60.0\n",
       "1       교육문화체육관광위원회  109   124   233  47.0\n",
       "7     농림축산식품해양수산위원회  446  1248  1694  26.0\n",
       "14          안전행정위원회   33   109   142  23.0\n",
       "4           국토교통위원회  393  2030  2423  16.0\n",
       "15          여성가족위원회   65   395   460  14.0\n",
       "13  산업통상자원중소벤처기업위원회  199  1213  1412  14.0\n",
       "0     과학기술정보방송통신위원회  111   942  1053  11.0\n",
       "3             국방위원회   58   471   529  11.0\n",
       "11          보건복지위원회  316  2599  2915  11.0\n",
       "17            정무위원회  184  1672  1856  10.0\n",
       "8         문화체육관광위원회   87   795   882  10.0\n",
       "2             교육위원회   91   977  1068   9.0\n",
       "16          외교통일위원회   31   305   336   9.0\n",
       "20          환경노동위원회  177  2141  2318   8.0\n",
       "10          법제사법위원회  153  1990  2143   7.0\n",
       "6           기획재정위원회  117  2281  2398   5.0\n",
       "19          행정안전위원회  165  3114  3279   5.0\n",
       "5           국회운영위원회   27   598   625   4.0\n",
       "18            정보위원회    1    34    35   3.0"
      ]
     },
     "execution_count": 41,
     "metadata": {},
     "output_type": "execute_result"
    }
   ],
   "source": [
    "comm_df2['합계'] = comm_df2['공포'] + comm_df2['미공포']\n",
    "comm_df2['공포율'] = np.round((comm_df2['공포'] / comm_df2['합계']) * 100)\n",
    "\n",
    "# 9, 12번은 의안수가 100이하라는 것을 감안하면, 아래 100 이상 의안수는 의미 있다. 왜 이렇게 나올까? \n",
    "comm_df2.sort_values(by='공포율', ascending=False)"
   ]
  },
  {
   "cell_type": "code",
   "execution_count": 42,
   "metadata": {
    "colab": {
     "base_uri": "https://localhost:8080/",
     "height": 700
    },
    "colab_type": "code",
    "executionInfo": {
     "elapsed": 4010,
     "status": "ok",
     "timestamp": 1598672363036,
     "user": {
      "displayName": "Haram Park",
      "photoUrl": "https://lh3.googleusercontent.com/a-/AOh14Gj3OsCszz1Owp0GjirIDs_OjWpL5Bp-AgvXhBfOlQ=s64",
      "userId": "01012964350621990937"
     },
     "user_tz": -540
    },
    "id": "1k_xwYb3wokb",
    "outputId": "308302cd-21ed-40b3-d005-2d4e36f331c9"
   },
   "outputs": [
    {
     "data": {
      "text/html": [
       "<div>\n",
       "<style scoped>\n",
       "    .dataframe tbody tr th:only-of-type {\n",
       "        vertical-align: middle;\n",
       "    }\n",
       "\n",
       "    .dataframe tbody tr th {\n",
       "        vertical-align: top;\n",
       "    }\n",
       "\n",
       "    .dataframe thead th {\n",
       "        text-align: right;\n",
       "    }\n",
       "</style>\n",
       "<table border=\"1\" class=\"dataframe\">\n",
       "  <thead>\n",
       "    <tr style=\"text-align: right;\">\n",
       "      <th></th>\n",
       "      <th>소관위원회</th>\n",
       "      <th>공포</th>\n",
       "      <th>미공포</th>\n",
       "      <th>합계</th>\n",
       "      <th>공포율</th>\n",
       "    </tr>\n",
       "  </thead>\n",
       "  <tbody>\n",
       "    <tr>\n",
       "      <th>19</th>\n",
       "      <td>행정안전위원회</td>\n",
       "      <td>165</td>\n",
       "      <td>3114</td>\n",
       "      <td>3279</td>\n",
       "      <td>5.0</td>\n",
       "    </tr>\n",
       "    <tr>\n",
       "      <th>11</th>\n",
       "      <td>보건복지위원회</td>\n",
       "      <td>316</td>\n",
       "      <td>2599</td>\n",
       "      <td>2915</td>\n",
       "      <td>11.0</td>\n",
       "    </tr>\n",
       "    <tr>\n",
       "      <th>4</th>\n",
       "      <td>국토교통위원회</td>\n",
       "      <td>393</td>\n",
       "      <td>2030</td>\n",
       "      <td>2423</td>\n",
       "      <td>16.0</td>\n",
       "    </tr>\n",
       "    <tr>\n",
       "      <th>6</th>\n",
       "      <td>기획재정위원회</td>\n",
       "      <td>117</td>\n",
       "      <td>2281</td>\n",
       "      <td>2398</td>\n",
       "      <td>5.0</td>\n",
       "    </tr>\n",
       "    <tr>\n",
       "      <th>20</th>\n",
       "      <td>환경노동위원회</td>\n",
       "      <td>177</td>\n",
       "      <td>2141</td>\n",
       "      <td>2318</td>\n",
       "      <td>8.0</td>\n",
       "    </tr>\n",
       "    <tr>\n",
       "      <th>10</th>\n",
       "      <td>법제사법위원회</td>\n",
       "      <td>153</td>\n",
       "      <td>1990</td>\n",
       "      <td>2143</td>\n",
       "      <td>7.0</td>\n",
       "    </tr>\n",
       "    <tr>\n",
       "      <th>17</th>\n",
       "      <td>정무위원회</td>\n",
       "      <td>184</td>\n",
       "      <td>1672</td>\n",
       "      <td>1856</td>\n",
       "      <td>10.0</td>\n",
       "    </tr>\n",
       "    <tr>\n",
       "      <th>7</th>\n",
       "      <td>농림축산식품해양수산위원회</td>\n",
       "      <td>446</td>\n",
       "      <td>1248</td>\n",
       "      <td>1694</td>\n",
       "      <td>26.0</td>\n",
       "    </tr>\n",
       "    <tr>\n",
       "      <th>13</th>\n",
       "      <td>산업통상자원중소벤처기업위원회</td>\n",
       "      <td>199</td>\n",
       "      <td>1213</td>\n",
       "      <td>1412</td>\n",
       "      <td>14.0</td>\n",
       "    </tr>\n",
       "    <tr>\n",
       "      <th>2</th>\n",
       "      <td>교육위원회</td>\n",
       "      <td>91</td>\n",
       "      <td>977</td>\n",
       "      <td>1068</td>\n",
       "      <td>9.0</td>\n",
       "    </tr>\n",
       "    <tr>\n",
       "      <th>0</th>\n",
       "      <td>과학기술정보방송통신위원회</td>\n",
       "      <td>111</td>\n",
       "      <td>942</td>\n",
       "      <td>1053</td>\n",
       "      <td>11.0</td>\n",
       "    </tr>\n",
       "    <tr>\n",
       "      <th>8</th>\n",
       "      <td>문화체육관광위원회</td>\n",
       "      <td>87</td>\n",
       "      <td>795</td>\n",
       "      <td>882</td>\n",
       "      <td>10.0</td>\n",
       "    </tr>\n",
       "    <tr>\n",
       "      <th>5</th>\n",
       "      <td>국회운영위원회</td>\n",
       "      <td>27</td>\n",
       "      <td>598</td>\n",
       "      <td>625</td>\n",
       "      <td>4.0</td>\n",
       "    </tr>\n",
       "    <tr>\n",
       "      <th>3</th>\n",
       "      <td>국방위원회</td>\n",
       "      <td>58</td>\n",
       "      <td>471</td>\n",
       "      <td>529</td>\n",
       "      <td>11.0</td>\n",
       "    </tr>\n",
       "    <tr>\n",
       "      <th>15</th>\n",
       "      <td>여성가족위원회</td>\n",
       "      <td>65</td>\n",
       "      <td>395</td>\n",
       "      <td>460</td>\n",
       "      <td>14.0</td>\n",
       "    </tr>\n",
       "    <tr>\n",
       "      <th>16</th>\n",
       "      <td>외교통일위원회</td>\n",
       "      <td>31</td>\n",
       "      <td>305</td>\n",
       "      <td>336</td>\n",
       "      <td>9.0</td>\n",
       "    </tr>\n",
       "    <tr>\n",
       "      <th>1</th>\n",
       "      <td>교육문화체육관광위원회</td>\n",
       "      <td>109</td>\n",
       "      <td>124</td>\n",
       "      <td>233</td>\n",
       "      <td>47.0</td>\n",
       "    </tr>\n",
       "    <tr>\n",
       "      <th>14</th>\n",
       "      <td>안전행정위원회</td>\n",
       "      <td>33</td>\n",
       "      <td>109</td>\n",
       "      <td>142</td>\n",
       "      <td>23.0</td>\n",
       "    </tr>\n",
       "    <tr>\n",
       "      <th>12</th>\n",
       "      <td>산업통상자원위원회</td>\n",
       "      <td>58</td>\n",
       "      <td>38</td>\n",
       "      <td>96</td>\n",
       "      <td>60.0</td>\n",
       "    </tr>\n",
       "    <tr>\n",
       "      <th>18</th>\n",
       "      <td>정보위원회</td>\n",
       "      <td>1</td>\n",
       "      <td>34</td>\n",
       "      <td>35</td>\n",
       "      <td>3.0</td>\n",
       "    </tr>\n",
       "    <tr>\n",
       "      <th>9</th>\n",
       "      <td>미래창조과학방송통신위원회</td>\n",
       "      <td>7</td>\n",
       "      <td>4</td>\n",
       "      <td>11</td>\n",
       "      <td>64.0</td>\n",
       "    </tr>\n",
       "  </tbody>\n",
       "</table>\n",
       "</div>"
      ],
      "text/plain": [
       "              소관위원회   공포   미공포    합계   공포율\n",
       "19          행정안전위원회  165  3114  3279   5.0\n",
       "11          보건복지위원회  316  2599  2915  11.0\n",
       "4           국토교통위원회  393  2030  2423  16.0\n",
       "6           기획재정위원회  117  2281  2398   5.0\n",
       "20          환경노동위원회  177  2141  2318   8.0\n",
       "10          법제사법위원회  153  1990  2143   7.0\n",
       "17            정무위원회  184  1672  1856  10.0\n",
       "7     농림축산식품해양수산위원회  446  1248  1694  26.0\n",
       "13  산업통상자원중소벤처기업위원회  199  1213  1412  14.0\n",
       "2             교육위원회   91   977  1068   9.0\n",
       "0     과학기술정보방송통신위원회  111   942  1053  11.0\n",
       "8         문화체육관광위원회   87   795   882  10.0\n",
       "5           국회운영위원회   27   598   625   4.0\n",
       "3             국방위원회   58   471   529  11.0\n",
       "15          여성가족위원회   65   395   460  14.0\n",
       "16          외교통일위원회   31   305   336   9.0\n",
       "1       교육문화체육관광위원회  109   124   233  47.0\n",
       "14          안전행정위원회   33   109   142  23.0\n",
       "12        산업통상자원위원회   58    38    96  60.0\n",
       "18            정보위원회    1    34    35   3.0\n",
       "9     미래창조과학방송통신위원회    7     4    11  64.0"
      ]
     },
     "execution_count": 42,
     "metadata": {},
     "output_type": "execute_result"
    }
   ],
   "source": [
    "# 국회의원들의 관심도를 드러내는 것이 맞을까? 이렇게 많이 발의했다면? \n",
    "comm_df2.sort_values(by='합계', ascending=False)"
   ]
  },
  {
   "cell_type": "code",
   "execution_count": null,
   "metadata": {
    "colab": {},
    "colab_type": "code",
    "executionInfo": {
     "elapsed": 4005,
     "status": "ok",
     "timestamp": 1598672363036,
     "user": {
      "displayName": "Haram Park",
      "photoUrl": "https://lh3.googleusercontent.com/a-/AOh14Gj3OsCszz1Owp0GjirIDs_OjWpL5Bp-AgvXhBfOlQ=s64",
      "userId": "01012964350621990937"
     },
     "user_tz": -540
    },
    "id": "jwNPEfjqwoke"
   },
   "outputs": [],
   "source": []
  },
  {
   "cell_type": "markdown",
   "metadata": {
    "colab": {},
    "colab_type": "code",
    "executionInfo": {
     "elapsed": 4002,
     "status": "ok",
     "timestamp": 1598672363037,
     "user": {
      "displayName": "Haram Park",
      "photoUrl": "https://lh3.googleusercontent.com/a-/AOh14Gj3OsCszz1Owp0GjirIDs_OjWpL5Bp-AgvXhBfOlQ=s64",
      "userId": "01012964350621990937"
     },
     "user_tz": -540
    },
    "id": "V78wB_rHwokg"
   },
   "source": [
    "## 젠더 폭력 분야 법안 분석\n",
    "\n",
    "- 시간대별 법안 발의 분석도 함께!\n",
    "\n",
    "### 젠더 폭력 의안 전처리 "
   ]
  },
  {
   "cell_type": "code",
   "execution_count": 43,
   "metadata": {},
   "outputs": [
    {
     "data": {
      "text/plain": [
       "(1016, 39)"
      ]
     },
     "execution_count": 43,
     "metadata": {},
     "output_type": "execute_result"
    }
   ],
   "source": [
    "# 일일이 다 보고 확인해봐야 함..ㅜㅜ - 확인안했음 \n",
    "keyword = r'.*(N번방|n번방|불법촬영|스토킹|데이트폭력|데이트 폭력|디지털성범죄|사이버범죄|포르노|\\\n",
    "                카르텔|과다노출|사이버 범죄|몰래카메라|몰카|불법 촬영|몸캠|성폭력|성착취|성매매|\\\n",
    "                버닝썬|성희롱|딥페이크|복제물|음란|성범죄|n번방|웹하드|촬영물|클럽|성접대|미투|그루밍).*'\n",
    "gender = bill_df[bill_df['의안명'].str.match(keyword) |\n",
    "           bill_df['제안이유'].str.match(keyword, flags=re.MULTILINE)]\n",
    "gender = gender.reset_index()\n",
    "gender = gender.drop('index',1)\n",
    "gender.shape"
   ]
  },
  {
   "cell_type": "code",
   "execution_count": 44,
   "metadata": {},
   "outputs": [
    {
     "data": {
      "text/plain": [
       "3.7119579116583243"
      ]
     },
     "execution_count": 44,
     "metadata": {},
     "output_type": "execute_result"
    }
   ],
   "source": [
    "# 젠더관련 의안 1016\n",
    "# 총 의안수 27371\n",
    "(1016 / 27371) * 100"
   ]
  },
  {
   "cell_type": "code",
   "execution_count": null,
   "metadata": {},
   "outputs": [],
   "source": []
  },
  {
   "cell_type": "markdown",
   "metadata": {},
   "source": [
    "### n번방 관련 법안\n",
    "\n",
    "- 딥페이크, 불법촬영 포함\n",
    "- 실질적으로 N번방 관련 사건이 대두된 것은 2019년 9월 추적단 불꽃의 최초 보도. 그 이후의 법안만 분석해야 할까? (일단은 그 전까지도 모두 담아놓았음) "
   ]
  },
  {
   "cell_type": "code",
   "execution_count": 45,
   "metadata": {},
   "outputs": [
    {
     "data": {
      "text/plain": [
       "(158, 39)"
      ]
     },
     "execution_count": 45,
     "metadata": {},
     "output_type": "execute_result"
    }
   ],
   "source": [
    "# 의안번호 2014046 2018년 먼저 다크웹 규제 강화 법안 발의 but 임기만료폐기 \n",
    "keyword = r'.*(N번방|성착취|불법촬영|복제물|불법 촬영|n번방|음란|채팅앱|웹하드|촬영물|텔레그램|디지털성범죄|박사방|디지털 성범죄|사이버범죄|사이버 범죄|포르노|딥페이크|딥 페이크|deep).*'\n",
    "nthroom = bill_df[bill_df['의안명'].str.match(keyword) |\n",
    "           bill_df['제안이유'].str.match(keyword, flags=re.MULTILINE)]\n",
    "\n",
    "removeNum = [2024225, 2021888, 2020682, 2020673, 2020205, 2019791, 2018969, 2017840, 2017312, \n",
    "             2016562, 2015078, 2010841, 2010400, 2010381, 2009122, 2008869, 2007883, 2007326, \n",
    "            2007016, 2006449, 2005983, 2004587, 2004534, 2004397, 2003987, 2003968, 2003836, \n",
    "            2002649, 2002150, 2101415]\n",
    "\n",
    "nthroom = nthroom[~nthroom['의안번호'].isin(removeNum)]\n",
    "nthroom.shape"
   ]
  },
  {
   "cell_type": "code",
   "execution_count": 46,
   "metadata": {},
   "outputs": [],
   "source": [
    "# n번방 관련 사건 이후 의안만 필터링\n",
    "nthroom = nthroom[nthroom['제안일자'] > '2019-09-01']\n",
    "nthroom = nthroom.reset_index()\n",
    "nthroom = nthroom.drop('index',1)"
   ]
  },
  {
   "cell_type": "code",
   "execution_count": 47,
   "metadata": {},
   "outputs": [
    {
     "data": {
      "text/html": [
       "<div>\n",
       "<style scoped>\n",
       "    .dataframe tbody tr th:only-of-type {\n",
       "        vertical-align: middle;\n",
       "    }\n",
       "\n",
       "    .dataframe tbody tr th {\n",
       "        vertical-align: top;\n",
       "    }\n",
       "\n",
       "    .dataframe thead th {\n",
       "        text-align: right;\n",
       "    }\n",
       "</style>\n",
       "<table border=\"1\" class=\"dataframe\">\n",
       "  <thead>\n",
       "    <tr style=\"text-align: right;\">\n",
       "      <th></th>\n",
       "      <th>의안번호</th>\n",
       "      <th>의안명</th>\n",
       "      <th>제안자구분</th>\n",
       "      <th>제안일자</th>\n",
       "      <th>의결일자</th>\n",
       "      <th>의결결과</th>\n",
       "      <th>제안회기</th>\n",
       "      <th>제안이유</th>\n",
       "      <th>소관위원회</th>\n",
       "      <th>제안정당</th>\n",
       "      <th>...</th>\n",
       "      <th>새누리당</th>\n",
       "      <th>새로운보수당</th>\n",
       "      <th>새민중정당</th>\n",
       "      <th>시대전환</th>\n",
       "      <th>열린민주당</th>\n",
       "      <th>우리공화당</th>\n",
       "      <th>자유한국당</th>\n",
       "      <th>정의당</th>\n",
       "      <th>의결처리기간</th>\n",
       "      <th>법률공포여부</th>\n",
       "    </tr>\n",
       "  </thead>\n",
       "  <tbody>\n",
       "    <tr>\n",
       "      <th>0</th>\n",
       "      <td>2024979</td>\n",
       "      <td>아동·청소년의 성보호에 관한 법률 일부개정법률안</td>\n",
       "      <td>위원장</td>\n",
       "      <td>2020-05-20</td>\n",
       "      <td>2020-05-20</td>\n",
       "      <td>원안가결</td>\n",
       "      <td>제20대 (2016~2020) 제378회</td>\n",
       "      <td>2  대안의 아동？청소년 음란물 범죄의 규모와 형태가 갈수록 교묘해지고 있지만  우...</td>\n",
       "      <td>여성가족위원회</td>\n",
       "      <td>[더불어민주당]</td>\n",
       "      <td>...</td>\n",
       "      <td>0.0</td>\n",
       "      <td>0.0</td>\n",
       "      <td>0.0</td>\n",
       "      <td>0.0</td>\n",
       "      <td>0.0</td>\n",
       "      <td>0.0</td>\n",
       "      <td>0.0</td>\n",
       "      <td>0.0</td>\n",
       "      <td>0.0</td>\n",
       "      <td>공포</td>\n",
       "    </tr>\n",
       "    <tr>\n",
       "      <th>1</th>\n",
       "      <td>2024963</td>\n",
       "      <td>정보통신망 이용촉진 및 정보보호 등에 관한 법률 일부개정법률안</td>\n",
       "      <td>위원장</td>\n",
       "      <td>2020-05-20</td>\n",
       "      <td>2020-05-20</td>\n",
       "      <td>원안가결</td>\n",
       "      <td>제20대 (2016~2020) 제378회</td>\n",
       "      <td>대안의 가  현행법상 금지되는 정보통신망 침해행위에 최근 정보통신망의 정상적인 보호...</td>\n",
       "      <td>과학기술정보방송통신위원회</td>\n",
       "      <td>[더불어민주당]</td>\n",
       "      <td>...</td>\n",
       "      <td>0.0</td>\n",
       "      <td>0.0</td>\n",
       "      <td>0.0</td>\n",
       "      <td>0.0</td>\n",
       "      <td>0.0</td>\n",
       "      <td>0.0</td>\n",
       "      <td>0.0</td>\n",
       "      <td>0.0</td>\n",
       "      <td>0.0</td>\n",
       "      <td>공포</td>\n",
       "    </tr>\n",
       "    <tr>\n",
       "      <th>2</th>\n",
       "      <td>2024959</td>\n",
       "      <td>전기통신사업법 일부개정법률안</td>\n",
       "      <td>위원장</td>\n",
       "      <td>2020-05-20</td>\n",
       "      <td>2020-05-20</td>\n",
       "      <td>원안가결</td>\n",
       "      <td>제20대 (2016~2020) 제378회</td>\n",
       "      <td>2  대안의 일부 기간통신사업자의 서비스별 요금 등에 관한 이용약관에 대하여 인가제...</td>\n",
       "      <td>과학기술정보방송통신위원회</td>\n",
       "      <td>[더불어민주당]</td>\n",
       "      <td>...</td>\n",
       "      <td>0.0</td>\n",
       "      <td>0.0</td>\n",
       "      <td>0.0</td>\n",
       "      <td>0.0</td>\n",
       "      <td>0.0</td>\n",
       "      <td>0.0</td>\n",
       "      <td>0.0</td>\n",
       "      <td>0.0</td>\n",
       "      <td>0.0</td>\n",
       "      <td>공포</td>\n",
       "    </tr>\n",
       "    <tr>\n",
       "      <th>7</th>\n",
       "      <td>2024882</td>\n",
       "      <td>형법 일부개정법률안</td>\n",
       "      <td>위원장</td>\n",
       "      <td>2020-04-29</td>\n",
       "      <td>2020-04-29</td>\n",
       "      <td>원안가결</td>\n",
       "      <td>제20대 (2016~2020) 제377회</td>\n",
       "      <td>사이버 성범죄로 인한 피해가 날로 증가하고 있는 상황에서 최근 텔레그램을 이용한...</td>\n",
       "      <td>법제사법위원회</td>\n",
       "      <td>[미래통합당]</td>\n",
       "      <td>...</td>\n",
       "      <td>0.0</td>\n",
       "      <td>0.0</td>\n",
       "      <td>0.0</td>\n",
       "      <td>0.0</td>\n",
       "      <td>0.0</td>\n",
       "      <td>0.0</td>\n",
       "      <td>0.0</td>\n",
       "      <td>0.0</td>\n",
       "      <td>0.0</td>\n",
       "      <td>공포</td>\n",
       "    </tr>\n",
       "    <tr>\n",
       "      <th>28</th>\n",
       "      <td>2024689</td>\n",
       "      <td>성폭력범죄의 처벌 등에 관한 특례법 일부개정법률안</td>\n",
       "      <td>위원장</td>\n",
       "      <td>2020-03-04</td>\n",
       "      <td>2020-03-05</td>\n",
       "      <td>원안가결</td>\n",
       "      <td>제20대 (2016~2020) 제376회</td>\n",
       "      <td>특정 인물의 신체 등을 대상으로 한 영상물등을 성적 욕망 또는 수치심을 유발할 수 ...</td>\n",
       "      <td>법제사법위원회</td>\n",
       "      <td>[미래통합당]</td>\n",
       "      <td>...</td>\n",
       "      <td>0.0</td>\n",
       "      <td>0.0</td>\n",
       "      <td>0.0</td>\n",
       "      <td>0.0</td>\n",
       "      <td>0.0</td>\n",
       "      <td>0.0</td>\n",
       "      <td>0.0</td>\n",
       "      <td>0.0</td>\n",
       "      <td>1.0</td>\n",
       "      <td>공포</td>\n",
       "    </tr>\n",
       "    <tr>\n",
       "      <th>12</th>\n",
       "      <td>2024857</td>\n",
       "      <td>성폭력범죄의 처벌 등에 관한 특례법 일부개정법률안</td>\n",
       "      <td>의원</td>\n",
       "      <td>2020-04-21</td>\n",
       "      <td>2020-04-29</td>\n",
       "      <td>대안반영폐기</td>\n",
       "      <td>제20대 (2016~2020) 제377회</td>\n",
       "      <td>최근 이른바 N번방 사건 등 디지털 성범죄가 사회적 문제로 대두되면서  성범죄자에 ...</td>\n",
       "      <td>법제사법위원회</td>\n",
       "      <td>[더불어시민당, 더불어민주당]</td>\n",
       "      <td>...</td>\n",
       "      <td>0.0</td>\n",
       "      <td>0.0</td>\n",
       "      <td>0.0</td>\n",
       "      <td>0.0</td>\n",
       "      <td>0.0</td>\n",
       "      <td>0.0</td>\n",
       "      <td>0.0</td>\n",
       "      <td>0.0</td>\n",
       "      <td>8.0</td>\n",
       "      <td>미공포</td>\n",
       "    </tr>\n",
       "    <tr>\n",
       "      <th>15</th>\n",
       "      <td>2024854</td>\n",
       "      <td>형법 일부개정법률안</td>\n",
       "      <td>의원</td>\n",
       "      <td>2020-04-21</td>\n",
       "      <td>2020-04-29</td>\n",
       "      <td>대안반영폐기</td>\n",
       "      <td>제20대 (2016~2020) 제377회</td>\n",
       "      <td>현행법상 간음과 추행의 죄에 관해서는 예비 음모죄의 처벌규정을 두고 있지 않으며  ...</td>\n",
       "      <td>법제사법위원회</td>\n",
       "      <td>[더불어민주당, 더불어시민당]</td>\n",
       "      <td>...</td>\n",
       "      <td>0.0</td>\n",
       "      <td>0.0</td>\n",
       "      <td>0.0</td>\n",
       "      <td>0.0</td>\n",
       "      <td>0.0</td>\n",
       "      <td>0.0</td>\n",
       "      <td>0.0</td>\n",
       "      <td>0.0</td>\n",
       "      <td>8.0</td>\n",
       "      <td>미공포</td>\n",
       "    </tr>\n",
       "    <tr>\n",
       "      <th>5</th>\n",
       "      <td>2024924</td>\n",
       "      <td>전기통신사업법 일부개정법률안</td>\n",
       "      <td>의원</td>\n",
       "      <td>2020-05-04</td>\n",
       "      <td>2020-05-20</td>\n",
       "      <td>대안반영폐기</td>\n",
       "      <td>제20대 (2016~2020) 제377회</td>\n",
       "      <td>최근 N번방 사건으로 불리는 텔레그램 성착취 사건 등을 계기로 디지털 성범죄에 ...</td>\n",
       "      <td>과학기술정보방송통신위원회</td>\n",
       "      <td>[민생당, 더불어민주당, 더불어시민당]</td>\n",
       "      <td>...</td>\n",
       "      <td>0.0</td>\n",
       "      <td>0.0</td>\n",
       "      <td>0.0</td>\n",
       "      <td>0.0</td>\n",
       "      <td>0.0</td>\n",
       "      <td>0.0</td>\n",
       "      <td>0.0</td>\n",
       "      <td>0.0</td>\n",
       "      <td>16.0</td>\n",
       "      <td>미공포</td>\n",
       "    </tr>\n",
       "    <tr>\n",
       "      <th>6</th>\n",
       "      <td>2024923</td>\n",
       "      <td>정보통신망 이용촉진 및 정보보호 등에 관한 법률 일부개정법률안</td>\n",
       "      <td>의원</td>\n",
       "      <td>2020-05-04</td>\n",
       "      <td>2020-05-20</td>\n",
       "      <td>대안반영폐기</td>\n",
       "      <td>제20대 (2016~2020) 제377회</td>\n",
       "      <td>최근 발생한 텔레그램 N번방 사건처럼 불법촬영물의 유통으로 인한 피해자의 2차 피해...</td>\n",
       "      <td>과학기술정보방송통신위원회</td>\n",
       "      <td>[더불어시민당, 더불어민주당]</td>\n",
       "      <td>...</td>\n",
       "      <td>0.0</td>\n",
       "      <td>0.0</td>\n",
       "      <td>0.0</td>\n",
       "      <td>0.0</td>\n",
       "      <td>0.0</td>\n",
       "      <td>0.0</td>\n",
       "      <td>0.0</td>\n",
       "      <td>0.0</td>\n",
       "      <td>16.0</td>\n",
       "      <td>미공포</td>\n",
       "    </tr>\n",
       "    <tr>\n",
       "      <th>19</th>\n",
       "      <td>2024836</td>\n",
       "      <td>형법 일부개정법률안</td>\n",
       "      <td>의원</td>\n",
       "      <td>2020-04-09</td>\n",
       "      <td>2020-04-29</td>\n",
       "      <td>대안반영폐기</td>\n",
       "      <td>제20대 (2016~2020) 제376회</td>\n",
       "      <td>최근 국민의 공분을 사고 있는 이른바 n번방 사태는 텔레그램을 이용한 아동 및 청소...</td>\n",
       "      <td>법제사법위원회</td>\n",
       "      <td>[미래통합당, 미래한국당]</td>\n",
       "      <td>...</td>\n",
       "      <td>0.0</td>\n",
       "      <td>0.0</td>\n",
       "      <td>0.0</td>\n",
       "      <td>0.0</td>\n",
       "      <td>0.0</td>\n",
       "      <td>0.0</td>\n",
       "      <td>0.0</td>\n",
       "      <td>0.0</td>\n",
       "      <td>20.0</td>\n",
       "      <td>미공포</td>\n",
       "    </tr>\n",
       "  </tbody>\n",
       "</table>\n",
       "<p>10 rows × 39 columns</p>\n",
       "</div>"
      ],
      "text/plain": [
       "       의안번호                                 의안명 제안자구분       제안일자       의결일자  \\\n",
       "0   2024979          아동·청소년의 성보호에 관한 법률 일부개정법률안   위원장 2020-05-20 2020-05-20   \n",
       "1   2024963  정보통신망 이용촉진 및 정보보호 등에 관한 법률 일부개정법률안   위원장 2020-05-20 2020-05-20   \n",
       "2   2024959                     전기통신사업법 일부개정법률안   위원장 2020-05-20 2020-05-20   \n",
       "7   2024882                          형법 일부개정법률안   위원장 2020-04-29 2020-04-29   \n",
       "28  2024689         성폭력범죄의 처벌 등에 관한 특례법 일부개정법률안   위원장 2020-03-04 2020-03-05   \n",
       "12  2024857         성폭력범죄의 처벌 등에 관한 특례법 일부개정법률안    의원 2020-04-21 2020-04-29   \n",
       "15  2024854                          형법 일부개정법률안    의원 2020-04-21 2020-04-29   \n",
       "5   2024924                     전기통신사업법 일부개정법률안    의원 2020-05-04 2020-05-20   \n",
       "6   2024923  정보통신망 이용촉진 및 정보보호 등에 관한 법률 일부개정법률안    의원 2020-05-04 2020-05-20   \n",
       "19  2024836                          형법 일부개정법률안    의원 2020-04-09 2020-04-29   \n",
       "\n",
       "      의결결과                    제안회기  \\\n",
       "0     원안가결  제20대 (2016~2020) 제378회   \n",
       "1     원안가결  제20대 (2016~2020) 제378회   \n",
       "2     원안가결  제20대 (2016~2020) 제378회   \n",
       "7     원안가결  제20대 (2016~2020) 제377회   \n",
       "28    원안가결  제20대 (2016~2020) 제376회   \n",
       "12  대안반영폐기  제20대 (2016~2020) 제377회   \n",
       "15  대안반영폐기  제20대 (2016~2020) 제377회   \n",
       "5   대안반영폐기  제20대 (2016~2020) 제377회   \n",
       "6   대안반영폐기  제20대 (2016~2020) 제377회   \n",
       "19  대안반영폐기  제20대 (2016~2020) 제376회   \n",
       "\n",
       "                                                 제안이유          소관위원회  \\\n",
       "0   2  대안의 아동？청소년 음란물 범죄의 규모와 형태가 갈수록 교묘해지고 있지만  우...        여성가족위원회   \n",
       "1   대안의 가  현행법상 금지되는 정보통신망 침해행위에 최근 정보통신망의 정상적인 보호...  과학기술정보방송통신위원회   \n",
       "2   2  대안의 일부 기간통신사업자의 서비스별 요금 등에 관한 이용약관에 대하여 인가제...  과학기술정보방송통신위원회   \n",
       "7     사이버 성범죄로 인한 피해가 날로 증가하고 있는 상황에서 최근 텔레그램을 이용한...        법제사법위원회   \n",
       "28  특정 인물의 신체 등을 대상으로 한 영상물등을 성적 욕망 또는 수치심을 유발할 수 ...        법제사법위원회   \n",
       "12  최근 이른바 N번방 사건 등 디지털 성범죄가 사회적 문제로 대두되면서  성범죄자에 ...        법제사법위원회   \n",
       "15  현행법상 간음과 추행의 죄에 관해서는 예비 음모죄의 처벌규정을 두고 있지 않으며  ...        법제사법위원회   \n",
       "5     최근 N번방 사건으로 불리는 텔레그램 성착취 사건 등을 계기로 디지털 성범죄에 ...  과학기술정보방송통신위원회   \n",
       "6   최근 발생한 텔레그램 N번방 사건처럼 불법촬영물의 유통으로 인한 피해자의 2차 피해...  과학기술정보방송통신위원회   \n",
       "19  최근 국민의 공분을 사고 있는 이른바 n번방 사태는 텔레그램을 이용한 아동 및 청소...        법제사법위원회   \n",
       "\n",
       "                     제안정당  ... 새누리당  새로운보수당  새민중정당  시대전환  열린민주당  우리공화당  자유한국당  \\\n",
       "0                [더불어민주당]  ...  0.0     0.0    0.0   0.0    0.0    0.0    0.0   \n",
       "1                [더불어민주당]  ...  0.0     0.0    0.0   0.0    0.0    0.0    0.0   \n",
       "2                [더불어민주당]  ...  0.0     0.0    0.0   0.0    0.0    0.0    0.0   \n",
       "7                 [미래통합당]  ...  0.0     0.0    0.0   0.0    0.0    0.0    0.0   \n",
       "28                [미래통합당]  ...  0.0     0.0    0.0   0.0    0.0    0.0    0.0   \n",
       "12       [더불어시민당, 더불어민주당]  ...  0.0     0.0    0.0   0.0    0.0    0.0    0.0   \n",
       "15       [더불어민주당, 더불어시민당]  ...  0.0     0.0    0.0   0.0    0.0    0.0    0.0   \n",
       "5   [민생당, 더불어민주당, 더불어시민당]  ...  0.0     0.0    0.0   0.0    0.0    0.0    0.0   \n",
       "6        [더불어시민당, 더불어민주당]  ...  0.0     0.0    0.0   0.0    0.0    0.0    0.0   \n",
       "19         [미래통합당, 미래한국당]  ...  0.0     0.0    0.0   0.0    0.0    0.0    0.0   \n",
       "\n",
       "    정의당  의결처리기간  법률공포여부  \n",
       "0   0.0     0.0      공포  \n",
       "1   0.0     0.0      공포  \n",
       "2   0.0     0.0      공포  \n",
       "7   0.0     0.0      공포  \n",
       "28  0.0     1.0      공포  \n",
       "12  0.0     8.0     미공포  \n",
       "15  0.0     8.0     미공포  \n",
       "5   0.0    16.0     미공포  \n",
       "6   0.0    16.0     미공포  \n",
       "19  0.0    20.0     미공포  \n",
       "\n",
       "[10 rows x 39 columns]"
      ]
     },
     "execution_count": 47,
     "metadata": {},
     "output_type": "execute_result"
    }
   ],
   "source": [
    "nthroom.sort_values('의결처리기간')[:10]"
   ]
  },
  {
   "cell_type": "code",
   "execution_count": 48,
   "metadata": {},
   "outputs": [
    {
     "data": {
      "text/plain": [
       "법률반영여부\n",
       "미반영    140.166667\n",
       "반영      59.593750\n",
       "Name: 의결처리기간, dtype: float64"
      ]
     },
     "execution_count": 48,
     "metadata": {},
     "output_type": "execute_result"
    }
   ],
   "source": [
    "# 반영됐을 경우 평균 59일 소요 \n",
    "nthroom['의결처리기간'].groupby(nthroom['법률반영여부']).mean()"
   ]
  },
  {
   "cell_type": "code",
   "execution_count": 49,
   "metadata": {},
   "outputs": [
    {
     "data": {
      "text/html": [
       "<div>\n",
       "<style scoped>\n",
       "    .dataframe tbody tr th:only-of-type {\n",
       "        vertical-align: middle;\n",
       "    }\n",
       "\n",
       "    .dataframe tbody tr th {\n",
       "        vertical-align: top;\n",
       "    }\n",
       "\n",
       "    .dataframe thead th {\n",
       "        text-align: right;\n",
       "    }\n",
       "</style>\n",
       "<table border=\"1\" class=\"dataframe\">\n",
       "  <thead>\n",
       "    <tr style=\"text-align: right;\">\n",
       "      <th></th>\n",
       "      <th></th>\n",
       "      <th>의결처리기간</th>\n",
       "    </tr>\n",
       "    <tr>\n",
       "      <th>법률반영여부</th>\n",
       "      <th>의결결과</th>\n",
       "      <th></th>\n",
       "    </tr>\n",
       "  </thead>\n",
       "  <tbody>\n",
       "    <tr>\n",
       "      <th>미반영</th>\n",
       "      <th>임기만료폐기</th>\n",
       "      <td>140.166667</td>\n",
       "    </tr>\n",
       "    <tr>\n",
       "      <th rowspan=\"2\" valign=\"top\">반영</th>\n",
       "      <th>대안반영폐기</th>\n",
       "      <td>71.692308</td>\n",
       "    </tr>\n",
       "    <tr>\n",
       "      <th>원안가결</th>\n",
       "      <td>7.166667</td>\n",
       "    </tr>\n",
       "  </tbody>\n",
       "</table>\n",
       "</div>"
      ],
      "text/plain": [
       "                   의결처리기간\n",
       "법률반영여부 의결결과              \n",
       "미반영    임기만료폐기  140.166667\n",
       "반영     대안반영폐기   71.692308\n",
       "       원안가결      7.166667"
      ]
     },
     "execution_count": 49,
     "metadata": {},
     "output_type": "execute_result"
    }
   ],
   "source": [
    "nthroom_df = pd.pivot_table(nthroom, \n",
    "                        index=['법률반영여부', '의결결과'],\n",
    "                        values=['의결처리기간']).fillna(0)\n",
    "nthroom_df"
   ]
  },
  {
   "cell_type": "code",
   "execution_count": 50,
   "metadata": {},
   "outputs": [
    {
     "data": {
      "text/html": [
       "<div>\n",
       "<style scoped>\n",
       "    .dataframe tbody tr th:only-of-type {\n",
       "        vertical-align: middle;\n",
       "    }\n",
       "\n",
       "    .dataframe tbody tr th {\n",
       "        vertical-align: top;\n",
       "    }\n",
       "\n",
       "    .dataframe thead th {\n",
       "        text-align: right;\n",
       "    }\n",
       "</style>\n",
       "<table border=\"1\" class=\"dataframe\">\n",
       "  <thead>\n",
       "    <tr style=\"text-align: right;\">\n",
       "      <th></th>\n",
       "      <th></th>\n",
       "      <th>의결처리기간</th>\n",
       "      <th>의결결과</th>\n",
       "    </tr>\n",
       "    <tr>\n",
       "      <th>법률반영여부</th>\n",
       "      <th>의결결과</th>\n",
       "      <th></th>\n",
       "      <th></th>\n",
       "    </tr>\n",
       "  </thead>\n",
       "  <tbody>\n",
       "    <tr>\n",
       "      <th>미반영</th>\n",
       "      <th>임기만료폐기</th>\n",
       "      <td>140.166667</td>\n",
       "      <td>14269</td>\n",
       "    </tr>\n",
       "    <tr>\n",
       "      <th rowspan=\"2\" valign=\"top\">반영</th>\n",
       "      <th>대안반영폐기</th>\n",
       "      <td>71.692308</td>\n",
       "      <td>5026</td>\n",
       "    </tr>\n",
       "    <tr>\n",
       "      <th>원안가결</th>\n",
       "      <td>7.166667</td>\n",
       "      <td>1976</td>\n",
       "    </tr>\n",
       "  </tbody>\n",
       "</table>\n",
       "</div>"
      ],
      "text/plain": [
       "                   의결처리기간   의결결과\n",
       "법률반영여부 의결결과                     \n",
       "미반영    임기만료폐기  140.166667  14269\n",
       "반영     대안반영폐기   71.692308   5026\n",
       "       원안가결      7.166667   1976"
      ]
     },
     "execution_count": 50,
     "metadata": {},
     "output_type": "execute_result"
    }
   ],
   "source": [
    "# 계류는 21대이므로 아직 진행중인 의결임\n",
    "nthroom_tmp = bill_df['의결결과'].value_counts()\n",
    "pd.merge(nthroom_df, nthroom_tmp, left_on='의결결과', right_index=True)"
   ]
  },
  {
   "cell_type": "code",
   "execution_count": 51,
   "metadata": {},
   "outputs": [
    {
     "data": {
      "text/plain": [
       "미공포    77\n",
       "공포      6\n",
       "Name: 법률공포여부, dtype: int64"
      ]
     },
     "execution_count": 51,
     "metadata": {},
     "output_type": "execute_result"
    }
   ],
   "source": [
    "nthroom['법률공포여부'].value_counts()"
   ]
  },
  {
   "cell_type": "code",
   "execution_count": 52,
   "metadata": {},
   "outputs": [
    {
     "data": {
      "text/plain": [
       "법률공포여부\n",
       "공포      7.166667\n",
       "미공포    99.704545\n",
       "Name: 의결처리기간, dtype: float64"
      ]
     },
     "execution_count": 52,
     "metadata": {},
     "output_type": "execute_result"
    }
   ],
   "source": [
    "# 반영됐을 경우 평균 59일 소요 \n",
    "nthroom['의결처리기간'].groupby(nthroom['법률공포여부']).mean()"
   ]
  },
  {
   "cell_type": "markdown",
   "metadata": {},
   "source": [
    "- n번방 관련 법안 정당"
   ]
  },
  {
   "cell_type": "code",
   "execution_count": 73,
   "metadata": {},
   "outputs": [
    {
     "data": {
      "text/plain": [
       "['더불어민주당',\n",
       " '민생당',\n",
       " '더불어시민당',\n",
       " '미래통합당',\n",
       " '미래한국당',\n",
       " '바른미래당',\n",
       " '자유한국당',\n",
       " '민주평화당',\n",
       " '무소속',\n",
       " '우리공화당',\n",
       " '정의당',\n",
       " '국민의당',\n",
       " '기본소득당',\n",
       " '열린민주당']"
      ]
     },
     "execution_count": 73,
     "metadata": {},
     "output_type": "execute_result"
    }
   ],
   "source": [
    "get_party(nthroom)"
   ]
  },
  {
   "cell_type": "code",
   "execution_count": 71,
   "metadata": {},
   "outputs": [
    {
     "name": "stdout",
     "output_type": "stream",
     "text": [
      "더불어민주당 발의 횟수: 63 번\n",
      "민생당 발의 횟수: 1 번\n",
      "더불어시민당 발의 횟수: 11 번\n",
      "미래통합당 발의 횟수: 11 번\n",
      "미래한국당 발의 횟수: 4 번\n",
      "바른미래당 발의 횟수: 10 번\n",
      "자유한국당 발의 횟수: 3 번\n",
      "민주평화당 발의 횟수: 5 번\n",
      "무소속 발의 횟수: 15 번\n",
      "우리공화당 발의 횟수: 2 번\n",
      "정의당 발의 횟수: 7 번\n",
      "국민의당 발의 횟수: 5 번\n",
      "기본소득당 발의 횟수: 6 번\n",
      "열린민주당 발의 횟수: 6 번\n"
     ]
    }
   ],
   "source": [
    "for party in partylist: \n",
    "    print(party,'발의 횟수:', int(nthroom[party].sort_values().sum()),'번')"
   ]
  },
  {
   "cell_type": "code",
   "execution_count": null,
   "metadata": {},
   "outputs": [],
   "source": []
  },
  {
   "cell_type": "code",
   "execution_count": null,
   "metadata": {},
   "outputs": [],
   "source": []
  },
  {
   "cell_type": "code",
   "execution_count": null,
   "metadata": {},
   "outputs": [],
   "source": []
  },
  {
   "cell_type": "code",
   "execution_count": null,
   "metadata": {},
   "outputs": [],
   "source": []
  },
  {
   "cell_type": "markdown",
   "metadata": {},
   "source": [
    "### 불법촬영 관련 법안\n",
    "\n",
    "- 공중화장실 관련한 법안도 포함\n",
    "- 웹하드 관련 법안도 포함\n",
    "- 불법촬영 관련한 교육 법안도 포함 ex) 2101733 고등교육 성폭력 예방 교육 법안\n",
    "- 의안 발의의 문제일 수도 있지만, 법안을 해석하는 판사의 해석 문제일 수도. \n",
    "ex) 과다노출 해석(2005065, 2004552), 공중화장실 해석(2000056)"
   ]
  },
  {
   "cell_type": "code",
   "execution_count": 53,
   "metadata": {},
   "outputs": [
    {
     "data": {
      "text/plain": [
       "(126, 39)"
      ]
     },
     "execution_count": 53,
     "metadata": {},
     "output_type": "execute_result"
    }
   ],
   "source": [
    "keyword = r'.*(몰래카메라|불법 복제|몰카|과다노출|웹하드|카르텔|디지털 성범죄|디지털성범죄|사이버범죄|사이버 범죄|포르노|불법 촬영|불법촬영|촬영물).*'\n",
    "illegalcam = bill_df[bill_df['의안명'].str.match(keyword) |\n",
    "           bill_df['제안이유'].str.match(keyword, flags=re.MULTILINE)]\n",
    "\n",
    "removeNum = [2023856, 2023469, 2022529, 2017602, 2014046, 2005983, 2003836] \n",
    "\n",
    "illegalcam = illegalcam[~illegalcam['의안번호'].isin(removeNum)]\n",
    "illegalcam.shape"
   ]
  },
  {
   "cell_type": "code",
   "execution_count": null,
   "metadata": {},
   "outputs": [],
   "source": []
  },
  {
   "cell_type": "markdown",
   "metadata": {},
   "source": [
    "### 미투 관련 법안 "
   ]
  },
  {
   "cell_type": "code",
   "execution_count": 100,
   "metadata": {},
   "outputs": [
    {
     "data": {
      "text/plain": [
       "(892, 39)"
      ]
     },
     "execution_count": 100,
     "metadata": {},
     "output_type": "execute_result"
    }
   ],
   "source": [
    "# 미투 법안만 추려 확인해야 하는데 확인 안 했음... 너어무 힘드러~~~\n",
    "keyword = r'.*(미투|권력형 성폭력|권력형 성범죄|성희롱|성폭력|성범죄).*'\n",
    "metoo = bill_df[bill_df['의안명'].str.match(keyword) |\n",
    "           bill_df['제안이유'].str.match(keyword, flags=re.MULTILINE)]\n",
    "\n",
    "removeNum = [2023856, 2023469, 2022529, 2017602, 2014046, 2005983, 2003836] \n",
    "\n",
    "metoo = metoo[~metoo['의안번호'].isin(removeNum)]\n",
    "metoo.shape"
   ]
  },
  {
   "cell_type": "code",
   "execution_count": null,
   "metadata": {},
   "outputs": [],
   "source": []
  },
  {
   "cell_type": "markdown",
   "metadata": {},
   "source": [
    "### 스토킹 법안"
   ]
  },
  {
   "cell_type": "code",
   "execution_count": 54,
   "metadata": {},
   "outputs": [
    {
     "data": {
      "text/plain": [
       "(13, 39)"
      ]
     },
     "execution_count": 54,
     "metadata": {},
     "output_type": "execute_result"
    }
   ],
   "source": [
    "keyword = r'.*(스토킹|데이트폭력|데이트 폭력|스토커).*'\n",
    "stalking = bill_df[bill_df['의안명'].str.match(keyword) |\n",
    "           bill_df['제안이유'].str.match(keyword, flags=re.MULTILINE)]\n",
    "\n",
    "removeNum = [2101681]\n",
    "\n",
    "stalking = stalking[~stalking['의안번호'].isin(removeNum)]\n",
    "stalking.shape"
   ]
  },
  {
   "cell_type": "markdown",
   "metadata": {},
   "source": [
    "###  딥페이크 법안"
   ]
  },
  {
   "cell_type": "code",
   "execution_count": 55,
   "metadata": {},
   "outputs": [
    {
     "data": {
      "text/plain": [
       "(10, 39)"
      ]
     },
     "execution_count": 55,
     "metadata": {},
     "output_type": "execute_result"
    }
   ],
   "source": [
    "# 딥페이크 법안 \n",
    "keyword = r'.*(딥페이크|딥 페이크|deep fake|deep).*'\n",
    "deepFake = bill_df[bill_df['의안명'].str.match(keyword) |\n",
    "           bill_df['제안이유'].str.match(keyword, flags=re.MULTILINE)]\n",
    "deepFake.shape"
   ]
  },
  {
   "cell_type": "code",
   "execution_count": null,
   "metadata": {},
   "outputs": [],
   "source": []
  },
  {
   "cell_type": "markdown",
   "metadata": {},
   "source": [
    "### 기타\n",
    "\n",
    "#### 김학의 성접대 관련 / 버닝썬 관련 사건\n",
    "- 관련 법안은 국회의원들이 깊이 연관되어 있어서 법안이 없는건지 등 모르겠다...ㅜㅜ \n",
    "- 마약류를 넣어야 하는지, 특정 법안을 규정해야 하는지 모르겠다! "
   ]
  },
  {
   "cell_type": "code",
   "execution_count": null,
   "metadata": {},
   "outputs": [],
   "source": []
  },
  {
   "cell_type": "code",
   "execution_count": null,
   "metadata": {},
   "outputs": [],
   "source": []
  },
  {
   "cell_type": "code",
   "execution_count": null,
   "metadata": {},
   "outputs": [],
   "source": []
  },
  {
   "cell_type": "code",
   "execution_count": null,
   "metadata": {},
   "outputs": [],
   "source": []
  },
  {
   "cell_type": "code",
   "execution_count": null,
   "metadata": {},
   "outputs": [],
   "source": []
  },
  {
   "cell_type": "code",
   "execution_count": null,
   "metadata": {},
   "outputs": [],
   "source": []
  },
  {
   "cell_type": "code",
   "execution_count": null,
   "metadata": {},
   "outputs": [],
   "source": []
  }
 ],
 "metadata": {
  "colab": {
   "collapsed_sections": [],
   "name": "pending-bill-analysis-haram-v2.ipynb",
   "provenance": []
  },
  "kernelspec": {
   "display_name": "Python 3",
   "language": "python",
   "name": "python3"
  },
  "language_info": {
   "codemirror_mode": {
    "name": "ipython",
    "version": 3
   },
   "file_extension": ".py",
   "mimetype": "text/x-python",
   "name": "python",
   "nbconvert_exporter": "python",
   "pygments_lexer": "ipython3",
   "version": "3.8.5"
  }
 },
 "nbformat": 4,
 "nbformat_minor": 1
}
