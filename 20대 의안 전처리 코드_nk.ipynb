{
 "cells": [
  {
   "cell_type": "code",
   "execution_count": 1,
   "metadata": {},
   "outputs": [],
   "source": [
    "import pandas as pd\n",
    "import numpy as np\n",
    "import matplotlib.pyplot as plt\n",
    "import seaborn as sns\n",
    "import re\n",
    "\n",
    "from collections import Counter\n",
    "from tqdm.notebook import tqdm\n",
    "\n",
    "%matplotlib inline"
   ]
  },
  {
   "cell_type": "code",
   "execution_count": 2,
   "metadata": {
    "scrolled": true
   },
   "outputs": [
    {
     "ename": "FileNotFoundError",
     "evalue": "[Errno 2] File 20대 21대 의안정보 총합.csv does not exist: '20대 21대 의안정보 총합.csv'",
     "output_type": "error",
     "traceback": [
      "\u001b[1;31m---------------------------------------------------------------------------\u001b[0m",
      "\u001b[1;31mFileNotFoundError\u001b[0m                         Traceback (most recent call last)",
      "\u001b[1;32m<ipython-input-2-5e5e72ad3779>\u001b[0m in \u001b[0;36m<module>\u001b[1;34m\u001b[0m\n\u001b[1;32m----> 1\u001b[1;33m \u001b[0mbill_df\u001b[0m \u001b[1;33m=\u001b[0m \u001b[0mpd\u001b[0m\u001b[1;33m.\u001b[0m\u001b[0mread_csv\u001b[0m\u001b[1;33m(\u001b[0m\u001b[1;34m'20대 21대 의안정보 총합.csv'\u001b[0m\u001b[1;33m)\u001b[0m\u001b[1;33m\u001b[0m\u001b[1;33m\u001b[0m\u001b[0m\n\u001b[0m\u001b[0;32m      2\u001b[0m \u001b[0mprint\u001b[0m\u001b[1;33m(\u001b[0m\u001b[0mbill_df\u001b[0m\u001b[1;33m.\u001b[0m\u001b[0mshape\u001b[0m\u001b[1;33m)\u001b[0m\u001b[1;33m\u001b[0m\u001b[1;33m\u001b[0m\u001b[0m\n\u001b[0;32m      3\u001b[0m \u001b[0mbill_df\u001b[0m\u001b[1;33m.\u001b[0m\u001b[0mhead\u001b[0m\u001b[1;33m(\u001b[0m\u001b[1;33m)\u001b[0m\u001b[1;33m\u001b[0m\u001b[1;33m\u001b[0m\u001b[0m\n",
      "\u001b[1;32m~\\Anaconda3\\lib\\site-packages\\pandas\\io\\parsers.py\u001b[0m in \u001b[0;36mparser_f\u001b[1;34m(filepath_or_buffer, sep, delimiter, header, names, index_col, usecols, squeeze, prefix, mangle_dupe_cols, dtype, engine, converters, true_values, false_values, skipinitialspace, skiprows, skipfooter, nrows, na_values, keep_default_na, na_filter, verbose, skip_blank_lines, parse_dates, infer_datetime_format, keep_date_col, date_parser, dayfirst, cache_dates, iterator, chunksize, compression, thousands, decimal, lineterminator, quotechar, quoting, doublequote, escapechar, comment, encoding, dialect, error_bad_lines, warn_bad_lines, delim_whitespace, low_memory, memory_map, float_precision)\u001b[0m\n\u001b[0;32m    674\u001b[0m         )\n\u001b[0;32m    675\u001b[0m \u001b[1;33m\u001b[0m\u001b[0m\n\u001b[1;32m--> 676\u001b[1;33m         \u001b[1;32mreturn\u001b[0m \u001b[0m_read\u001b[0m\u001b[1;33m(\u001b[0m\u001b[0mfilepath_or_buffer\u001b[0m\u001b[1;33m,\u001b[0m \u001b[0mkwds\u001b[0m\u001b[1;33m)\u001b[0m\u001b[1;33m\u001b[0m\u001b[1;33m\u001b[0m\u001b[0m\n\u001b[0m\u001b[0;32m    677\u001b[0m \u001b[1;33m\u001b[0m\u001b[0m\n\u001b[0;32m    678\u001b[0m     \u001b[0mparser_f\u001b[0m\u001b[1;33m.\u001b[0m\u001b[0m__name__\u001b[0m \u001b[1;33m=\u001b[0m \u001b[0mname\u001b[0m\u001b[1;33m\u001b[0m\u001b[1;33m\u001b[0m\u001b[0m\n",
      "\u001b[1;32m~\\Anaconda3\\lib\\site-packages\\pandas\\io\\parsers.py\u001b[0m in \u001b[0;36m_read\u001b[1;34m(filepath_or_buffer, kwds)\u001b[0m\n\u001b[0;32m    446\u001b[0m \u001b[1;33m\u001b[0m\u001b[0m\n\u001b[0;32m    447\u001b[0m     \u001b[1;31m# Create the parser.\u001b[0m\u001b[1;33m\u001b[0m\u001b[1;33m\u001b[0m\u001b[1;33m\u001b[0m\u001b[0m\n\u001b[1;32m--> 448\u001b[1;33m     \u001b[0mparser\u001b[0m \u001b[1;33m=\u001b[0m \u001b[0mTextFileReader\u001b[0m\u001b[1;33m(\u001b[0m\u001b[0mfp_or_buf\u001b[0m\u001b[1;33m,\u001b[0m \u001b[1;33m**\u001b[0m\u001b[0mkwds\u001b[0m\u001b[1;33m)\u001b[0m\u001b[1;33m\u001b[0m\u001b[1;33m\u001b[0m\u001b[0m\n\u001b[0m\u001b[0;32m    449\u001b[0m \u001b[1;33m\u001b[0m\u001b[0m\n\u001b[0;32m    450\u001b[0m     \u001b[1;32mif\u001b[0m \u001b[0mchunksize\u001b[0m \u001b[1;32mor\u001b[0m \u001b[0miterator\u001b[0m\u001b[1;33m:\u001b[0m\u001b[1;33m\u001b[0m\u001b[1;33m\u001b[0m\u001b[0m\n",
      "\u001b[1;32m~\\Anaconda3\\lib\\site-packages\\pandas\\io\\parsers.py\u001b[0m in \u001b[0;36m__init__\u001b[1;34m(self, f, engine, **kwds)\u001b[0m\n\u001b[0;32m    878\u001b[0m             \u001b[0mself\u001b[0m\u001b[1;33m.\u001b[0m\u001b[0moptions\u001b[0m\u001b[1;33m[\u001b[0m\u001b[1;34m\"has_index_names\"\u001b[0m\u001b[1;33m]\u001b[0m \u001b[1;33m=\u001b[0m \u001b[0mkwds\u001b[0m\u001b[1;33m[\u001b[0m\u001b[1;34m\"has_index_names\"\u001b[0m\u001b[1;33m]\u001b[0m\u001b[1;33m\u001b[0m\u001b[1;33m\u001b[0m\u001b[0m\n\u001b[0;32m    879\u001b[0m \u001b[1;33m\u001b[0m\u001b[0m\n\u001b[1;32m--> 880\u001b[1;33m         \u001b[0mself\u001b[0m\u001b[1;33m.\u001b[0m\u001b[0m_make_engine\u001b[0m\u001b[1;33m(\u001b[0m\u001b[0mself\u001b[0m\u001b[1;33m.\u001b[0m\u001b[0mengine\u001b[0m\u001b[1;33m)\u001b[0m\u001b[1;33m\u001b[0m\u001b[1;33m\u001b[0m\u001b[0m\n\u001b[0m\u001b[0;32m    881\u001b[0m \u001b[1;33m\u001b[0m\u001b[0m\n\u001b[0;32m    882\u001b[0m     \u001b[1;32mdef\u001b[0m \u001b[0mclose\u001b[0m\u001b[1;33m(\u001b[0m\u001b[0mself\u001b[0m\u001b[1;33m)\u001b[0m\u001b[1;33m:\u001b[0m\u001b[1;33m\u001b[0m\u001b[1;33m\u001b[0m\u001b[0m\n",
      "\u001b[1;32m~\\Anaconda3\\lib\\site-packages\\pandas\\io\\parsers.py\u001b[0m in \u001b[0;36m_make_engine\u001b[1;34m(self, engine)\u001b[0m\n\u001b[0;32m   1112\u001b[0m     \u001b[1;32mdef\u001b[0m \u001b[0m_make_engine\u001b[0m\u001b[1;33m(\u001b[0m\u001b[0mself\u001b[0m\u001b[1;33m,\u001b[0m \u001b[0mengine\u001b[0m\u001b[1;33m=\u001b[0m\u001b[1;34m\"c\"\u001b[0m\u001b[1;33m)\u001b[0m\u001b[1;33m:\u001b[0m\u001b[1;33m\u001b[0m\u001b[1;33m\u001b[0m\u001b[0m\n\u001b[0;32m   1113\u001b[0m         \u001b[1;32mif\u001b[0m \u001b[0mengine\u001b[0m \u001b[1;33m==\u001b[0m \u001b[1;34m\"c\"\u001b[0m\u001b[1;33m:\u001b[0m\u001b[1;33m\u001b[0m\u001b[1;33m\u001b[0m\u001b[0m\n\u001b[1;32m-> 1114\u001b[1;33m             \u001b[0mself\u001b[0m\u001b[1;33m.\u001b[0m\u001b[0m_engine\u001b[0m \u001b[1;33m=\u001b[0m \u001b[0mCParserWrapper\u001b[0m\u001b[1;33m(\u001b[0m\u001b[0mself\u001b[0m\u001b[1;33m.\u001b[0m\u001b[0mf\u001b[0m\u001b[1;33m,\u001b[0m \u001b[1;33m**\u001b[0m\u001b[0mself\u001b[0m\u001b[1;33m.\u001b[0m\u001b[0moptions\u001b[0m\u001b[1;33m)\u001b[0m\u001b[1;33m\u001b[0m\u001b[1;33m\u001b[0m\u001b[0m\n\u001b[0m\u001b[0;32m   1115\u001b[0m         \u001b[1;32melse\u001b[0m\u001b[1;33m:\u001b[0m\u001b[1;33m\u001b[0m\u001b[1;33m\u001b[0m\u001b[0m\n\u001b[0;32m   1116\u001b[0m             \u001b[1;32mif\u001b[0m \u001b[0mengine\u001b[0m \u001b[1;33m==\u001b[0m \u001b[1;34m\"python\"\u001b[0m\u001b[1;33m:\u001b[0m\u001b[1;33m\u001b[0m\u001b[1;33m\u001b[0m\u001b[0m\n",
      "\u001b[1;32m~\\Anaconda3\\lib\\site-packages\\pandas\\io\\parsers.py\u001b[0m in \u001b[0;36m__init__\u001b[1;34m(self, src, **kwds)\u001b[0m\n\u001b[0;32m   1889\u001b[0m         \u001b[0mkwds\u001b[0m\u001b[1;33m[\u001b[0m\u001b[1;34m\"usecols\"\u001b[0m\u001b[1;33m]\u001b[0m \u001b[1;33m=\u001b[0m \u001b[0mself\u001b[0m\u001b[1;33m.\u001b[0m\u001b[0musecols\u001b[0m\u001b[1;33m\u001b[0m\u001b[1;33m\u001b[0m\u001b[0m\n\u001b[0;32m   1890\u001b[0m \u001b[1;33m\u001b[0m\u001b[0m\n\u001b[1;32m-> 1891\u001b[1;33m         \u001b[0mself\u001b[0m\u001b[1;33m.\u001b[0m\u001b[0m_reader\u001b[0m \u001b[1;33m=\u001b[0m \u001b[0mparsers\u001b[0m\u001b[1;33m.\u001b[0m\u001b[0mTextReader\u001b[0m\u001b[1;33m(\u001b[0m\u001b[0msrc\u001b[0m\u001b[1;33m,\u001b[0m \u001b[1;33m**\u001b[0m\u001b[0mkwds\u001b[0m\u001b[1;33m)\u001b[0m\u001b[1;33m\u001b[0m\u001b[1;33m\u001b[0m\u001b[0m\n\u001b[0m\u001b[0;32m   1892\u001b[0m         \u001b[0mself\u001b[0m\u001b[1;33m.\u001b[0m\u001b[0munnamed_cols\u001b[0m \u001b[1;33m=\u001b[0m \u001b[0mself\u001b[0m\u001b[1;33m.\u001b[0m\u001b[0m_reader\u001b[0m\u001b[1;33m.\u001b[0m\u001b[0munnamed_cols\u001b[0m\u001b[1;33m\u001b[0m\u001b[1;33m\u001b[0m\u001b[0m\n\u001b[0;32m   1893\u001b[0m \u001b[1;33m\u001b[0m\u001b[0m\n",
      "\u001b[1;32mpandas\\_libs\\parsers.pyx\u001b[0m in \u001b[0;36mpandas._libs.parsers.TextReader.__cinit__\u001b[1;34m()\u001b[0m\n",
      "\u001b[1;32mpandas\\_libs\\parsers.pyx\u001b[0m in \u001b[0;36mpandas._libs.parsers.TextReader._setup_parser_source\u001b[1;34m()\u001b[0m\n",
      "\u001b[1;31mFileNotFoundError\u001b[0m: [Errno 2] File 20대 21대 의안정보 총합.csv does not exist: '20대 21대 의안정보 총합.csv'"
     ]
    }
   ],
   "source": [
    "bill_df = pd.read_csv('20대 21대 의안정보 총합.csv')\n",
    "print(bill_df.shape)\n",
    "bill_df.head()"
   ]
  },
  {
   "cell_type": "markdown",
   "metadata": {},
   "source": [
    "### 1. Data Preprocessing"
   ]
  },
  {
   "cell_type": "markdown",
   "metadata": {},
   "source": [
    "#### 1.1 20, 21대 국회 데이터 나누기"
   ]
  },
  {
   "cell_type": "code",
   "execution_count": null,
   "metadata": {},
   "outputs": [],
   "source": [
    "bill_20th = bill_df.iloc[:25222]\n",
    "bill_21th = bill_df.iloc[25222:].reset_index(drop=True)"
   ]
  },
  {
   "cell_type": "code",
   "execution_count": null,
   "metadata": {
    "scrolled": true
   },
   "outputs": [],
   "source": [
    "bill_21th[:10]"
   ]
  },
  {
   "cell_type": "markdown",
   "metadata": {},
   "source": [
    "#### 1.2 제안이유 및 의안명"
   ]
  },
  {
   "cell_type": "code",
   "execution_count": null,
   "metadata": {},
   "outputs": [],
   "source": [
    "bill_20th['의안명'] = bill_20th['의안명'].str.strip()\n",
    "bill_21th['의안명'] = bill_21th['의안명'].str.strip()"
   ]
  },
  {
   "cell_type": "code",
   "execution_count": null,
   "metadata": {},
   "outputs": [],
   "source": [
    "bill_20th['제안이유'] = bill_20th['제안이유'].fillna('')\n",
    "bill_21th['제안이유'] = bill_21th['제안이유'].fillna('')"
   ]
  },
  {
   "cell_type": "code",
   "execution_count": null,
   "metadata": {
    "scrolled": true
   },
   "outputs": [],
   "source": [
    "def clean_reason(df_col): \n",
    "    text = df_col[2:-2].replace('제안이유 및 주요내용','').replace('제안이유','')\n",
    "    return re.sub('[-=.#/:$}·,■?]', ' ', text)"
   ]
  },
  {
   "cell_type": "code",
   "execution_count": null,
   "metadata": {},
   "outputs": [],
   "source": [
    "%time bill_20th['제안이유'] = bill_20th['제안이유'].apply(lambda x: clean_reason(x))"
   ]
  },
  {
   "cell_type": "code",
   "execution_count": null,
   "metadata": {},
   "outputs": [],
   "source": [
    "%time bill_21th['제안이유'] = bill_21th['제안이유'].apply(lambda x: clean_reason(x))"
   ]
  },
  {
   "cell_type": "code",
   "execution_count": null,
   "metadata": {},
   "outputs": [],
   "source": [
    "bill_20th.head()"
   ]
  },
  {
   "cell_type": "markdown",
   "metadata": {},
   "source": [
    "#### 1.3 제안일자, 의결일자"
   ]
  },
  {
   "cell_type": "code",
   "execution_count": null,
   "metadata": {},
   "outputs": [],
   "source": [
    "bill_21th['제안일자'] = pd.to_datetime(bill_21th['제안일자'])\n",
    "bill_21th['의결일자'] = pd.to_datetime(bill_21th['의결일자'])\n",
    "\n",
    "bill_20th['제안일자'] = pd.to_datetime(bill_20th['제안일자'])\n",
    "bill_20th['의결일자'] = pd.to_datetime(bill_20th['의결일자'])"
   ]
  },
  {
   "cell_type": "markdown",
   "metadata": {},
   "source": [
    "#### 1.4 의결결과"
   ]
  },
  {
   "cell_type": "code",
   "execution_count": null,
   "metadata": {},
   "outputs": [],
   "source": [
    "accept_list = ['대안반영폐기', '원안가결', '수정가결', '수정안반영폐기', '가결']\n",
    "reject_list = ['임기만료폐기', '부결', '철회', '반려', '심사대상제외', '폐기']"
   ]
  },
  {
   "cell_type": "code",
   "execution_count": null,
   "metadata": {},
   "outputs": [],
   "source": [
    "## 의결결과가 '대안반영폐기', '원안가결', '수정가결', '수정안반영폐기', '가결' 이면 법률반영\n",
    "##            '임기만료폐기', '부결', '철회', '반려', '심사대상제외', '폐기' 이면 법률미반영\n",
    "bill_20th.loc[bill_20th['의결결과'].isin(accept_list), '법률반영여부'] = '반영'\n",
    "bill_20th.loc[bill_20th['의결결과'].isin(reject_list), '법률반영여부'] = '미반영'"
   ]
  },
  {
   "cell_type": "markdown",
   "metadata": {},
   "source": [
    "#### 1.5 제안자구분"
   ]
  },
  {
   "cell_type": "code",
   "execution_count": 14,
   "metadata": {},
   "outputs": [],
   "source": [
    "proposer_type_list = ['의원', '위원장', '의장']"
   ]
  },
  {
   "cell_type": "code",
   "execution_count": 15,
   "metadata": {},
   "outputs": [],
   "source": [
    "bill_20th_new = bill_20th[bill_20th['제안자구분'].isin(proposer_type_list)]\n",
    "bill_20th_new.reset_index(drop = True, inplace = True)\n",
    "bill_21th_new = bill_21th[bill_21th['제안자구분'].isin(proposer_type_list)]\n",
    "bill_21th_new.reset_index(drop = True, inplace = True)"
   ]
  },
  {
   "cell_type": "code",
   "execution_count": 16,
   "metadata": {},
   "outputs": [
    {
     "data": {
      "text/plain": [
       "array(['법제사법위원회', '행정안전위원회', '정보위원회', '여성가족위원회', '문화체육관광위원회', '국회운영위원회',\n",
       "       '과학기술정보방송통신위원회', '정무위원회', '기획재정위원회', '국토교통위원회', '환경노동위원회', '',\n",
       "       '국방위원회', '외교통일위원회', '농림축산식품해양수산위원회', '산업통상자원중소벤처기업위원회', '교육위원회',\n",
       "       '보건복지위원회', '국회 코로나19 대책 특별위원회', '헌법개정 및 정치개혁 특별위원회',\n",
       "       '중앙선거관리위원회 위원 선출에 관한 인사청문특별위원회', '예산결산특별위원회', '정치개혁 특별위원회',\n",
       "       '사법개혁 특별위원회', '윤리특별위원회', '공공부문 채용비리 의혹과 관련된 국정조사특별위원회',\n",
       "       '헌법재판소 재판관 선출에 관한 인사청문특별위원회', '미세먼지 대책 특별위원회', '교육문화체육관광위원회',\n",
       "       '안전행정위원회', '산업통상자원위원회', '미래창조과학방송통신위원회',\n",
       "       '평창동계올림픽 및 국제경기대회지원 특별위원회',\n",
       "       '박근혜정부의최순실등민간인에의한국정농단의혹사건진상규명을위한국정조사특별위원회', '저출산·고령화대책 특별위원회',\n",
       "       '가습기살균제 사고 진상규명과 피해구제 및 재발방지 대책마련을 위한 국정조사특별위원회',\n",
       "       '국회상임위원회 위원정수에 관한 규칙 개정 특별위원회'], dtype=object)"
      ]
     },
     "execution_count": 16,
     "metadata": {},
     "output_type": "execute_result"
    }
   ],
   "source": [
    "bill_20th_new.loc[bill_20th_new['소관위원회'].isnull(),'소관위원회'] = ''\n",
    "bill_20th_new.loc[bill_20th_new['소관위원회'] == '[]', '소관위원회'] = ''\n",
    "bill_20th_new.loc[bill_20th_new['소관위원회'].str.startswith('2'), '소관위원회'] = ''\n",
    "bill_20th_new['소관위원회'].unique()"
   ]
  },
  {
   "cell_type": "markdown",
   "metadata": {},
   "source": [
    "1.5.1 __국회운영위원회__"
   ]
  },
  {
   "cell_type": "code",
   "execution_count": 17,
   "metadata": {},
   "outputs": [],
   "source": [
    "## 2016년 국회운영위원회 위원장 : 정진석(새누리당/鄭鎭碩)\n",
    "cond1 = bill_20th_new['제안자구분'] == '위원장'\n",
    "cond2 = bill_20th_new['소관위원회'] == '국회운영위원회'\n",
    "cond3 = bill_20th_new['제안일자'] <= '2016-12-29'\n",
    "bill_20th_new.loc[cond1 & cond2 & cond3, '제안자'] = \"['정진석(새누리당/鄭鎭碩)']\"\n",
    "\n",
    "## 2017년 국회운영위원회 위원장 : 정우택(새누리당/鄭宇澤)\n",
    "cond1 = bill_20th_new['제안자구분'] == '위원장'\n",
    "cond2 = bill_20th_new['소관위원회'] == '국회운영위원회'\n",
    "cond3 = (bill_20th_new['제안일자'] >= '2016-12-30') & (bill_20th_new['제안일자'] <= '2017-12-29')\n",
    "bill_20th_new.loc[cond1 & cond2 & cond3, '제안자'] = \"['정우택(새누리당/鄭宇澤)']\"\n",
    "\n",
    "## 2018년 전반기 국회운영위원회 위원장 : 김성태(자유한국당/金聖泰)\n",
    "cond1 = bill_20th_new['제안자구분'] == '위원장'\n",
    "cond2 = bill_20th_new['소관위원회'] == '국회운영위원회'\n",
    "cond3 = (bill_20th_new['제안일자'] >= '2017-12-30') & (bill_20th_new['제안일자'] < '2018-05-29')\n",
    "bill_20th_new.loc[cond1 & cond2 & cond3, '제안자'] = \"['정우택(자유한국당/鄭宇澤)']\"\n",
    "\n",
    "## 2018년 후반기 국회운영위원회 위원장 : 홍영표(더불어민주당/洪永杓)\n",
    "cond1 = bill_20th_new['제안자구분'] == '위원장'\n",
    "cond2 = bill_20th_new['소관위원회'] == '국회운영위원회'\n",
    "cond3 = (bill_20th_new['제안일자'] >= '2018-06-01') & (bill_20th_new['제안일자'] < '2019-06-28')\n",
    "bill_20th_new.loc[cond1 & cond2 & cond3, '제안자'] = \"['홍영표(더불어민주당/洪永杓)']\"\n",
    "\n",
    "## 2018년 후반기 국회운영위원회 위원장 : 이인영(더불어민주당/李仁榮)\n",
    "cond1 = bill_20th_new['제안자구분'] == '위원장'\n",
    "cond2 = bill_20th_new['소관위원회'] == '국회운영위원회'\n",
    "cond3 = (bill_20th_new['제안일자'] >= '2019-06-28') & (bill_20th_new['제안일자'] < '2020-05-30')\n",
    "bill_20th_new.loc[cond1 & cond2 & cond3, '제안자'] = \"['이인영(더불어민주당/李仁榮)']\""
   ]
  },
  {
   "cell_type": "markdown",
   "metadata": {},
   "source": [
    "1.5.2 __법제사법위원회__"
   ]
  },
  {
   "cell_type": "code",
   "execution_count": 18,
   "metadata": {},
   "outputs": [],
   "source": [
    "## 20대 전반기 법제사법위원회 위원장 : 권성동(자유한국당/權性東)\n",
    "cond1 = bill_20th_new['제안자구분'] == '위원장'\n",
    "cond2 = bill_20th_new['소관위원회'] == '법제사법위원회'\n",
    "cond3 = (bill_20th_new['제안일자'] >= '2016-06-13') & (bill_20th_new['제안일자'] < '2018-05-29')\n",
    "bill_20th_new.loc[cond1 & cond2 & cond3, '제안자'] = \"['권성동(자유한국당/權性東)']\"\n",
    "\n",
    "## 20대 후반기 법제사법위원회 위원장 : 여상규(미래통합당/余尙奎)\n",
    "cond1 = bill_20th_new['제안자구분'] == '위원장'\n",
    "cond2 = bill_20th_new['소관위원회'] == '법제사법위원회'\n",
    "cond3 = (bill_20th_new['제안일자'] >= '2018-06-01') & (bill_20th_new['제안일자'] < '2020-05-29')\n",
    "bill_20th_new.loc[cond1 & cond2 & cond3, '제안자'] = \"['여상규(미래통합당/余尙奎)']\""
   ]
  },
  {
   "cell_type": "markdown",
   "metadata": {},
   "source": [
    "1.5.3 __정무위원회__"
   ]
  },
  {
   "cell_type": "code",
   "execution_count": 19,
   "metadata": {},
   "outputs": [],
   "source": [
    "cond1 = bill_20th_new['제안자구분'] == '위원장'\n",
    "cond2 = bill_20th_new['소관위원회'] == '정무위원회'\n",
    "cond3 = (bill_20th_new['제안일자'] >= '2016-06-13') & (bill_20th_new['제안일자'] <= '2017-12-29')\n",
    "bill_20th_new.loc[cond1 & cond2 & cond3, '제안자'] = \"['이진복(새누리당/李珍福)']\"\n",
    "\n",
    "cond1 = bill_20th_new['제안자구분'] == '위원장'\n",
    "cond2 = bill_20th_new['소관위원회'] == '정무위원회'\n",
    "cond3 = (bill_20th_new['제안일자'] >= '2017-12-30') & (bill_20th_new['제안일자'] <= '2018-05-29')\n",
    "bill_20th_new.loc[cond1 & cond2 & cond3, '제안자'] = \"['김용태(자유한국당/金容兌)']\"\n",
    "\n",
    "cond1 = bill_20th_new['제안자구분'] == '위원장'\n",
    "cond2 = bill_20th_new['소관위원회'] == '정무위원회'\n",
    "cond3 = (bill_20th_new['제안일자'] >= '2018-06-01') & (bill_20th_new['제안일자'] <= '2020-05-30')\n",
    "bill_20th_new.loc[cond1 & cond2 & cond3, '제안자'] = \"['민병두(더불어민주당/閔丙梪)']\""
   ]
  },
  {
   "cell_type": "markdown",
   "metadata": {},
   "source": [
    "1.5.4 __기획재정위원회__"
   ]
  },
  {
   "cell_type": "code",
   "execution_count": 20,
   "metadata": {},
   "outputs": [],
   "source": [
    "cond1 = bill_20th_new['제안자구분'] == '위원장'\n",
    "cond2 = bill_20th_new['소관위원회'] == '기획재정위원회'\n",
    "cond3 = (bill_20th_new['제안일자'] >= '2016-06-13') & (bill_20th_new['제안일자'] <= '2018-05-29')\n",
    "bill_20th_new.loc[cond1 & cond2 & cond3, '제안자'] = \"['조경태(새누리당/趙慶泰)']\"\n",
    "\n",
    "cond1 = bill_20th_new['제안자구분'] == '위원장'\n",
    "cond2 = bill_20th_new['소관위원회'] == '기획재정위원회'\n",
    "cond3 = (bill_20th_new['제안일자'] >= '2018-06-01') & (bill_20th_new['제안일자'] <= '2019-06-28')\n",
    "bill_20th_new.loc[cond1 & cond2 & cond3, '제안자'] = \"['정성호(더불어민주당/鄭成湖)']\"\n",
    "\n",
    "cond1 = bill_20th_new['제안자구분'] == '위원장'\n",
    "cond2 = bill_20th_new['소관위원회'] == '기획재정위원회'\n",
    "cond3 = (bill_20th_new['제안일자'] >= '2019-06-29') & (bill_20th_new['제안일자'] <= '2020-05-30')\n",
    "bill_20th_new.loc[cond1 & cond2 & cond3, '제안자'] = \"['이춘석(더불어민주당/李春錫)']\""
   ]
  },
  {
   "cell_type": "markdown",
   "metadata": {},
   "source": [
    "1.5.5 __과학기술정보방송통신위원회__"
   ]
  },
  {
   "cell_type": "code",
   "execution_count": 21,
   "metadata": {},
   "outputs": [],
   "source": [
    "cond1 = bill_20th_new['제안자구분'] == '위원장'\n",
    "cond2 = bill_20th_new['소관위원회'] == '과학기술정보방송통신위원회'\n",
    "cond3 = (bill_20th_new['제안일자'] >= '2016-06-13') & (bill_20th_new['제안일자'] <= '2018-05-29')\n",
    "bill_20th_new.loc[cond1 & cond2 & cond3, '제안자'] = \"['신상진(새누리당/申相珍)']\"\n",
    "\n",
    "cond1 = bill_20th_new['제안자구분'] == '위원장'\n",
    "cond2 = bill_20th_new['소관위원회'] == '과학기술정보방송통신위원회'\n",
    "cond3 = (bill_20th_new['제안일자'] >= '2018-06-01') & (bill_20th_new['제안일자'] <= '2020-05-30')\n",
    "bill_20th_new.loc[cond1 & cond2 & cond3, '제안자'] = \"['노웅래(더불어민주당/盧雄來)']\""
   ]
  },
  {
   "cell_type": "markdown",
   "metadata": {},
   "source": [
    "1.5.6 __교육문화체육관광위원회__"
   ]
  },
  {
   "cell_type": "code",
   "execution_count": 22,
   "metadata": {},
   "outputs": [],
   "source": [
    "cond1 = bill_20th_new['제안자구분'] == '위원장'\n",
    "cond2 = bill_20th_new['소관위원회'] == '교육문화체육관광위원회'\n",
    "cond3 = (bill_20th_new['제안일자'] >= '2016-06-13') & (bill_20th_new['제안일자'] <= '2018-05-29')\n",
    "bill_20th_new.loc[cond1 & cond2 & cond3, '제안자'] = \"['유성엽(국민의당/柳成葉)']\"\n",
    "\n",
    "## 교육위원회\n",
    "cond1 = bill_20th_new['제안자구분'] == '위원장'\n",
    "cond2 = bill_20th_new['소관위원회'] == '교육위원회'\n",
    "cond3 = (bill_20th_new['제안일자'] >= '2018-06-01') & (bill_20th_new['제안일자'] <= '2020-05-30')\n",
    "bill_20th_new.loc[cond1 & cond2 & cond3, '제안자'] = \"['이찬열(자유한국당/李燦烈)']\"\n",
    "\n",
    "## 문화체육관광위원회\n",
    "cond1 = bill_20th_new['제안자구분'] == '위원장'\n",
    "cond2 = bill_20th_new['소관위원회'] == '문화체육관광위원회'\n",
    "cond3 = (bill_20th_new['제안일자'] >= '2018-07-16') & (bill_20th_new['제안일자'] <= '2020-05-30')\n",
    "bill_20th_new.loc[cond1 & cond2 & cond3, '제안자'] = \"['안민석(더불어민주당/安敏錫)']\""
   ]
  },
  {
   "cell_type": "markdown",
   "metadata": {},
   "source": [
    "1.5.7 __외교통일위원회__"
   ]
  },
  {
   "cell_type": "code",
   "execution_count": 23,
   "metadata": {},
   "outputs": [],
   "source": [
    "cond1 = bill_20th_new['제안자구분'] == '위원장'\n",
    "cond2 = bill_20th_new['소관위원회'] == '외교통일위원회'\n",
    "cond3 = (bill_20th_new['제안일자'] >= '2016-06-13') & (bill_20th_new['제안일자'] <= '2018-05-29')\n",
    "bill_20th_new.loc[cond1 & cond2 & cond3, '제안자'] = \"['심재권(더불어민주당/沈載權)']\"\n",
    "\n",
    "cond1 = bill_20th_new['제안자구분'] == '위원장'\n",
    "cond2 = bill_20th_new['소관위원회'] == '외교통일위원회'\n",
    "cond3 = (bill_20th_new['제안일자'] >= '2018-06-01') & (bill_20th_new['제안일자'] <= '2019-03-30')\n",
    "bill_20th_new.loc[cond1 & cond2 & cond3, '제안자'] = \"['윤상현(자유한국당/尹相現)']\"\n",
    "\n",
    "cond1 = bill_20th_new['제안자구분'] == '위원장'\n",
    "cond2 = bill_20th_new['소관위원회'] == '외교통일위원회'\n",
    "cond3 = (bill_20th_new['제안일자'] >= '2019-04-01') & (bill_20th_new['제안일자'] <= '2020-05-30')\n",
    "bill_20th_new.loc[cond1 & cond2 & cond3, '제안자'] = \"['강석호(자유한국당/姜碩鎬)']\""
   ]
  },
  {
   "cell_type": "markdown",
   "metadata": {},
   "source": [
    "1.5.8 __국방위원회__"
   ]
  },
  {
   "cell_type": "code",
   "execution_count": 24,
   "metadata": {},
   "outputs": [],
   "source": [
    "cond1 = bill_20th_new['제안자구분'] == '위원장'\n",
    "cond2 = bill_20th_new['소관위원회'] == '국방위원회'\n",
    "cond3 = (bill_20th_new['제안일자'] >= '2016-06-13') & (bill_20th_new['제안일자'] <= '2017-12-31')\n",
    "bill_20th_new.loc[cond1 & cond2 & cond3, '제안자'] = \"['김영우(새누리당/金榮宇)']\"\n",
    "\n",
    "cond1 = bill_20th_new['제안자구분'] == '위원장'\n",
    "cond2 = bill_20th_new['소관위원회'] == '국방위원회'\n",
    "cond3 = (bill_20th_new['제안일자'] >= '2018-01-01') & (bill_20th_new['제안일자'] <= '2018-05-29')\n",
    "bill_20th_new.loc[cond1 & cond2 & cond3, '제안자'] = \"['김학용(새누리당/金學容)']\"\n",
    "\n",
    "cond1 = bill_20th_new['제안자구분'] == '위원장'\n",
    "cond2 = bill_20th_new['소관위원회'] == '국방위원회'\n",
    "cond3 = (bill_20th_new['제안일자'] >= '2018-06-01') & (bill_20th_new['제안일자'] <= '2020-05-30')\n",
    "bill_20th_new.loc[cond1 & cond2 & cond3, '제안자'] = \"['안규백(더불어민주당/安圭伯)']\""
   ]
  },
  {
   "cell_type": "markdown",
   "metadata": {},
   "source": [
    "1.5.9 __행정안전위원회__"
   ]
  },
  {
   "cell_type": "code",
   "execution_count": 25,
   "metadata": {},
   "outputs": [],
   "source": [
    "cond1 = bill_20th_new['제안자구분'] == '위원장'\n",
    "cond2 = bill_20th_new['소관위원회'] == '행정안전위원회'\n",
    "cond3 = (bill_20th_new['제안일자'] >= '2016-06-13') & (bill_20th_new['제안일자'] <= '2018-05-29')\n",
    "bill_20th_new.loc[cond1 & cond2 & cond3, '제안자'] = \"['유재중(새누리당/柳在仲)']\" \n",
    "\n",
    "cond1 = bill_20th_new['제안자구분'] == '위원장'\n",
    "cond2 = bill_20th_new['소관위원회'] == '행정안전위원회'\n",
    "cond3 = (bill_20th_new['제안일자'] >= '2018-06-01') & (bill_20th_new['제안일자'] <= '2019-06-30')\n",
    "bill_20th_new.loc[cond1 & cond2 & cond3, '제안자'] = \"['인재근(더불어민주당/印在謹)']\" \n",
    "\n",
    "cond1 = bill_20th_new['제안자구분'] == '위원장'\n",
    "cond2 = bill_20th_new['소관위원회'] == '행정안전위원회'\n",
    "cond3 = (bill_20th_new['제안일자'] >= '2019-07-01') & (bill_20th_new['제안일자'] <= '2020-05-30')\n",
    "bill_20th_new.loc[cond1 & cond2 & cond3, '제안자'] = \"['전혜숙(더불어민주당/全惠淑)']\" "
   ]
  },
  {
   "cell_type": "markdown",
   "metadata": {},
   "source": [
    "1.5.10 __농림축산식품해양수산위원회__"
   ]
  },
  {
   "cell_type": "code",
   "execution_count": 26,
   "metadata": {},
   "outputs": [],
   "source": [
    "cond1 = bill_20th_new['제안자구분'] == '위원장'\n",
    "cond2 = bill_20th_new['소관위원회'] == '농림축산식품해양수산위원회'\n",
    "cond3 = (bill_20th_new['제안일자'] >= '2016-06-13') & (bill_20th_new['제안일자'] <= '2017-06-30')\n",
    "bill_20th_new.loc[cond1 & cond2 & cond3, '제안자'] = \"['김영춘(더불어민주당/金榮春)']\" \n",
    "\n",
    "cond1 = bill_20th_new['제안자구분'] == '위원장'\n",
    "cond2 = bill_20th_new['소관위원회'] == '농림축산식품해양수산위원회'\n",
    "cond3 = (bill_20th_new['제안일자'] > '2017-06-30') & (bill_20th_new['제안일자'] <= '2018-05-29')\n",
    "bill_20th_new.loc[cond1 & cond2 & cond3, '제안자'] = \"['설훈(더불어민주당/薛勳)']\"\n",
    "\n",
    "cond1 = bill_20th_new['제안자구분'] == '위원장'\n",
    "cond2 = bill_20th_new['소관위원회'] == '농림축산식품해양수산위원회'\n",
    "cond3 = (bill_20th_new['제안일자'] > '2018-05-29') & (bill_20th_new['제안일자'] <= '2020-05-30')\n",
    "bill_20th_new.loc[cond1 & cond2 & cond3, '제안자'] = \"['황주홍(국민의당/黃柱洪)']\""
   ]
  },
  {
   "cell_type": "markdown",
   "metadata": {},
   "source": [
    "1.5.11 __산업통상자원중소벤처기업위원회__"
   ]
  },
  {
   "cell_type": "code",
   "execution_count": 27,
   "metadata": {},
   "outputs": [],
   "source": [
    "cond1 = bill_20th_new['제안자구분'] == '위원장'\n",
    "cond2 = bill_20th_new['소관위원회'] == '산업통상자원중소벤처기업위원회'\n",
    "cond3 = (bill_20th_new['제안일자'] >= '2016-06-13') & (bill_20th_new['제안일자'] <= '2018-05-29')\n",
    "bill_20th_new.loc[cond1 & cond2 & cond3, '제안자'] = \"['장병완(국민의당/張秉浣)']\" \n",
    "\n",
    "cond1 = bill_20th_new['제안자구분'] == '위원장'\n",
    "cond2 = bill_20th_new['소관위원회'] == '산업통상자원중소벤처기업위원회'\n",
    "cond3 = (bill_20th_new['제안일자'] > '2018-05-29') & (bill_20th_new['제안일자'] <= '2019-07-04')\n",
    "bill_20th_new.loc[cond1 & cond2 & cond3, '제안자'] = \"['홍일표(자유한국당/洪日杓)']\"\n",
    "\n",
    "cond1 = bill_20th_new['제안자구분'] == '위원장'\n",
    "cond2 = bill_20th_new['소관위원회'] == '산업통상자원중소벤처기업위원회'\n",
    "cond3 = (bill_20th_new['제안일자'] > '2019-07-04') & (bill_20th_new['제안일자'] <= '2020-05-30')\n",
    "bill_20th_new.loc[cond1 & cond2 & cond3, '제안자'] = \"['이종구(자유한국당/李鍾九)']\""
   ]
  },
  {
   "cell_type": "markdown",
   "metadata": {},
   "source": [
    "1.5.12 __보건복지위원회__"
   ]
  },
  {
   "cell_type": "code",
   "execution_count": 28,
   "metadata": {},
   "outputs": [],
   "source": [
    "cond1 = bill_20th_new['제안자구분'] == '위원장'\n",
    "cond2 = bill_20th_new['소관위원회'] == '보건복지위원회'\n",
    "cond3 = (bill_20th_new['제안일자'] >= '2016-06-13') & (bill_20th_new['제안일자'] <= '2018-05-29')\n",
    "bill_20th_new.loc[cond1 & cond2 & cond3, '제안자'] = \"['양승조(더불어민주당/梁承晁)']\"\n",
    "\n",
    "cond1 = bill_20th_new['제안자구분'] == '위원장'\n",
    "cond2 = bill_20th_new['소관위원회'] == '보건복지위원회'\n",
    "cond3 = (bill_20th_new['제안일자'] > '2018-05-29') & (bill_20th_new['제안일자'] <= '2019-07-31')\n",
    "bill_20th_new.loc[cond1 & cond2 & cond3, '제안자'] = \"['이명수(자유한국당/李明洙)']\"\n",
    "\n",
    "cond1 = bill_20th_new['제안자구분'] == '위원장'\n",
    "cond2 = bill_20th_new['소관위원회'] == '보건복지위원회'\n",
    "cond3 = (bill_20th_new['제안일자'] > '2019-07-31') & (bill_20th_new['제안일자'] <= '2020-05-30')\n",
    "bill_20th_new.loc[cond1 & cond2 & cond3, '제안자'] = \"['김세연(자유한국당/金世淵)']\""
   ]
  },
  {
   "cell_type": "markdown",
   "metadata": {},
   "source": [
    "1.5.13 __환경노동위원회__"
   ]
  },
  {
   "cell_type": "code",
   "execution_count": 29,
   "metadata": {},
   "outputs": [],
   "source": [
    "cond1 = bill_20th_new['제안자구분'] == '위원장'\n",
    "cond2 = bill_20th_new['소관위원회'] == '환경노동위원회'\n",
    "cond3 = (bill_20th_new['제안일자'] >= '2016-06-13') & (bill_20th_new['제안일자'] <= '2018-05-29')\n",
    "bill_20th_new.loc[cond1 & cond2 & cond3, '제안자'] = \"['홍영표(더불어민주당/洪永杓)']\"\n",
    "\n",
    "cond1 = bill_20th_new['제안자구분'] == '위원장'\n",
    "cond2 = bill_20th_new['소관위원회'] == '환경노동위원회'\n",
    "cond3 = (bill_20th_new['제안일자'] > '2018-05-29') & (bill_20th_new['제안일자'] <= '2020-05-30')\n",
    "bill_20th_new.loc[cond1 & cond2 & cond3, '제안자'] = \"['김학용(자유한국당/金學容)']\""
   ]
  },
  {
   "cell_type": "markdown",
   "metadata": {},
   "source": [
    "1.5.14 __국토교통위원회__"
   ]
  },
  {
   "cell_type": "code",
   "execution_count": 30,
   "metadata": {},
   "outputs": [],
   "source": [
    "cond1 = bill_20th_new['제안자구분'] == '위원장'\n",
    "cond2 = bill_20th_new['소관위원회'] == '국토교통위원회'\n",
    "cond3 = (bill_20th_new['제안일자'] >= '2016-06-13') & (bill_20th_new['제안일자'] <= '2018-05-29')\n",
    "bill_20th_new.loc[cond1 & cond2 & cond3, '제안자'] = \"['조정식(더불어민주당/趙正湜)']\"\n",
    "\n",
    "cond1 = bill_20th_new['제안자구분'] == '위원장'\n",
    "cond2 = bill_20th_new['소관위원회'] == '국토교통위원회'\n",
    "cond3 = (bill_20th_new['제안일자'] > '2018-05-29') & (bill_20th_new['제안일자'] <= '2020-05-30')\n",
    "bill_20th_new.loc[cond1 & cond2 & cond3, '제안자'] = \"['박순자(자유한국당/朴順子)']\""
   ]
  },
  {
   "cell_type": "markdown",
   "metadata": {},
   "source": [
    "1.5.15 __정보위원회__"
   ]
  },
  {
   "cell_type": "code",
   "execution_count": 31,
   "metadata": {},
   "outputs": [],
   "source": [
    "cond1 = bill_20th_new['제안자구분'] == '위원장'\n",
    "cond2 = bill_20th_new['소관위원회'] == '정보위원회'\n",
    "cond3 = (bill_20th_new['제안일자'] >= '2016-06-13') & (bill_20th_new['제안일자'] <= '2016-12-31')\n",
    "bill_20th_new.loc[cond1 & cond2 & cond3, '제안자'] = \"['이철우(새누리당/李喆雨)']\"\n",
    "\n",
    "cond1 = bill_20th_new['제안자구분'] == '위원장'\n",
    "cond2 = bill_20th_new['소관위원회'] == '정보위원회'\n",
    "cond3 = (bill_20th_new['제안일자'] >= '2017-01-01') & (bill_20th_new['제안일자'] <= '2018-05-29')\n",
    "bill_20th_new.loc[cond1 & cond2 & cond3, '제안자'] = \"['강석호(자유한국당/姜碩鎬)']\"\n",
    "\n",
    "cond1 = bill_20th_new['제안자구분'] == '위원장'\n",
    "cond2 = bill_20th_new['소관위원회'] == '정보위원회'\n",
    "cond3 = (bill_20th_new['제안일자'] > '2018-05-29') & (bill_20th_new['제안일자'] <= '2018-12-31')\n",
    "bill_20th_new.loc[cond1 & cond2 & cond3, '제안자'] = \"['이학재(바른미래당/李鶴宰)']\"\n",
    "\n",
    "cond1 = bill_20th_new['제안자구분'] == '위원장'\n",
    "cond2 = bill_20th_new['소관위원회'] == '정보위원회'\n",
    "cond3 = (bill_20th_new['제안일자'] > '2018-12-31') & (bill_20th_new['제안일자'] <= '2020-01-05')\n",
    "bill_20th_new.loc[cond1 & cond2 & cond3, '제안자'] = \"['이혜훈(바른미래당/李惠薰)']\"\n",
    "\n",
    "cond1 = bill_20th_new['제안자구분'] == '위원장'\n",
    "cond2 = bill_20th_new['소관위원회'] == '정보위원회'\n",
    "cond3 = (bill_20th_new['제안일자'] > '2020-01-05') & (bill_20th_new['제안일자'] <= '2020-02-05')\n",
    "bill_20th_new.loc[cond1 & cond2 & cond3, '제안자'] = \"['박주선(바른미래당/朴柱宣)']\"\n",
    "\n",
    "cond1 = bill_20th_new['제안자구분'] == '위원장'\n",
    "cond2 = bill_20th_new['소관위원회'] == '정보위원회'\n",
    "cond3 = (bill_20th_new['제안일자'] > '2020-02-05') & (bill_20th_new['제안일자'] <= '2020-05-30')\n",
    "bill_20th_new.loc[cond1 & cond2 & cond3, '제안자'] = \"['김민기(더불어민주당/金敏基)']\""
   ]
  },
  {
   "cell_type": "markdown",
   "metadata": {},
   "source": [
    "1.5.16 __여성가족위원회__"
   ]
  },
  {
   "cell_type": "code",
   "execution_count": 32,
   "metadata": {},
   "outputs": [],
   "source": [
    "cond1 = bill_20th_new['제안자구분'] == '위원장'\n",
    "cond2 = bill_20th_new['소관위원회'] == '여성가족위원회'\n",
    "cond3 = (bill_20th_new['제안일자'] >= '2016-06-13') & (bill_20th_new['제안일자'] <= '2018-05-29')\n",
    "bill_20th_new.loc[cond1 & cond2 & cond3, '제안자'] = \"['남인순(더불어민주당/南仁順)']\"\n",
    "\n",
    "cond1 = bill_20th_new['제안자구분'] == '위원장'\n",
    "cond2 = bill_20th_new['소관위원회'] == '여성가족위원회'\n",
    "cond3 = (bill_20th_new['제안일자'] > '2018-05-29') & (bill_20th_new['제안일자'] <= '2019-06-30')\n",
    "bill_20th_new.loc[cond1 & cond2 & cond3, '제안자'] = \"['전혜숙(더불어민주당/全惠淑)']\"\n",
    "\n",
    "cond1 = bill_20th_new['제안자구분'] == '위원장'\n",
    "cond2 = bill_20th_new['소관위원회'] == '여성가족위원회'\n",
    "cond3 = (bill_20th_new['제안일자'] > '2019-06-30') & (bill_20th_new['제안일자'] <= '2020-05-30')\n",
    "bill_20th_new.loc[cond1 & cond2 & cond3, '제안자'] = \"['인재근(더불어민주당/印在謹)']\""
   ]
  },
  {
   "cell_type": "markdown",
   "metadata": {},
   "source": [
    "1.5.17 __예산결산특별위원회__"
   ]
  },
  {
   "cell_type": "code",
   "execution_count": 33,
   "metadata": {},
   "outputs": [],
   "source": [
    "cond1 = bill_20th_new['제안자구분'] == '위원장'\n",
    "cond2 = bill_20th_new['소관위원회'] == '예산결산특별위원회'\n",
    "cond3 = (bill_20th_new['제안일자'] >= '2016-06-13') & (bill_20th_new['제안일자'] <= '2017-05-31')\n",
    "bill_20th_new.loc[cond1 & cond2 & cond3, '제안자'] = \"['김현미(더불어민주당/金賢美)']\"\n",
    "\n",
    "cond1 = bill_20th_new['제안자구분'] == '위원장'\n",
    "cond2 = bill_20th_new['소관위원회'] == '예산결산특별위원회'\n",
    "cond3 = (bill_20th_new['제안일자'] >= '2017-05-31') & (bill_20th_new['제안일자'] <= '2018-05-29')\n",
    "bill_20th_new.loc[cond1 & cond2 & cond3, '제안자'] = \"['백재현(더불어민주당/白在鉉)']\"\n",
    "\n",
    "cond1 = bill_20th_new['제안자구분'] == '위원장'\n",
    "cond2 = bill_20th_new['소관위원회'] == '예산결산특별위원회회'\n",
    "cond3 = (bill_20th_new['제안일자'] > '2018-05-29') & (bill_20th_new['제안일자'] <= '2019-03-31')\n",
    "bill_20th_new.loc[cond1 & cond2 & cond3, '제안자'] = \"['안상수(자유한국당/安相洙)']\"\n",
    "\n",
    "cond1 = bill_20th_new['제안자구분'] == '위원장'\n",
    "cond2 = bill_20th_new['소관위원회'] == '예산결산특별위원회'\n",
    "cond3 = (bill_20th_new['제안일자'] > '2019-03-31') & (bill_20th_new['제안일자'] <= '2019-05-31')\n",
    "bill_20th_new.loc[cond1 & cond2 & cond3, '제안자'] = \"['황영철(자유한국당/黃永哲)']\"\n",
    "\n",
    "cond1 = bill_20th_new['제안자구분'] == '위원장'\n",
    "cond2 = bill_20th_new['소관위원회'] == '예산결산특별위원회'\n",
    "cond3 = (bill_20th_new['제안일자'] > '2019-05-31') & (bill_20th_new['제안일자'] <= '2020-05-30')\n",
    "bill_20th_new.loc[cond1 & cond2 & cond3, '제안자'] = \"['김재원(자유한국당/金在原)']\""
   ]
  },
  {
   "cell_type": "markdown",
   "metadata": {},
   "source": [
    "1.5.18 __특별위원회__"
   ]
  },
  {
   "cell_type": "code",
   "execution_count": 34,
   "metadata": {},
   "outputs": [],
   "source": [
    "## 1. 국회상임위원회 위원정수에 관한 규칙 개정 특별위원회\n",
    "cond1 = bill_20th_new['제안자구분'] == '위원장'\n",
    "cond2 = bill_20th_new['소관위원회'] == '국회상임위원회 위원정수에 관한 규칙 개정 특별위원회'\n",
    "bill_20th_new.loc[cond1 & cond2, '제안자'] = \"['박완주(더불어민주당/朴完柱)']\"\n",
    "\n",
    "## 2. 저출산·고령화대책 특별위원회\n",
    "cond1 = bill_20th_new['제안자구분'] == '위원장'\n",
    "cond2 = bill_20th_new['소관위원회'] == '저출산·고령화대책 특별위원회'\n",
    "bill_20th_new.loc[cond1 & cond2, '제안자'] = \"['나경원(자유한국당/羅卿瑗)']\"\n",
    "\n",
    "## 3. 평창동계올림픽 및 국제경기대회지원 특별위원회\n",
    "cond1 = bill_20th_new['제안자구분'] == '위원장'\n",
    "cond2 = bill_20th_new['소관위원회'] == '평창동계올림픽 및 국제경기대회지원 특별위원회'\n",
    "bill_20th_new.loc[cond1 & cond2, '제안자'] = \"['황영철(자유한국당/黃永哲)']\"\n",
    "\n",
    "## 4. 정치개혁 특별위원회\n",
    "cond1 = bill_20th_new['제안자구분'] == '위원장'\n",
    "cond2 = bill_20th_new['소관위원회'] == '정치개혁 특별위원회'\n",
    "cond3 = (bill_20th_new['제안일자'] >= '2017-06-27') & (bill_20th_new['제안일자'] <= '2017-12-31')\n",
    "bill_20th_new.loc[cond1 & cond2, '제안자'] = \"['원혜영(더불어민주당/元惠榮)']\"\n",
    "\n",
    "cond1 = bill_20th_new['제안자구분'] == '위원장'\n",
    "cond2 = bill_20th_new['소관위원회'] == '정치개혁 특별위원회'\n",
    "cond3 = (bill_20th_new['제안일자'] > '2017-12-31') & (bill_20th_new['제안일자'] <= '2019-07-31')\n",
    "bill_20th_new.loc[cond1 & cond2, '제안자'] = \"['심상정(정의당/沈相奵)']\"\n",
    "\n",
    "cond1 = bill_20th_new['제안자구분'] == '위원장'\n",
    "cond2 = bill_20th_new['소관위원회'] == '정치개혁 특별위원회'\n",
    "cond3 = (bill_20th_new['제안일자'] >= '2017-06-27') & (bill_20th_new['제안일자'] <= '2019-08-31')\n",
    "bill_20th_new.loc[cond1 & cond2, '제안자'] = \"['홍영표(더불어민주당/洪永杓)']\"\n",
    "\n",
    "## 5. 미세먼지 대책 특별위원회\n",
    "cond1 = bill_20th_new['제안자구분'] == '위원장'\n",
    "cond2 = bill_20th_new['소관위원회'] == '미세먼지 대책 특별위원회'\n",
    "bill_20th_new.loc[cond1 & cond2, '제안자'] = \"['전혜숙(더불어민주당/全惠淑)']\"\n",
    "\n",
    "## 6. 헌법개정 및 정치개혁 특별위원회\n",
    "cond1 = bill_20th_new['제안자구분'] == '위원장'\n",
    "cond2 = bill_20th_new['소관위원회'] == '헌법개정 및 정치개혁 특별위원회'\n",
    "bill_20th_new.loc[cond1 & cond2, '제안자'] = \"['김재경(자유한국당/金在庚)']\"\n",
    "\n",
    "## 7. 국회 코로나19 대책 특별위원회\n",
    "cond1 = bill_20th_new['제안자구분'] == '위원장'\n",
    "cond2 = bill_20th_new['소관위원회'] == '국회 코로나19 대책 특별위원회'\n",
    "bill_20th_new.loc[cond1 & cond2, '제안자'] = \"['김진표(더불어민주당/金珍杓)']\""
   ]
  },
  {
   "cell_type": "markdown",
   "metadata": {},
   "source": [
    "1.5.19 __국회의장__"
   ]
  },
  {
   "cell_type": "code",
   "execution_count": 35,
   "metadata": {},
   "outputs": [],
   "source": [
    "cond1 = bill_20th_new['제안자구분'] == '의장'\n",
    "cond2 = (bill_20th_new['제안일자'] >= '2016-06-09') & (bill_20th_new['제안일자'] <= '2018-05-29')\n",
    "bill_20th_new.loc[cond1 & cond2, '제안자'] = \"['정세균(더불어민주당/丁世均)']\"\n",
    "\n",
    "cond1 = bill_20th_new['제안자구분'] == '의장'\n",
    "cond2 = (bill_20th_new['제안일자'] >= '2018-05-30') & (bill_20th_new['제안일자'] <= '2020-05-29')\n",
    "bill_20th_new.loc[cond1 & cond2, '제안자'] = \"['문희상(더불어민주당/文喜相)']\""
   ]
  },
  {
   "cell_type": "markdown",
   "metadata": {},
   "source": [
    "#### 1.6 제안정당"
   ]
  },
  {
   "cell_type": "code",
   "execution_count": 36,
   "metadata": {},
   "outputs": [
    {
     "name": "stderr",
     "output_type": "stream",
     "text": [
      "C:\\Users\\NK\\Anaconda3\\lib\\site-packages\\ipykernel_launcher.py:1: SettingWithCopyWarning: \n",
      "A value is trying to be set on a copy of a slice from a DataFrame.\n",
      "Try using .loc[row_indexer,col_indexer] = value instead\n",
      "\n",
      "See the caveats in the documentation: https://pandas.pydata.org/pandas-docs/stable/user_guide/indexing.html#returning-a-view-versus-a-copy\n",
      "  \"\"\"Entry point for launching an IPython kernel.\n",
      "C:\\Users\\NK\\Anaconda3\\lib\\site-packages\\ipykernel_launcher.py:2: SettingWithCopyWarning: \n",
      "A value is trying to be set on a copy of a slice from a DataFrame.\n",
      "Try using .loc[row_indexer,col_indexer] = value instead\n",
      "\n",
      "See the caveats in the documentation: https://pandas.pydata.org/pandas-docs/stable/user_guide/indexing.html#returning-a-view-versus-a-copy\n",
      "  \n"
     ]
    }
   ],
   "source": [
    "bill_20th_new['제안자'] = bill_20th_new['제안자'].replace(np.nan,'').replace('[]','')\n",
    "bill_21th_new['제안자'] = bill_21th_new['제안자'].replace(np.nan,'').replace('[]','')"
   ]
  },
  {
   "cell_type": "code",
   "execution_count": 37,
   "metadata": {},
   "outputs": [
    {
     "name": "stderr",
     "output_type": "stream",
     "text": [
      "C:\\Users\\NK\\Anaconda3\\lib\\site-packages\\ipykernel_launcher.py:17: SettingWithCopyWarning: \n",
      "A value is trying to be set on a copy of a slice from a DataFrame.\n",
      "Try using .loc[row_indexer,col_indexer] = value instead\n",
      "\n",
      "See the caveats in the documentation: https://pandas.pydata.org/pandas-docs/stable/user_guide/indexing.html#returning-a-view-versus-a-copy\n"
     ]
    }
   ],
   "source": [
    "proposer_party = []\n",
    "## 제안자 칼럼에서 제안정당을 추출\n",
    "for i in bill_20th_new['제안자']:\n",
    "    party_list = []\n",
    "    try:\n",
    "        proposer_split = i[2:-2].split(\"', '\")\n",
    "        for j in range(0, len(proposer_split)):\n",
    "            party = proposer_split[j].split('(')[1].split('/')[0]\n",
    "            party_list.append(party)\n",
    "            party_set = set(party_list)\n",
    "            party_list = list(party_set)\n",
    "    except:\n",
    "        party_list.append('')\n",
    "    \n",
    "    proposer_party.append(party_list)\n",
    "\n",
    "bill_20th_new['제안정당'] = proposer_party"
   ]
  },
  {
   "cell_type": "code",
   "execution_count": 38,
   "metadata": {
    "scrolled": true
   },
   "outputs": [
    {
     "name": "stdout",
     "output_type": "stream",
     "text": [
      "['', '자유한국당', '바른정당', '우리공화당', '개혁보수신당', '미래통합당', '바른미래당', '미래한국당', '대한애국당', '민생당', '무소속', '정의당', '새로운보수당', '미래를향한전진4.0', '국민의당', '민중당', '새민중정당', '새누리당', '더불어시민당', '민주평화당', '대안신당', '더불어민주당']\n"
     ]
    }
   ],
   "source": [
    "## 정당으로 데이터프레임을 생성합니다.\n",
    "party_list = []\n",
    "for i in bill_20th_new['제안정당']:\n",
    "    for j in range(0, len(i)):\n",
    "        party = i[j]\n",
    "        party_list.append(party)\n",
    "        \n",
    "party_list = list(set(party_list))\n",
    "print(party_list)\n",
    "\n",
    "party_df = bill_20th_new['제안정당'].apply(lambda x: pd.Series(x))\n",
    "party_df.columns = ['제안정당_1','제안정당_2','제안정당_3','제안정당_4','제안정당_5','제안정당_6','제안정당_7','제안정당_8']\n",
    "\n",
    "## 원핫인코딩을 통해 정당이 칼럼명인 데이터 프레임을 만들고 모두 합칩니다.\n",
    "df1 = pd.get_dummies(party_df['제안정당_1'])\n",
    "df2 = pd.get_dummies(party_df['제안정당_2'])\n",
    "df3 = pd.get_dummies(party_df['제안정당_3'])\n",
    "df4 = pd.get_dummies(party_df['제안정당_4'])\n",
    "df5 = pd.get_dummies(party_df['제안정당_5'])\n",
    "df6 = pd.get_dummies(party_df['제안정당_6'])\n",
    "df7 = pd.get_dummies(party_df['제안정당_7'])\n",
    "df8 = pd.get_dummies(party_df['제안정당_8'])\n",
    "\n",
    "df = df1.add(df2, fill_value=0).add(df3, fill_value=0).add(df4, fill_value=0).add(df5, fill_value=0).add(df6, fill_value=0).add(df7, fill_value=0).add(df8, fill_value=0)\n",
    "\n",
    "## 원본데이터와 합칩니다.\n",
    "bill_20th_new = pd.concat([bill_20th_new, df], axis=1)"
   ]
  },
  {
   "cell_type": "code",
   "execution_count": 40,
   "metadata": {},
   "outputs": [
    {
     "name": "stderr",
     "output_type": "stream",
     "text": [
      "C:\\Users\\NK\\Anaconda3\\lib\\site-packages\\ipykernel_launcher.py:17: SettingWithCopyWarning: \n",
      "A value is trying to be set on a copy of a slice from a DataFrame.\n",
      "Try using .loc[row_indexer,col_indexer] = value instead\n",
      "\n",
      "See the caveats in the documentation: https://pandas.pydata.org/pandas-docs/stable/user_guide/indexing.html#returning-a-view-versus-a-copy\n"
     ]
    }
   ],
   "source": [
    "proposer_party = []\n",
    "## 제안자 칼럼에서 제안정당을 추출\n",
    "for i in bill_21th_new['제안자']:\n",
    "    party_list = []\n",
    "    try:\n",
    "        proposer_split = i[2:-2].split(\"', '\")\n",
    "        for j in range(0, len(proposer_split)):\n",
    "            party = proposer_split[j].split('(')[1].split('/')[0]\n",
    "            party_list.append(party)\n",
    "            party_set = set(party_list)\n",
    "            party_list = list(party_set)\n",
    "    except:\n",
    "        party_list.append('')\n",
    "    \n",
    "    proposer_party.append(party_list)\n",
    "\n",
    "bill_21th_new['제안정당'] = proposer_party"
   ]
  },
  {
   "cell_type": "code",
   "execution_count": 41,
   "metadata": {},
   "outputs": [
    {
     "name": "stdout",
     "output_type": "stream",
     "text": [
      "['', '미래통합당', '국민의당', '열린민주당', '정의당', '기본소득당', '시대전환', '무소속', '더불어민주당']\n"
     ]
    }
   ],
   "source": [
    "## 정당으로 데이터프레임을 생성합니다.\n",
    "party_list = []\n",
    "for i in bill_21th_new['제안정당']:\n",
    "    for j in range(0, len(i)):\n",
    "        party = i[j]\n",
    "        party_list.append(party)\n",
    "        \n",
    "party_list = list(set(party_list))\n",
    "print(party_list)"
   ]
  },
  {
   "cell_type": "code",
   "execution_count": 42,
   "metadata": {},
   "outputs": [],
   "source": [
    "party_df = bill_21th_new['제안정당'].apply(lambda x: pd.Series(x))\n",
    "party_df.columns = ['제안정당_1','제안정당_2','제안정당_3','제안정당_4','제안정당_5','제안정당_6','제안정당_7','제안정당_8']"
   ]
  },
  {
   "cell_type": "code",
   "execution_count": 43,
   "metadata": {},
   "outputs": [
    {
     "name": "stdout",
     "output_type": "stream",
     "text": [
      "<class 'pandas.core.frame.DataFrame'>\n",
      "RangeIndex: 2730 entries, 0 to 2729\n",
      "Data columns (total 8 columns):\n",
      " #   Column  Non-Null Count  Dtype \n",
      "---  ------  --------------  ----- \n",
      " 0   제안정당_1  2730 non-null   object\n",
      " 1   제안정당_2  1032 non-null   object\n",
      " 2   제안정당_3  285 non-null    object\n",
      " 3   제안정당_4  91 non-null     object\n",
      " 4   제안정당_5  28 non-null     object\n",
      " 5   제안정당_6  4 non-null      object\n",
      " 6   제안정당_7  1 non-null      object\n",
      " 7   제안정당_8  1 non-null      object\n",
      "dtypes: object(8)\n",
      "memory usage: 170.8+ KB\n"
     ]
    }
   ],
   "source": [
    "party_df.info()"
   ]
  },
  {
   "cell_type": "code",
   "execution_count": 44,
   "metadata": {
    "scrolled": true
   },
   "outputs": [],
   "source": [
    "## 원핫인코딩을 통해 정당이 칼럼명인 데이터 프레임을 만들고 모두 합칩니다.\n",
    "df1 = pd.get_dummies(party_df['제안정당_1'])\n",
    "df2 = pd.get_dummies(party_df['제안정당_2'])\n",
    "df3 = pd.get_dummies(party_df['제안정당_3'])\n",
    "df4 = pd.get_dummies(party_df['제안정당_4'])\n",
    "df5 = pd.get_dummies(party_df['제안정당_5'])\n",
    "df6 = pd.get_dummies(party_df['제안정당_6'])\n",
    "df7 = pd.get_dummies(party_df['제안정당_7'])\n",
    "df8 = pd.get_dummies(party_df['제안정당_8'])\n",
    "\n",
    "df = df1.add(df2, fill_value=0).add(df3, fill_value=0).add(df4, fill_value=0).add(df5, fill_value=0).add(df6, fill_value=0).add(df7, fill_value=0).add(df8, fill_value=0)\n",
    "\n",
    "## 원본데이터와 합칩니다.\n",
    "bill_21th_new = pd.concat([bill_21th_new, df], axis=1)"
   ]
  },
  {
   "cell_type": "markdown",
   "metadata": {},
   "source": [
    "### 1.7 의안번호"
   ]
  },
  {
   "cell_type": "code",
   "execution_count": 61,
   "metadata": {},
   "outputs": [],
   "source": [
    "## ZZ로 시작하는 의안삭제\n",
    "\n",
    "startZ_20th = bill_20th_new[bill_20th_new['의안번호'].str.startswith('ZZ')]\n",
    "startZ_21th = bill_21th_new[bill_21th_new['의안번호'].str.startswith('ZZ')]\n",
    "\n",
    "bill_20th_new.drop(startZ_20th.index, inplace=True)\n",
    "bill_20th_new = bill_20th_new.reset_index(drop=True)\n",
    "\n",
    "bill_21th_new.drop(startZ_21th.index, inplace=True)\n",
    "bill_21th_new = bill_21th_new.reset_index(drop=True)"
   ]
  },
  {
   "cell_type": "code",
   "execution_count": 62,
   "metadata": {},
   "outputs": [],
   "source": [
    "bill_20th_new.to_csv('bill_20th_data_final.csv', encoding='utf-8-sig', index=False)"
   ]
  },
  {
   "cell_type": "markdown",
   "metadata": {},
   "source": [
    "### 2. EDA"
   ]
  },
  {
   "cell_type": "code",
   "execution_count": 45,
   "metadata": {},
   "outputs": [],
   "source": [
    "from matplotlib import font_manager, rc\n",
    "import platform\n",
    "\n",
    "if platform.system() == 'Windows':\n",
    "    path = 'C:/Windows/Fonts/Malgun.ttf'\n",
    "    font_name = font_manager.FontProperties(fname = path).get_name()\n",
    "    rc('font', family = font_name)\n",
    "elif platform.system() == 'Darwin':\n",
    "    rc('font', family = 'AppleGothic')\n",
    "else :\n",
    "    print('Check your OS system')"
   ]
  },
  {
   "cell_type": "markdown",
   "metadata": {},
   "source": [
    "#### 2.1 21대 국회"
   ]
  },
  {
   "cell_type": "code",
   "execution_count": 46,
   "metadata": {},
   "outputs": [
    {
     "name": "stderr",
     "output_type": "stream",
     "text": [
      "C:\\Users\\NK\\Anaconda3\\lib\\site-packages\\ipykernel_launcher.py:1: FutureWarning: Indexing with multiple keys (implicitly converted to a tuple of keys) will be deprecated, use a list instead.\n",
      "  \"\"\"Entry point for launching an IPython kernel.\n"
     ]
    },
    {
     "ename": "KeyError",
     "evalue": "\"Columns not found: '새누리당', '바른미래당', '정의당', '더불어민주당'\"",
     "output_type": "error",
     "traceback": [
      "\u001b[1;31m---------------------------------------------------------------------------\u001b[0m",
      "\u001b[1;31mKeyError\u001b[0m                                  Traceback (most recent call last)",
      "\u001b[1;32m<ipython-input-46-52105361f26e>\u001b[0m in \u001b[0;36m<module>\u001b[1;34m\u001b[0m\n\u001b[1;32m----> 1\u001b[1;33m \u001b[0mbill_20th\u001b[0m\u001b[1;33m.\u001b[0m\u001b[0mgroupby\u001b[0m\u001b[1;33m(\u001b[0m\u001b[1;34m'의결결과'\u001b[0m\u001b[1;33m)\u001b[0m\u001b[1;33m[\u001b[0m\u001b[1;34m'더불어민주당'\u001b[0m\u001b[1;33m,\u001b[0m\u001b[1;34m'정의당'\u001b[0m\u001b[1;33m,\u001b[0m\u001b[1;34m'새누리당'\u001b[0m\u001b[1;33m,\u001b[0m\u001b[1;34m'바른미래당'\u001b[0m\u001b[1;33m]\u001b[0m\u001b[1;33m.\u001b[0m\u001b[0msum\u001b[0m\u001b[1;33m(\u001b[0m\u001b[1;33m)\u001b[0m\u001b[1;33m\u001b[0m\u001b[1;33m\u001b[0m\u001b[0m\n\u001b[0m",
      "\u001b[1;32m~\\Anaconda3\\lib\\site-packages\\pandas\\core\\groupby\\generic.py\u001b[0m in \u001b[0;36m__getitem__\u001b[1;34m(self, key)\u001b[0m\n\u001b[0;32m   1591\u001b[0m                 \u001b[0mstacklevel\u001b[0m\u001b[1;33m=\u001b[0m\u001b[1;36m2\u001b[0m\u001b[1;33m,\u001b[0m\u001b[1;33m\u001b[0m\u001b[1;33m\u001b[0m\u001b[0m\n\u001b[0;32m   1592\u001b[0m             )\n\u001b[1;32m-> 1593\u001b[1;33m         \u001b[1;32mreturn\u001b[0m \u001b[0msuper\u001b[0m\u001b[1;33m(\u001b[0m\u001b[1;33m)\u001b[0m\u001b[1;33m.\u001b[0m\u001b[0m__getitem__\u001b[0m\u001b[1;33m(\u001b[0m\u001b[0mkey\u001b[0m\u001b[1;33m)\u001b[0m\u001b[1;33m\u001b[0m\u001b[1;33m\u001b[0m\u001b[0m\n\u001b[0m\u001b[0;32m   1594\u001b[0m \u001b[1;33m\u001b[0m\u001b[0m\n\u001b[0;32m   1595\u001b[0m     \u001b[1;32mdef\u001b[0m \u001b[0m_gotitem\u001b[0m\u001b[1;33m(\u001b[0m\u001b[0mself\u001b[0m\u001b[1;33m,\u001b[0m \u001b[0mkey\u001b[0m\u001b[1;33m,\u001b[0m \u001b[0mndim\u001b[0m\u001b[1;33m:\u001b[0m \u001b[0mint\u001b[0m\u001b[1;33m,\u001b[0m \u001b[0msubset\u001b[0m\u001b[1;33m=\u001b[0m\u001b[1;32mNone\u001b[0m\u001b[1;33m)\u001b[0m\u001b[1;33m:\u001b[0m\u001b[1;33m\u001b[0m\u001b[1;33m\u001b[0m\u001b[0m\n",
      "\u001b[1;32m~\\Anaconda3\\lib\\site-packages\\pandas\\core\\base.py\u001b[0m in \u001b[0;36m__getitem__\u001b[1;34m(self, key)\u001b[0m\n\u001b[0;32m    227\u001b[0m             \u001b[1;32mif\u001b[0m \u001b[0mlen\u001b[0m\u001b[1;33m(\u001b[0m\u001b[0mself\u001b[0m\u001b[1;33m.\u001b[0m\u001b[0mobj\u001b[0m\u001b[1;33m.\u001b[0m\u001b[0mcolumns\u001b[0m\u001b[1;33m.\u001b[0m\u001b[0mintersection\u001b[0m\u001b[1;33m(\u001b[0m\u001b[0mkey\u001b[0m\u001b[1;33m)\u001b[0m\u001b[1;33m)\u001b[0m \u001b[1;33m!=\u001b[0m \u001b[0mlen\u001b[0m\u001b[1;33m(\u001b[0m\u001b[0mkey\u001b[0m\u001b[1;33m)\u001b[0m\u001b[1;33m:\u001b[0m\u001b[1;33m\u001b[0m\u001b[1;33m\u001b[0m\u001b[0m\n\u001b[0;32m    228\u001b[0m                 \u001b[0mbad_keys\u001b[0m \u001b[1;33m=\u001b[0m \u001b[0mlist\u001b[0m\u001b[1;33m(\u001b[0m\u001b[0mset\u001b[0m\u001b[1;33m(\u001b[0m\u001b[0mkey\u001b[0m\u001b[1;33m)\u001b[0m\u001b[1;33m.\u001b[0m\u001b[0mdifference\u001b[0m\u001b[1;33m(\u001b[0m\u001b[0mself\u001b[0m\u001b[1;33m.\u001b[0m\u001b[0mobj\u001b[0m\u001b[1;33m.\u001b[0m\u001b[0mcolumns\u001b[0m\u001b[1;33m)\u001b[0m\u001b[1;33m)\u001b[0m\u001b[1;33m\u001b[0m\u001b[1;33m\u001b[0m\u001b[0m\n\u001b[1;32m--> 229\u001b[1;33m                 \u001b[1;32mraise\u001b[0m \u001b[0mKeyError\u001b[0m\u001b[1;33m(\u001b[0m\u001b[1;34mf\"Columns not found: {str(bad_keys)[1:-1]}\"\u001b[0m\u001b[1;33m)\u001b[0m\u001b[1;33m\u001b[0m\u001b[1;33m\u001b[0m\u001b[0m\n\u001b[0m\u001b[0;32m    230\u001b[0m             \u001b[1;32mreturn\u001b[0m \u001b[0mself\u001b[0m\u001b[1;33m.\u001b[0m\u001b[0m_gotitem\u001b[0m\u001b[1;33m(\u001b[0m\u001b[0mlist\u001b[0m\u001b[1;33m(\u001b[0m\u001b[0mkey\u001b[0m\u001b[1;33m)\u001b[0m\u001b[1;33m,\u001b[0m \u001b[0mndim\u001b[0m\u001b[1;33m=\u001b[0m\u001b[1;36m2\u001b[0m\u001b[1;33m)\u001b[0m\u001b[1;33m\u001b[0m\u001b[1;33m\u001b[0m\u001b[0m\n\u001b[0;32m    231\u001b[0m \u001b[1;33m\u001b[0m\u001b[0m\n",
      "\u001b[1;31mKeyError\u001b[0m: \"Columns not found: '새누리당', '바른미래당', '정의당', '더불어민주당'\""
     ]
    }
   ],
   "source": [
    "bill_20th.groupby('의결결과')['더불어민주당','정의당','새누리당','바른미래당'].sum()"
   ]
  },
  {
   "cell_type": "markdown",
   "metadata": {},
   "source": [
    "__민주당__"
   ]
  },
  {
   "cell_type": "code",
   "execution_count": null,
   "metadata": {
    "scrolled": true
   },
   "outputs": [],
   "source": [
    "bill_20th_theminzu = bill_20th[bill_20th['더불어민주당'] == 1]"
   ]
  },
  {
   "cell_type": "markdown",
   "metadata": {},
   "source": [
    "__의결결과__ : \n",
    "폐기 - 임기만료 폐기, 철회, 폐기, 수정안반영폐기, 대안반영폐기, 심사대상제외, 부결\n",
    "가결 - 수정가결, 원안가결"
   ]
  },
  {
   "cell_type": "code",
   "execution_count": null,
   "metadata": {
    "scrolled": true
   },
   "outputs": [],
   "source": [
    "pass1 = bill_20th_theminzu['의결결과'] == '수정가결'\n",
    "pass2 = bill_20th_theminzu['의결결과'] == '원안가결'\n",
    "discard1 = bill_20th_theminzu['의결결과'] != '수정가결'\n",
    "discard2 = bill_20th_theminzu['의결결과'] != '원안가결'\n",
    "\n",
    "bill_20th_pass = bill_20th_theminzu[pass1 | pass2]\n",
    "bill_20th_discard = bill_20th_theminzu[discard1 & discard2]\n",
    "bill_20th_discard"
   ]
  },
  {
   "cell_type": "code",
   "execution_count": null,
   "metadata": {},
   "outputs": [],
   "source": [
    "bill_20th_theminzu['의결결과'].value_counts()"
   ]
  },
  {
   "cell_type": "code",
   "execution_count": null,
   "metadata": {},
   "outputs": [],
   "source": []
  },
  {
   "cell_type": "markdown",
   "metadata": {},
   "source": [
    "#### 2.2 20대 국회"
   ]
  },
  {
   "cell_type": "code",
   "execution_count": null,
   "metadata": {},
   "outputs": [],
   "source": [
    "bill_20th['제안일자']"
   ]
  },
  {
   "cell_type": "code",
   "execution_count": null,
   "metadata": {},
   "outputs": [],
   "source": []
  },
  {
   "cell_type": "code",
   "execution_count": null,
   "metadata": {
    "scrolled": true
   },
   "outputs": [],
   "source": []
  },
  {
   "cell_type": "code",
   "execution_count": null,
   "metadata": {},
   "outputs": [],
   "source": []
  }
 ],
 "metadata": {
  "kernelspec": {
   "display_name": "Python 3",
   "language": "python",
   "name": "python3"
  },
  "language_info": {
   "codemirror_mode": {
    "name": "ipython",
    "version": 3
   },
   "file_extension": ".py",
   "mimetype": "text/x-python",
   "name": "python",
   "nbconvert_exporter": "python",
   "pygments_lexer": "ipython3",
   "version": "3.7.3"
  }
 },
 "nbformat": 4,
 "nbformat_minor": 4
}
