{
 "cells": [
  {
   "cell_type": "markdown",
   "metadata": {},
   "source": [
    "### 1. 모듈"
   ]
  },
  {
   "cell_type": "code",
   "execution_count": 1,
   "metadata": {},
   "outputs": [],
   "source": [
    "import sys\n",
    "sys.path.append(\"/usr/local/lib/python3.8/site-packages\")"
   ]
  },
  {
   "cell_type": "code",
   "execution_count": 223,
   "metadata": {},
   "outputs": [],
   "source": [
    "from selenium import webdriver\n",
    "from selenium.webdriver.common.keys import Keys\n",
    "from bs4 import BeautifulSoup\n",
    "from tqdm import tqdm\n",
    "import time\n",
    "import pandas as pd\n",
    "import re\n",
    "import lxml\n",
    "from random import randint"
   ]
  },
  {
   "cell_type": "markdown",
   "metadata": {},
   "source": [
    "### 2. url 접속"
   ]
  },
  {
   "cell_type": "code",
   "execution_count": 214,
   "metadata": {},
   "outputs": [],
   "source": [
    "driver = webdriver.Chrome('/Users/harampark/Documents/chromedriver')"
   ]
  },
  {
   "cell_type": "code",
   "execution_count": 215,
   "metadata": {},
   "outputs": [],
   "source": [
    "url = 'http://likms.assembly.go.kr/bill/main.do'\n",
    "driver.get(url)"
   ]
  },
  {
   "cell_type": "code",
   "execution_count": 216,
   "metadata": {},
   "outputs": [],
   "source": [
    "search = driver.find_element_by_css_selector('li.gnbL2')\n",
    "search.click()\n",
    "time.sleep(2)\n",
    "\n",
    "driver.find_element_by_css_selector('#AGE_AREA > select:nth-child(2) > option:nth-child(2)').click()\n",
    "\n",
    "search = driver.find_element_by_css_selector('div.mt20.alignC > button.btnd')\n",
    "search .click()\n",
    "time.sleep(2)"
   ]
  },
  {
   "cell_type": "code",
   "execution_count": 217,
   "metadata": {},
   "outputs": [],
   "source": [
    "num_results = driver.find_element_by_id(\"pageSizeOption\")\n",
    "num_results.send_keys('100')"
   ]
  },
  {
   "cell_type": "code",
   "execution_count": 227,
   "metadata": {},
   "outputs": [],
   "source": [
    "driver.close()"
   ]
  },
  {
   "cell_type": "markdown",
   "metadata": {},
   "source": [
    "### 3. 크롤링\n",
    "\n",
    "#### 본문 크롤링"
   ]
  },
  {
   "cell_type": "code",
   "execution_count": 218,
   "metadata": {},
   "outputs": [
    {
     "name": "stdout",
     "output_type": "stream",
     "text": [
      "1\n",
      "2\n",
      "3\n",
      "4\n",
      "5\n",
      "6\n",
      "7\n",
      "8\n",
      "9\n",
      "10\n",
      "11\n",
      "12\n",
      "13\n",
      "14\n"
     ]
    }
   ],
   "source": [
    "# 총 282쪽까지 존재 \n",
    "n = 15\n",
    "\n",
    "for n in tqdm(range(1, n)): \n",
    "    html = driver.page_source\n",
    "    soup = BeautifulSoup(html, 'html.parser')\n",
    "    table = soup.find('table')  # table이란 태그를 찾아라! \n",
    "    \n",
    "    df = pd.read_html(str(table))\n",
    "    df_tmp = df[0]\n",
    "    \n",
    "    if n == 1: \n",
    "        bill_info_df = df_tmp\n",
    "    else: \n",
    "        bill_info_df = pd.concat([bill_info_df, df_tmp])\n",
    "    \n",
    "    print(n)\n",
    "    \n",
    "    # 282쪽이면 다음 페이지로 넘어가지 않도록! \n",
    "    if n == 282: \n",
    "        break \n",
    "     \n",
    "    # 페이지 넘김 \n",
    "    if n % 10 != 0:\n",
    "        if n < 10:\n",
    "            paging = driver.find_element_by_css_selector(f'#pageListViewArea > a:nth-child({(n%10)+1})')\n",
    "        else: \n",
    "            paging = driver.find_element_by_css_selector(f'#pageListViewArea > a:nth-child({(n%10)+3})')    \n",
    "        paging.click()\n",
    "        time.sleep(3)\n",
    "        \n",
    "    else:\n",
    "        if n == 10: \n",
    "            next_paging = driver.find_element_by_css_selector('#pageListViewArea > a:nth-child(11)')\n",
    "        else: \n",
    "            next_paging = driver.find_element_by_css_selector('#pageListViewArea > a:nth-child(13)')\n",
    "        next_paging.click()\n",
    "        time.sleep(3)\n",
    "    \n",
    "    MAX_SLEEP_TIME = 5\n",
    "    rand_value = randint(3, MAX_SLEEP_TIME)\n",
    "    time.sleep(rand_value)"
   ]
  },
  {
   "cell_type": "code",
   "execution_count": 219,
   "metadata": {},
   "outputs": [
    {
     "data": {
      "text/plain": [
       "1400"
      ]
     },
     "execution_count": 219,
     "metadata": {},
     "output_type": "execute_result"
    }
   ],
   "source": [
    "len(bill_info_df)"
   ]
  },
  {
   "cell_type": "code",
   "execution_count": 220,
   "metadata": {},
   "outputs": [],
   "source": [
    "bill_info_df.to_csv('bill-info-contents.csv', sep=',', encoding='utf-8')"
   ]
  },
  {
   "cell_type": "code",
   "execution_count": null,
   "metadata": {},
   "outputs": [],
   "source": []
  },
  {
   "cell_type": "markdown",
   "metadata": {},
   "source": [
    "#### 개별 의안 정보 크롤링"
   ]
  },
  {
   "cell_type": "code",
   "execution_count": 226,
   "metadata": {},
   "outputs": [],
   "source": [
    "driver = webdriver.Chrome('/Users/harampark/Documents/chromedriver')\n",
    "url = 'http://likms.assembly.go.kr/bill/main.do'\n",
    "driver.get(url)\n",
    "\n",
    "search = driver.find_element_by_css_selector('li.gnbL2')\n",
    "search.click()\n",
    "time.sleep(2)\n",
    "\n",
    "driver.find_element_by_css_selector('#AGE_AREA > select:nth-child(2) > option:nth-child(2)').click()\n",
    "\n",
    "search = driver.find_element_by_css_selector('div.mt20.alignC > button.btnd')\n",
    "search .click()\n",
    "time.sleep(2)\n",
    "\n",
    "num_results = driver.find_element_by_id(\"pageSizeOption\")\n",
    "num_results.send_keys('100')"
   ]
  },
  {
   "cell_type": "code",
   "execution_count": 224,
   "metadata": {},
   "outputs": [
    {
     "name": "stderr",
     "output_type": "stream",
     "text": [
      "  0%|          | 0/1 [00:00<?, ?it/s]<ipython-input-224-eed39eea3aaa>:51: DeprecationWarning: use driver.switch_to.window instead\n",
      "  driver.switch_to_window(driver.window_handles[1])\n",
      "/usr/local/lib/python3.8/site-packages/selenium/webdriver/remote/webdriver.py:1149: UserWarning: Only 'current' window is supported for W3C compatibile browsers.\n",
      "  warnings.warn(\"Only 'current' window is supported for W3C compatibile browsers.\")\n",
      "<ipython-input-224-eed39eea3aaa>:66: DeprecationWarning: use driver.switch_to.window instead\n",
      "  driver.switch_to_window(driver.window_handles[0])\n",
      "  0%|          | 0/1 [00:30<?, ?it/s]\n"
     ]
    },
    {
     "ename": "NoSuchElementException",
     "evalue": "Message: no such element: Unable to locate element: {\"method\":\"css selector\",\"selector\":\"[id=\"summaryContentMoreBtn\"]\"}\n  (Session info: chrome=84.0.4147.105)\n",
     "output_type": "error",
     "traceback": [
      "\u001b[0;31m---------------------------------------------------------------------------\u001b[0m",
      "\u001b[0;31mNoSuchElementException\u001b[0m                    Traceback (most recent call last)",
      "\u001b[0;32m<ipython-input-224-eed39eea3aaa>\u001b[0m in \u001b[0;36m<module>\u001b[0;34m\u001b[0m\n\u001b[1;32m     13\u001b[0m \u001b[0;34m\u001b[0m\u001b[0m\n\u001b[1;32m     14\u001b[0m         \u001b[0;31m# 1. 더보기 버튼 눌러주기\u001b[0m\u001b[0;34m\u001b[0m\u001b[0;34m\u001b[0m\u001b[0;34m\u001b[0m\u001b[0m\n\u001b[0;32m---> 15\u001b[0;31m         \u001b[0mmore_btn\u001b[0m \u001b[0;34m=\u001b[0m \u001b[0mdriver\u001b[0m\u001b[0;34m.\u001b[0m\u001b[0mfind_element_by_id\u001b[0m\u001b[0;34m(\u001b[0m\u001b[0;34m'summaryContentMoreBtn'\u001b[0m\u001b[0;34m)\u001b[0m\u001b[0;34m\u001b[0m\u001b[0;34m\u001b[0m\u001b[0m\n\u001b[0m\u001b[1;32m     16\u001b[0m         \u001b[0mmore_btn\u001b[0m\u001b[0;34m.\u001b[0m\u001b[0mclick\u001b[0m\u001b[0;34m(\u001b[0m\u001b[0;34m)\u001b[0m\u001b[0;34m\u001b[0m\u001b[0;34m\u001b[0m\u001b[0m\n\u001b[1;32m     17\u001b[0m         \u001b[0mtime\u001b[0m\u001b[0;34m.\u001b[0m\u001b[0msleep\u001b[0m\u001b[0;34m(\u001b[0m\u001b[0;36m0.5\u001b[0m\u001b[0;34m)\u001b[0m\u001b[0;34m\u001b[0m\u001b[0;34m\u001b[0m\u001b[0m\n",
      "\u001b[0;32m/usr/local/lib/python3.8/site-packages/selenium/webdriver/remote/webdriver.py\u001b[0m in \u001b[0;36mfind_element_by_id\u001b[0;34m(self, id_)\u001b[0m\n\u001b[1;32m    358\u001b[0m             \u001b[0melement\u001b[0m \u001b[0;34m=\u001b[0m \u001b[0mdriver\u001b[0m\u001b[0;34m.\u001b[0m\u001b[0mfind_element_by_id\u001b[0m\u001b[0;34m(\u001b[0m\u001b[0;34m'foo'\u001b[0m\u001b[0;34m)\u001b[0m\u001b[0;34m\u001b[0m\u001b[0;34m\u001b[0m\u001b[0m\n\u001b[1;32m    359\u001b[0m         \"\"\"\n\u001b[0;32m--> 360\u001b[0;31m         \u001b[0;32mreturn\u001b[0m \u001b[0mself\u001b[0m\u001b[0;34m.\u001b[0m\u001b[0mfind_element\u001b[0m\u001b[0;34m(\u001b[0m\u001b[0mby\u001b[0m\u001b[0;34m=\u001b[0m\u001b[0mBy\u001b[0m\u001b[0;34m.\u001b[0m\u001b[0mID\u001b[0m\u001b[0;34m,\u001b[0m \u001b[0mvalue\u001b[0m\u001b[0;34m=\u001b[0m\u001b[0mid_\u001b[0m\u001b[0;34m)\u001b[0m\u001b[0;34m\u001b[0m\u001b[0;34m\u001b[0m\u001b[0m\n\u001b[0m\u001b[1;32m    361\u001b[0m \u001b[0;34m\u001b[0m\u001b[0m\n\u001b[1;32m    362\u001b[0m     \u001b[0;32mdef\u001b[0m \u001b[0mfind_elements_by_id\u001b[0m\u001b[0;34m(\u001b[0m\u001b[0mself\u001b[0m\u001b[0;34m,\u001b[0m \u001b[0mid_\u001b[0m\u001b[0;34m)\u001b[0m\u001b[0;34m:\u001b[0m\u001b[0;34m\u001b[0m\u001b[0;34m\u001b[0m\u001b[0m\n",
      "\u001b[0;32m/usr/local/lib/python3.8/site-packages/selenium/webdriver/remote/webdriver.py\u001b[0m in \u001b[0;36mfind_element\u001b[0;34m(self, by, value)\u001b[0m\n\u001b[1;32m    974\u001b[0m                 \u001b[0mby\u001b[0m \u001b[0;34m=\u001b[0m \u001b[0mBy\u001b[0m\u001b[0;34m.\u001b[0m\u001b[0mCSS_SELECTOR\u001b[0m\u001b[0;34m\u001b[0m\u001b[0;34m\u001b[0m\u001b[0m\n\u001b[1;32m    975\u001b[0m                 \u001b[0mvalue\u001b[0m \u001b[0;34m=\u001b[0m \u001b[0;34m'[name=\"%s\"]'\u001b[0m \u001b[0;34m%\u001b[0m \u001b[0mvalue\u001b[0m\u001b[0;34m\u001b[0m\u001b[0;34m\u001b[0m\u001b[0m\n\u001b[0;32m--> 976\u001b[0;31m         return self.execute(Command.FIND_ELEMENT, {\n\u001b[0m\u001b[1;32m    977\u001b[0m             \u001b[0;34m'using'\u001b[0m\u001b[0;34m:\u001b[0m \u001b[0mby\u001b[0m\u001b[0;34m,\u001b[0m\u001b[0;34m\u001b[0m\u001b[0;34m\u001b[0m\u001b[0m\n\u001b[1;32m    978\u001b[0m             'value': value})['value']\n",
      "\u001b[0;32m/usr/local/lib/python3.8/site-packages/selenium/webdriver/remote/webdriver.py\u001b[0m in \u001b[0;36mexecute\u001b[0;34m(self, driver_command, params)\u001b[0m\n\u001b[1;32m    319\u001b[0m         \u001b[0mresponse\u001b[0m \u001b[0;34m=\u001b[0m \u001b[0mself\u001b[0m\u001b[0;34m.\u001b[0m\u001b[0mcommand_executor\u001b[0m\u001b[0;34m.\u001b[0m\u001b[0mexecute\u001b[0m\u001b[0;34m(\u001b[0m\u001b[0mdriver_command\u001b[0m\u001b[0;34m,\u001b[0m \u001b[0mparams\u001b[0m\u001b[0;34m)\u001b[0m\u001b[0;34m\u001b[0m\u001b[0;34m\u001b[0m\u001b[0m\n\u001b[1;32m    320\u001b[0m         \u001b[0;32mif\u001b[0m \u001b[0mresponse\u001b[0m\u001b[0;34m:\u001b[0m\u001b[0;34m\u001b[0m\u001b[0;34m\u001b[0m\u001b[0m\n\u001b[0;32m--> 321\u001b[0;31m             \u001b[0mself\u001b[0m\u001b[0;34m.\u001b[0m\u001b[0merror_handler\u001b[0m\u001b[0;34m.\u001b[0m\u001b[0mcheck_response\u001b[0m\u001b[0;34m(\u001b[0m\u001b[0mresponse\u001b[0m\u001b[0;34m)\u001b[0m\u001b[0;34m\u001b[0m\u001b[0;34m\u001b[0m\u001b[0m\n\u001b[0m\u001b[1;32m    322\u001b[0m             response['value'] = self._unwrap_value(\n\u001b[1;32m    323\u001b[0m                 response.get('value', None))\n",
      "\u001b[0;32m/usr/local/lib/python3.8/site-packages/selenium/webdriver/remote/errorhandler.py\u001b[0m in \u001b[0;36mcheck_response\u001b[0;34m(self, response)\u001b[0m\n\u001b[1;32m    240\u001b[0m                 \u001b[0malert_text\u001b[0m \u001b[0;34m=\u001b[0m \u001b[0mvalue\u001b[0m\u001b[0;34m[\u001b[0m\u001b[0;34m'alert'\u001b[0m\u001b[0;34m]\u001b[0m\u001b[0;34m.\u001b[0m\u001b[0mget\u001b[0m\u001b[0;34m(\u001b[0m\u001b[0;34m'text'\u001b[0m\u001b[0;34m)\u001b[0m\u001b[0;34m\u001b[0m\u001b[0;34m\u001b[0m\u001b[0m\n\u001b[1;32m    241\u001b[0m             \u001b[0;32mraise\u001b[0m \u001b[0mexception_class\u001b[0m\u001b[0;34m(\u001b[0m\u001b[0mmessage\u001b[0m\u001b[0;34m,\u001b[0m \u001b[0mscreen\u001b[0m\u001b[0;34m,\u001b[0m \u001b[0mstacktrace\u001b[0m\u001b[0;34m,\u001b[0m \u001b[0malert_text\u001b[0m\u001b[0;34m)\u001b[0m\u001b[0;34m\u001b[0m\u001b[0;34m\u001b[0m\u001b[0m\n\u001b[0;32m--> 242\u001b[0;31m         \u001b[0;32mraise\u001b[0m \u001b[0mexception_class\u001b[0m\u001b[0;34m(\u001b[0m\u001b[0mmessage\u001b[0m\u001b[0;34m,\u001b[0m \u001b[0mscreen\u001b[0m\u001b[0;34m,\u001b[0m \u001b[0mstacktrace\u001b[0m\u001b[0;34m)\u001b[0m\u001b[0;34m\u001b[0m\u001b[0;34m\u001b[0m\u001b[0m\n\u001b[0m\u001b[1;32m    243\u001b[0m \u001b[0;34m\u001b[0m\u001b[0m\n\u001b[1;32m    244\u001b[0m     \u001b[0;32mdef\u001b[0m \u001b[0m_value_or_default\u001b[0m\u001b[0;34m(\u001b[0m\u001b[0mself\u001b[0m\u001b[0;34m,\u001b[0m \u001b[0mobj\u001b[0m\u001b[0;34m,\u001b[0m \u001b[0mkey\u001b[0m\u001b[0;34m,\u001b[0m \u001b[0mdefault\u001b[0m\u001b[0;34m)\u001b[0m\u001b[0;34m:\u001b[0m\u001b[0;34m\u001b[0m\u001b[0;34m\u001b[0m\u001b[0m\n",
      "\u001b[0;31mNoSuchElementException\u001b[0m: Message: no such element: Unable to locate element: {\"method\":\"css selector\",\"selector\":\"[id=\"summaryContentMoreBtn\"]\"}\n  (Session info: chrome=84.0.4147.105)\n"
     ]
    }
   ],
   "source": [
    "# 총 282쪽까지 존재 \n",
    "n = 2\n",
    "contents = []\n",
    "boards = []\n",
    "members = []\n",
    "\n",
    "for n in tqdm(range(1, n)):\n",
    "    for bill_num in range(1,101):\n",
    "        # 의안 누르기: tr 1-100까지 수정해주면 됨! \n",
    "        bill = driver.find_element_by_css_selector(f'tbody > tr:nth-child({bill_num}) > td.alignL > div.pl25 > a')\n",
    "        bill.click()\n",
    "        MAX_SLEEP_TIME = 5\n",
    "        rand_value = randint(3, MAX_SLEEP_TIME)\n",
    "        time.sleep(rand_value)\n",
    "        \n",
    "        # 1. 더보기 버튼 눌러주기 \n",
    "        more_btn = driver.find_element_by_id('summaryContentMoreBtn')\n",
    "        more_btn.click()\n",
    "        MAX_SLEEP_TIME = 5\n",
    "        rand_value = randint(3, MAX_SLEEP_TIME)\n",
    "        time.sleep(rand_value)\n",
    "\n",
    "        # 2. 해당 페이지 html 가져오기 \n",
    "        html = driver.page_source\n",
    "        soup = BeautifulSoup(html, 'html.parser')\n",
    "        table = soup.find('table')\n",
    "\n",
    "        # 제안날짜 \n",
    "        date = table.find('tbody').find_all('td')[3].get_text()\n",
    "\n",
    "        # 제안내용\n",
    "        try:\n",
    "            content_raw = soup.find('div', class_='textType02').get_text()    \n",
    "            content_split = re.split('\\r|\\t|\\n|\\xa0', content_raw)\n",
    "            content = ''.join(content_split)\n",
    "            contents.append(content)\n",
    "                \n",
    "        except:\n",
    "            contents.append('') \n",
    "    \n",
    "        # 소관위원회\n",
    "        try:\n",
    "            board = driver.find_element_by_css_selector('body > div > div.contentWrap > div.subContents > div > div:nth-child(5) > div > table > tbody > tr > td:nth-child(1)').text\n",
    "            boards.append(board)\n",
    "            time.sleep(0.5)\n",
    "        except:\n",
    "            boards.append('')\n",
    "    \n",
    "        # 발의한 의원들 리스트 \n",
    "        try: \n",
    "            proposer = driver.find_element_by_css_selector('body > div > div.contentWrap > div.subContents > div > div.contIn > div.tableCol01 > table > tbody > tr > td:nth-child(3) > a > img')\n",
    "            proposer.click()\n",
    "    \n",
    "            # 새로운 창으로 초점 변경 \n",
    "            driver.switch_to_window(driver.window_handles[1])\n",
    "            driver.get_window_position(driver.window_handles[1])\n",
    "    \n",
    "            html = driver.page_source\n",
    "            soup = BeautifulSoup(html, 'html.parser')\n",
    "            members_raw = soup.find_all('div', class_='links textType02 mt20')[0]\n",
    "            members = members_raw.find_all('a')\n",
    "            members_list = []\n",
    "            for n in range(len(members)):\n",
    "                members_list.append(members[n].get_text())\n",
    "            members.append(members_list)\n",
    "    \n",
    "            driver.close()\n",
    "    \n",
    "            # 원래 창으로 돌아가기\n",
    "            driver.switch_to_window(driver.window_handles[0])\n",
    "            driver.get_window_position(driver.window_handles[0])\n",
    "    \n",
    "        except: \n",
    "            members.append('')\n",
    "    \n",
    "        # 목록으로 돌아가기 \n",
    "        list_btn = driver.find_element_by_css_selector('div.listBtn > a')\n",
    "        list_btn.click()\n",
    "        \n",
    "        # 282쪽이면 다음 페이지로 넘어가지 않도록! \n",
    "    if n == 282: \n",
    "        break \n",
    "     \n",
    "    # 페이지 넘김 \n",
    "    if n % 10 != 0:\n",
    "        if n < 10:\n",
    "            paging = driver.find_element_by_css_selector(f'#pageListViewArea > a:nth-child({(n%10)+1})')\n",
    "        else: \n",
    "            paging = driver.find_element_by_css_selector(f'#pageListViewArea > a:nth-child({(n%10)+3})')    \n",
    "        paging.click()\n",
    "        time.sleep(3)\n",
    "        \n",
    "    else:\n",
    "        if n == 10: \n",
    "            next_paging = driver.find_element_by_css_selector('#pageListViewArea > a:nth-child(11)')\n",
    "        else: \n",
    "            next_paging = driver.find_element_by_css_selector('#pageListViewArea > a:nth-child(13)')\n",
    "        next_paging.click()\n",
    "        time.sleep(3)\n",
    "    \n",
    "    MAX_SLEEP_TIME = 5\n",
    "    rand_value = randint(3, MAX_SLEEP_TIME)\n",
    "    time.sleep(rand_value)"
   ]
  },
  {
   "cell_type": "code",
   "execution_count": null,
   "metadata": {},
   "outputs": [],
   "source": []
  },
  {
   "cell_type": "code",
   "execution_count": null,
   "metadata": {},
   "outputs": [],
   "source": []
  },
  {
   "cell_type": "code",
   "execution_count": 80,
   "metadata": {},
   "outputs": [],
   "source": [
    "# 의안 누르기: tr 1-100까지 수정해주면 됨! \n",
    "bill = driver.find_element_by_css_selector('tbody > tr:nth-child(42) > td.alignL > div.pl25 > a')\n",
    "bill.click()\n",
    "# time.sleep(1)"
   ]
  },
  {
   "cell_type": "code",
   "execution_count": 56,
   "metadata": {},
   "outputs": [],
   "source": [
    "contents = []\n",
    "boards = []\n",
    "members = []\n",
    "\n",
    "# 1. 더보기 버튼 눌러주기 \n",
    "more_btn = driver.find_element_by_id('summaryContentMoreBtn')\n",
    "more_btn.click()\n",
    "\n",
    "# 2. 해당 페이지 html 가져오기 \n",
    "html = driver.page_source\n",
    "soup = BeautifulSoup(html, 'html.parser')\n",
    "table = soup.find('table')\n",
    "\n",
    "# 제안날짜 \n",
    "date = table.find('tbody').find_all('td')[3].get_text()\n",
    "\n",
    "# 제안내용\n",
    "try:\n",
    "    content_raw = soup.find('div', class_='textType02').get_text()    \n",
    "    content_split = re.split('\\r|\\t|\\n|\\xa0', content_raw)\n",
    "    content = ''.join(content_split)\n",
    "    contents.append(content)\n",
    "                \n",
    "except:\n",
    "    contents.append('') \n",
    "    \n",
    "# 소관위원회\n",
    "try:\n",
    "    board = driver.find_element_by_css_selector('body > div > div.contentWrap > div.subContents > div > div:nth-child(5) > div > table > tbody > tr > td:nth-child(1)').text\n",
    "    boards.append(board)\n",
    "except:\n",
    "    boards.append('')\n",
    "    \n"
   ]
  },
  {
   "cell_type": "code",
   "execution_count": 81,
   "metadata": {},
   "outputs": [],
   "source": [
    "# 발의한 의원들 리스트 \n",
    "try: \n",
    "    proposer = driver.find_element_by_css_selector('body > div > div.contentWrap > div.subContents > div > div.contIn > div.tableCol01 > table > tbody > tr > td:nth-child(3) > a > img')\n",
    "    proposer.click()\n",
    "    \n",
    "    # 새로운 창으로 초점 변경 \n",
    "    driver.switch_to_window(driver.window_handles[1])\n",
    "    driver.get_window_position(driver.window_handles[1])\n",
    "    \n",
    "    html = driver.page_source\n",
    "    soup = BeautifulSoup(html, 'html.parser')\n",
    "    members_raw = soup.find_all('div', class_='links textType02 mt20')[0]\n",
    "    members = members_raw.find_all('a')\n",
    "    members_list = []\n",
    "    for n in range(len(members)):\n",
    "        members_list.append(members[n].get_text())\n",
    "    members.append(members_list)\n",
    "    \n",
    "    driver.close()\n",
    "    \n",
    "    # 원래 창으로 돌아가기\n",
    "    driver.switch_to_window(driver.window_handles[0])\n",
    "    driver.get_window_position(driver.window_handles[0])\n",
    "    \n",
    "except: \n",
    "    members.append('')\n",
    "    \n",
    "# 목록으로 돌아가기 \n",
    "list_btn = driver.find_element_by_css_selector('div.listBtn > a')\n",
    "list_btn.click()"
   ]
  },
  {
   "cell_type": "code",
   "execution_count": null,
   "metadata": {},
   "outputs": [],
   "source": []
  },
  {
   "cell_type": "code",
   "execution_count": null,
   "metadata": {},
   "outputs": [],
   "source": []
  }
 ],
 "metadata": {
  "kernelspec": {
   "display_name": "Python 3",
   "language": "python",
   "name": "python3"
  },
  "language_info": {
   "codemirror_mode": {
    "name": "ipython",
    "version": 3
   },
   "file_extension": ".py",
   "mimetype": "text/x-python",
   "name": "python",
   "nbconvert_exporter": "python",
   "pygments_lexer": "ipython3",
   "version": "3.8.5"
  }
 },
 "nbformat": 4,
 "nbformat_minor": 4
}
