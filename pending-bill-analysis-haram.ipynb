{
 "cells": [
  {
   "cell_type": "markdown",
   "metadata": {},
   "source": [
    "# 계류 법안 분석 \n",
    "\n",
    "작성자: 박하람"
   ]
  },
  {
   "cell_type": "code",
   "execution_count": 1,
   "metadata": {},
   "outputs": [],
   "source": [
    "import sys\n",
    "sys.path.append(\"/usr/local/lib/python3.8/site-packages\")"
   ]
  },
  {
   "cell_type": "code",
   "execution_count": 2,
   "metadata": {},
   "outputs": [],
   "source": [
    "import pandas as pd\n",
    "import numpy as np\n",
    "import matplotlib.pyplot as plt\n",
    "import seaborn as sns\n",
    "import re\n",
    "%matplotlib inline"
   ]
  },
  {
   "cell_type": "code",
   "execution_count": 3,
   "metadata": {},
   "outputs": [],
   "source": [
    "bill_df = pd.read_csv('bill_20th_data_final.csv', encoding='utf-8', parse_dates=['제안일자','의결일자'])\n",
    "bill_df = bill_df[['의안번호','의안명','제안자구분','제안일자','의결일자','의결결과','제안회기','제안이유','소관위원회','법률반영여부']]"
   ]
  },
  {
   "cell_type": "code",
   "execution_count": 4,
   "metadata": {},
   "outputs": [
    {
     "data": {
      "text/plain": [
       "(23684, 10)"
      ]
     },
     "execution_count": 4,
     "metadata": {},
     "output_type": "execute_result"
    }
   ],
   "source": [
    "bill_df.shape"
   ]
  },
  {
   "cell_type": "code",
   "execution_count": 5,
   "metadata": {},
   "outputs": [
    {
     "name": "stdout",
     "output_type": "stream",
     "text": [
      "<class 'pandas.core.frame.DataFrame'>\n",
      "RangeIndex: 23684 entries, 0 to 23683\n",
      "Data columns (total 10 columns):\n",
      " #   Column  Non-Null Count  Dtype         \n",
      "---  ------  --------------  -----         \n",
      " 0   의안번호    23684 non-null  int64         \n",
      " 1   의안명     23684 non-null  object        \n",
      " 2   제안자구분   23684 non-null  object        \n",
      " 3   제안일자    23684 non-null  datetime64[ns]\n",
      " 4   의결일자    23684 non-null  datetime64[ns]\n",
      " 5   의결결과    23684 non-null  object        \n",
      " 6   제안회기    23684 non-null  object        \n",
      " 7   제안이유    23016 non-null  object        \n",
      " 8   소관위원회   23454 non-null  object        \n",
      " 9   법률반영여부  23684 non-null  object        \n",
      "dtypes: datetime64[ns](2), int64(1), object(7)\n",
      "memory usage: 1.8+ MB\n"
     ]
    }
   ],
   "source": [
    "bill_df.info()"
   ]
  },
  {
   "cell_type": "code",
   "execution_count": 6,
   "metadata": {
    "scrolled": true
   },
   "outputs": [
    {
     "data": {
      "text/plain": [
       "의안번호      0\n",
       "의안명       0\n",
       "제안자구분     0\n",
       "제안일자      0\n",
       "의결일자      0\n",
       "의결결과      0\n",
       "제안회기      0\n",
       "제안이유      0\n",
       "소관위원회     0\n",
       "법률반영여부    0\n",
       "dtype: int64"
      ]
     },
     "execution_count": 6,
     "metadata": {},
     "output_type": "execute_result"
    }
   ],
   "source": [
    "# NaN 채우기 \n",
    "bill_df = bill_df.fillna('')\n",
    "bill_df.isnull().sum()"
   ]
  },
  {
   "cell_type": "markdown",
   "metadata": {},
   "source": [
    "## EDA \n",
    "\n",
    "### 법률: 반영/미반영 기준으로 소요시간 분석\n",
    "\n",
    "- 법률반영: 원안가결, 원안수정, 대안반영, 수정안반영\n",
    "- 법률미반영: 부결, 폐기, 철회, 반려, 기타 "
   ]
  },
  {
   "cell_type": "code",
   "execution_count": 7,
   "metadata": {},
   "outputs": [
    {
     "data": {
      "text/plain": [
       "array(['임기만료폐기', '원안가결', '가결', '수정가결', '대안반영폐기', '철회', '폐기', '부결',\n",
       "       '수정안반영폐기', '심사대상제외'], dtype=object)"
      ]
     },
     "execution_count": 7,
     "metadata": {},
     "output_type": "execute_result"
    }
   ],
   "source": [
    "bill_df['의결결과'].unique()"
   ]
  },
  {
   "cell_type": "markdown",
   "metadata": {},
   "source": [
    "- accept_list = ['대안반영폐기', '원안가결', '수정가결', '수정안반영폐기', '가결']\n",
    "- reject_list = ['임기만료폐기', '부결', '철회', '반려', '심사대상제외', '폐기']"
   ]
  },
  {
   "cell_type": "code",
   "execution_count": 8,
   "metadata": {},
   "outputs": [
    {
     "data": {
      "text/plain": [
       "임기만료폐기     14847\n",
       "대안반영폐기      5135\n",
       "원안가결        2388\n",
       "수정가결         898\n",
       "철회           225\n",
       "폐기           144\n",
       "수정안반영폐기       41\n",
       "부결             3\n",
       "심사대상제외         2\n",
       "가결             1\n",
       "Name: 의결결과, dtype: int64"
      ]
     },
     "execution_count": 8,
     "metadata": {},
     "output_type": "execute_result"
    }
   ],
   "source": [
    "bill_tmp = bill_df['의결결과'].value_counts()\n",
    "bill_tmp"
   ]
  },
  {
   "cell_type": "code",
   "execution_count": 9,
   "metadata": {},
   "outputs": [
    {
     "data": {
      "text/plain": [
       "미반영    15221\n",
       "반영      8463\n",
       "Name: 법률반영여부, dtype: int64"
      ]
     },
     "execution_count": 9,
     "metadata": {},
     "output_type": "execute_result"
    }
   ],
   "source": [
    "bill_df['법률반영여부'].value_counts()"
   ]
  },
  {
   "cell_type": "code",
   "execution_count": 10,
   "metadata": {},
   "outputs": [
    {
     "data": {
      "text/html": [
       "<div>\n",
       "<style scoped>\n",
       "    .dataframe tbody tr th:only-of-type {\n",
       "        vertical-align: middle;\n",
       "    }\n",
       "\n",
       "    .dataframe tbody tr th {\n",
       "        vertical-align: top;\n",
       "    }\n",
       "\n",
       "    .dataframe thead th {\n",
       "        text-align: right;\n",
       "    }\n",
       "</style>\n",
       "<table border=\"1\" class=\"dataframe\">\n",
       "  <thead>\n",
       "    <tr style=\"text-align: right;\">\n",
       "      <th></th>\n",
       "      <th>의안번호</th>\n",
       "      <th>의안명</th>\n",
       "      <th>제안자구분</th>\n",
       "      <th>제안일자</th>\n",
       "      <th>의결일자</th>\n",
       "      <th>의결결과</th>\n",
       "      <th>제안회기</th>\n",
       "      <th>제안이유</th>\n",
       "      <th>소관위원회</th>\n",
       "      <th>법률반영여부</th>\n",
       "      <th>의결처리기간</th>\n",
       "    </tr>\n",
       "  </thead>\n",
       "  <tbody>\n",
       "    <tr>\n",
       "      <th>0</th>\n",
       "      <td>2024996</td>\n",
       "      <td>집합건물의 소유 및 관리에 관한 법률 일부개정법률안(김병관의원 등 13인)</td>\n",
       "      <td>의원</td>\n",
       "      <td>2020-05-22</td>\n",
       "      <td>2020-05-29</td>\n",
       "      <td>임기만료폐기</td>\n",
       "      <td>제20대 (2016~2020) 제378회</td>\n",
       "      <td>아파트 등 공동주택은 「공동주택관리법」에 의해 체계적으로 관리되고 있는 반면  ...</td>\n",
       "      <td>법제사법위원회</td>\n",
       "      <td>미반영</td>\n",
       "      <td>7</td>\n",
       "    </tr>\n",
       "    <tr>\n",
       "      <th>1</th>\n",
       "      <td>2024995</td>\n",
       "      <td>지방세법 일부개정법률안(김병관의원 등 10인)</td>\n",
       "      <td>의원</td>\n",
       "      <td>2020-05-22</td>\n",
       "      <td>2020-05-29</td>\n",
       "      <td>임기만료폐기</td>\n",
       "      <td>제20대 (2016~2020) 제378회</td>\n",
       "      <td>현행법상 아파트 등 주택에 대한 재산세 과세표준은 국토교통부가 해마다 「부동산 가격...</td>\n",
       "      <td>행정안전위원회</td>\n",
       "      <td>미반영</td>\n",
       "      <td>7</td>\n",
       "    </tr>\n",
       "    <tr>\n",
       "      <th>2</th>\n",
       "      <td>2024994</td>\n",
       "      <td>법률용어 정비를 위한 정보위원회 소관 2개 법률 일부개정을 위한 법률안</td>\n",
       "      <td>위원장</td>\n",
       "      <td>2020-05-20</td>\n",
       "      <td>2020-05-20</td>\n",
       "      <td>원안가결</td>\n",
       "      <td>제20대 (2016~2020) 제378회</td>\n",
       "      <td></td>\n",
       "      <td>정보위원회</td>\n",
       "      <td>반영</td>\n",
       "      <td>0</td>\n",
       "    </tr>\n",
       "  </tbody>\n",
       "</table>\n",
       "</div>"
      ],
      "text/plain": [
       "      의안번호                                        의안명 제안자구분       제안일자  \\\n",
       "0  2024996  집합건물의 소유 및 관리에 관한 법률 일부개정법률안(김병관의원 등 13인)    의원 2020-05-22   \n",
       "1  2024995                  지방세법 일부개정법률안(김병관의원 등 10인)    의원 2020-05-22   \n",
       "2  2024994    법률용어 정비를 위한 정보위원회 소관 2개 법률 일부개정을 위한 법률안   위원장 2020-05-20   \n",
       "\n",
       "        의결일자    의결결과                    제안회기  \\\n",
       "0 2020-05-29  임기만료폐기  제20대 (2016~2020) 제378회   \n",
       "1 2020-05-29  임기만료폐기  제20대 (2016~2020) 제378회   \n",
       "2 2020-05-20    원안가결  제20대 (2016~2020) 제378회   \n",
       "\n",
       "                                                제안이유    소관위원회 법률반영여부  의결처리기간  \n",
       "0    아파트 등 공동주택은 「공동주택관리법」에 의해 체계적으로 관리되고 있는 반면  ...  법제사법위원회    미반영       7  \n",
       "1  현행법상 아파트 등 주택에 대한 재산세 과세표준은 국토교통부가 해마다 「부동산 가격...  행정안전위원회    미반영       7  \n",
       "2                                                       정보위원회     반영       0  "
      ]
     },
     "execution_count": 10,
     "metadata": {},
     "output_type": "execute_result"
    }
   ],
   "source": [
    "bill_df['의결처리기간'] = (bill_df['의결일자'] - bill_df['제안일자']).dt.days\n",
    "bill_df.head(3)"
   ]
  },
  {
   "cell_type": "code",
   "execution_count": 11,
   "metadata": {},
   "outputs": [
    {
     "data": {
      "text/plain": [
       "법률반영여부\n",
       "미반영    760.262072\n",
       "반영     245.408720\n",
       "Name: 의결처리기간, dtype: float64"
      ]
     },
     "execution_count": 11,
     "metadata": {},
     "output_type": "execute_result"
    }
   ],
   "source": [
    "bill_df['의결처리기간'].groupby(bill_df['법률반영여부']).mean()"
   ]
  },
  {
   "cell_type": "code",
   "execution_count": 12,
   "metadata": {},
   "outputs": [
    {
     "data": {
      "text/html": [
       "<div>\n",
       "<style scoped>\n",
       "    .dataframe tbody tr th:only-of-type {\n",
       "        vertical-align: middle;\n",
       "    }\n",
       "\n",
       "    .dataframe tbody tr th {\n",
       "        vertical-align: top;\n",
       "    }\n",
       "\n",
       "    .dataframe thead th {\n",
       "        text-align: right;\n",
       "    }\n",
       "</style>\n",
       "<table border=\"1\" class=\"dataframe\">\n",
       "  <thead>\n",
       "    <tr style=\"text-align: right;\">\n",
       "      <th></th>\n",
       "      <th></th>\n",
       "      <th>의결처리기간</th>\n",
       "    </tr>\n",
       "    <tr>\n",
       "      <th>법률반영여부</th>\n",
       "      <th>의결결과</th>\n",
       "      <th></th>\n",
       "    </tr>\n",
       "  </thead>\n",
       "  <tbody>\n",
       "    <tr>\n",
       "      <th rowspan=\"5\" valign=\"top\">미반영</th>\n",
       "      <th>부결</th>\n",
       "      <td>150.666667</td>\n",
       "    </tr>\n",
       "    <tr>\n",
       "      <th>심사대상제외</th>\n",
       "      <td>829.000000</td>\n",
       "    </tr>\n",
       "    <tr>\n",
       "      <th>임기만료폐기</th>\n",
       "      <td>774.433960</td>\n",
       "    </tr>\n",
       "    <tr>\n",
       "      <th>철회</th>\n",
       "      <td>91.528889</td>\n",
       "    </tr>\n",
       "    <tr>\n",
       "      <th>폐기</th>\n",
       "      <td>355.722222</td>\n",
       "    </tr>\n",
       "    <tr>\n",
       "      <th rowspan=\"5\" valign=\"top\">반영</th>\n",
       "      <th>가결</th>\n",
       "      <td>0.000000</td>\n",
       "    </tr>\n",
       "    <tr>\n",
       "      <th>대안반영폐기</th>\n",
       "      <td>325.360273</td>\n",
       "    </tr>\n",
       "    <tr>\n",
       "      <th>수정가결</th>\n",
       "      <td>287.788419</td>\n",
       "    </tr>\n",
       "    <tr>\n",
       "      <th>수정안반영폐기</th>\n",
       "      <td>207.975610</td>\n",
       "    </tr>\n",
       "    <tr>\n",
       "      <th>원안가결</th>\n",
       "      <td>58.294807</td>\n",
       "    </tr>\n",
       "  </tbody>\n",
       "</table>\n",
       "</div>"
      ],
      "text/plain": [
       "                    의결처리기간\n",
       "법률반영여부 의결결과               \n",
       "미반영    부결       150.666667\n",
       "       심사대상제외   829.000000\n",
       "       임기만료폐기   774.433960\n",
       "       철회        91.528889\n",
       "       폐기       355.722222\n",
       "반영     가결         0.000000\n",
       "       대안반영폐기   325.360273\n",
       "       수정가결     287.788419\n",
       "       수정안반영폐기  207.975610\n",
       "       원안가결      58.294807"
      ]
     },
     "execution_count": 12,
     "metadata": {},
     "output_type": "execute_result"
    }
   ],
   "source": [
    "pend_df = pd.pivot_table(bill_df, \n",
    "                        index=['법률반영여부', '의결결과'],\n",
    "                        values=['의결처리기간']).fillna(0)\n",
    "pend_df"
   ]
  },
  {
   "cell_type": "code",
   "execution_count": 13,
   "metadata": {},
   "outputs": [
    {
     "data": {
      "text/html": [
       "<div>\n",
       "<style scoped>\n",
       "    .dataframe tbody tr th:only-of-type {\n",
       "        vertical-align: middle;\n",
       "    }\n",
       "\n",
       "    .dataframe tbody tr th {\n",
       "        vertical-align: top;\n",
       "    }\n",
       "\n",
       "    .dataframe thead th {\n",
       "        text-align: right;\n",
       "    }\n",
       "</style>\n",
       "<table border=\"1\" class=\"dataframe\">\n",
       "  <thead>\n",
       "    <tr style=\"text-align: right;\">\n",
       "      <th></th>\n",
       "      <th></th>\n",
       "      <th>의결처리기간</th>\n",
       "      <th>의결결과</th>\n",
       "    </tr>\n",
       "    <tr>\n",
       "      <th>법률반영여부</th>\n",
       "      <th>의결결과</th>\n",
       "      <th></th>\n",
       "      <th></th>\n",
       "    </tr>\n",
       "  </thead>\n",
       "  <tbody>\n",
       "    <tr>\n",
       "      <th rowspan=\"5\" valign=\"top\">미반영</th>\n",
       "      <th>부결</th>\n",
       "      <td>150.666667</td>\n",
       "      <td>3</td>\n",
       "    </tr>\n",
       "    <tr>\n",
       "      <th>심사대상제외</th>\n",
       "      <td>829.000000</td>\n",
       "      <td>2</td>\n",
       "    </tr>\n",
       "    <tr>\n",
       "      <th>임기만료폐기</th>\n",
       "      <td>774.433960</td>\n",
       "      <td>14847</td>\n",
       "    </tr>\n",
       "    <tr>\n",
       "      <th>철회</th>\n",
       "      <td>91.528889</td>\n",
       "      <td>225</td>\n",
       "    </tr>\n",
       "    <tr>\n",
       "      <th>폐기</th>\n",
       "      <td>355.722222</td>\n",
       "      <td>144</td>\n",
       "    </tr>\n",
       "    <tr>\n",
       "      <th rowspan=\"5\" valign=\"top\">반영</th>\n",
       "      <th>가결</th>\n",
       "      <td>0.000000</td>\n",
       "      <td>1</td>\n",
       "    </tr>\n",
       "    <tr>\n",
       "      <th>대안반영폐기</th>\n",
       "      <td>325.360273</td>\n",
       "      <td>5135</td>\n",
       "    </tr>\n",
       "    <tr>\n",
       "      <th>수정가결</th>\n",
       "      <td>287.788419</td>\n",
       "      <td>898</td>\n",
       "    </tr>\n",
       "    <tr>\n",
       "      <th>수정안반영폐기</th>\n",
       "      <td>207.975610</td>\n",
       "      <td>41</td>\n",
       "    </tr>\n",
       "    <tr>\n",
       "      <th>원안가결</th>\n",
       "      <td>58.294807</td>\n",
       "      <td>2388</td>\n",
       "    </tr>\n",
       "  </tbody>\n",
       "</table>\n",
       "</div>"
      ],
      "text/plain": [
       "                    의결처리기간   의결결과\n",
       "법률반영여부 의결결과                      \n",
       "미반영    부결       150.666667      3\n",
       "       심사대상제외   829.000000      2\n",
       "       임기만료폐기   774.433960  14847\n",
       "       철회        91.528889    225\n",
       "       폐기       355.722222    144\n",
       "반영     가결         0.000000      1\n",
       "       대안반영폐기   325.360273   5135\n",
       "       수정가결     287.788419    898\n",
       "       수정안반영폐기  207.975610     41\n",
       "       원안가결      58.294807   2388"
      ]
     },
     "execution_count": 13,
     "metadata": {},
     "output_type": "execute_result"
    }
   ],
   "source": [
    "# 의결처리기간 - 평균 \n",
    "pd.merge(pend_df, bill_tmp, left_on='의결결과', right_index=True)"
   ]
  },
  {
   "cell_type": "code",
   "execution_count": 14,
   "metadata": {},
   "outputs": [
    {
     "name": "stdout",
     "output_type": "stream",
     "text": [
      "미반영 평균 소요시간:  440.2703475000561\n",
      "반영 평균 소요시간:  175.88382169465518\n"
     ]
    }
   ],
   "source": [
    "print('미반영 평균 소요시간: ', pend_df.loc['미반영','의결처리기간'].mean())\n",
    "print('반영 평균 소요시간: ', pend_df.loc['반영','의결처리기간'].mean())"
   ]
  },
  {
   "cell_type": "markdown",
   "metadata": {},
   "source": [
    "## 소관위원회별 토픽 모델링 \n",
    "\n"
   ]
  },
  {
   "cell_type": "code",
   "execution_count": 27,
   "metadata": {},
   "outputs": [],
   "source": [
    "comm_df = bill_df.copy()"
   ]
  },
  {
   "cell_type": "markdown",
   "metadata": {},
   "source": [
    "국회법 제4장 회의 제2절 발의, 동의, 철회와 번안 \n",
    "\n",
    "> 제33조 3번 의안이 발의 또는 제출되었을 때에는 의장은 이것을 국회에 보고한 후 적당한 위원회에 부탁하고 그 심사가 끝난 뒤에 본회의에 부의한다. **단, 법률안 이외의 의안은 국회의 결의에 의하여 위원회의 심사를 생략할 수 있다.**"
   ]
  },
  {
   "cell_type": "code",
   "execution_count": 57,
   "metadata": {},
   "outputs": [
    {
     "data": {
      "text/html": [
       "<div>\n",
       "<style scoped>\n",
       "    .dataframe tbody tr th:only-of-type {\n",
       "        vertical-align: middle;\n",
       "    }\n",
       "\n",
       "    .dataframe tbody tr th {\n",
       "        vertical-align: top;\n",
       "    }\n",
       "\n",
       "    .dataframe thead th {\n",
       "        text-align: right;\n",
       "    }\n",
       "</style>\n",
       "<table border=\"1\" class=\"dataframe\">\n",
       "  <thead>\n",
       "    <tr style=\"text-align: right;\">\n",
       "      <th></th>\n",
       "      <th>의안번호</th>\n",
       "      <th>의안명</th>\n",
       "      <th>제안자구분</th>\n",
       "      <th>제안일자</th>\n",
       "      <th>의결일자</th>\n",
       "      <th>의결결과</th>\n",
       "      <th>제안회기</th>\n",
       "      <th>제안이유</th>\n",
       "      <th>소관위원회</th>\n",
       "      <th>법률반영여부</th>\n",
       "      <th>의결처리기간</th>\n",
       "      <th>위원회 분류</th>\n",
       "    </tr>\n",
       "  </thead>\n",
       "  <tbody>\n",
       "    <tr>\n",
       "      <th>60</th>\n",
       "      <td>2024936</td>\n",
       "      <td>국가인권위원회 위원(석원정) 선출안</td>\n",
       "      <td>의장</td>\n",
       "      <td>2020-05-20</td>\n",
       "      <td>2020-05-20</td>\n",
       "      <td>가결</td>\n",
       "      <td>제20대 (2016~2020) 제378회</td>\n",
       "      <td></td>\n",
       "      <td>기타</td>\n",
       "      <td>반영</td>\n",
       "      <td>0</td>\n",
       "      <td>상임위원회</td>\n",
       "    </tr>\n",
       "    <tr>\n",
       "      <th>71</th>\n",
       "      <td>2024928</td>\n",
       "      <td>2019년도 국정감사 결과보고서 채택의 건</td>\n",
       "      <td>위원장</td>\n",
       "      <td>2020-05-06</td>\n",
       "      <td>2020-05-20</td>\n",
       "      <td>원안가결</td>\n",
       "      <td>제20대 (2016~2020) 제377회</td>\n",
       "      <td></td>\n",
       "      <td>기타</td>\n",
       "      <td>반영</td>\n",
       "      <td>14</td>\n",
       "      <td>상임위원회</td>\n",
       "    </tr>\n",
       "    <tr>\n",
       "      <th>74</th>\n",
       "      <td>2024922</td>\n",
       "      <td>공휴일 본회의 개의에 관한 건</td>\n",
       "      <td>의장</td>\n",
       "      <td>2020-04-29</td>\n",
       "      <td>2020-04-29</td>\n",
       "      <td>원안가결</td>\n",
       "      <td>제20대 (2016~2020) 제377회</td>\n",
       "      <td></td>\n",
       "      <td>기타</td>\n",
       "      <td>반영</td>\n",
       "      <td>0</td>\n",
       "      <td>상임위원회</td>\n",
       "    </tr>\n",
       "  </tbody>\n",
       "</table>\n",
       "</div>"
      ],
      "text/plain": [
       "       의안번호                      의안명 제안자구분       제안일자       의결일자  의결결과  \\\n",
       "60  2024936      국가인권위원회 위원(석원정) 선출안    의장 2020-05-20 2020-05-20    가결   \n",
       "71  2024928  2019년도 국정감사 결과보고서 채택의 건   위원장 2020-05-06 2020-05-20  원안가결   \n",
       "74  2024922         공휴일 본회의 개의에 관한 건    의장 2020-04-29 2020-04-29  원안가결   \n",
       "\n",
       "                      제안회기 제안이유 소관위원회 법률반영여부  의결처리기간 위원회 분류  \n",
       "60  제20대 (2016~2020) 제378회         기타     반영       0  상임위원회  \n",
       "71  제20대 (2016~2020) 제377회         기타     반영      14  상임위원회  \n",
       "74  제20대 (2016~2020) 제377회         기타     반영       0  상임위원회  "
      ]
     },
     "execution_count": 57,
     "metadata": {},
     "output_type": "execute_result"
    }
   ],
   "source": [
    "# 소관위원회가 없는 경우 임명안이거나 대다수 의원들이 발의한 법안임. \n",
    "# 따로 분류를 해줄 필요가 있다고 생각했음.\n",
    "comm_df.loc[comm_df['소관위원회'] == '','소관위원회'] = '기타'\n",
    "comm_df[comm_df['소관위원회'] == '기타'].head(3)"
   ]
  },
  {
   "cell_type": "code",
   "execution_count": 58,
   "metadata": {},
   "outputs": [
    {
     "data": {
      "text/plain": [
       "행정안전위원회                          2751\n",
       "보건복지위원회                          2528\n",
       "국토교통위원회                          2203\n",
       "기획재정위원회                          2047\n",
       "환경노동위원회                          2018\n",
       "법제사법위원회                          1899\n",
       "농림축산식품해양수산위원회                    1668\n",
       "정무위원회                            1612\n",
       "산업통상자원중소벤처기업위원회                  1264\n",
       "과학기술정보방송통신위원회                     990\n",
       "교육위원회                             923\n",
       "문화체육관광위원회                         792\n",
       "국회운영위원회                           613\n",
       "국방위원회                             547\n",
       "여성가족위원회                           403\n",
       "외교통일위원회                           376\n",
       "교육문화체육관광위원회                       247\n",
       "기타                                230\n",
       "정치개혁 특별위원회                        145\n",
       "안전행정위원회                           144\n",
       "산업통상자원위원회                          99\n",
       "헌법개정 및 정치개혁 특별위원회                  51\n",
       "윤리특별위원회                            43\n",
       "정보위원회                              35\n",
       "사법개혁 특별위원회                         30\n",
       "미래창조과학방송통신위원회                      12\n",
       "예산결산특별위원회                           4\n",
       "헌법재판소 재판관 선출에 관한 인사청문특별위원회          3\n",
       "평창동계올림픽 및 국제경기대회지원 특별위원회            2\n",
       "국회상임위원회 위원정수에 관한 규칙 개정 특별위원회        1\n",
       "중앙선거관리위원회 위원 선출에 관한 인사청문특별위원회       1\n",
       "미세먼지 대책 특별위원회                       1\n",
       "저출산·고령화대책 특별위원회                     1\n",
       "국회 코로나19 대책 특별위원회                   1\n",
       "Name: 소관위원회, dtype: int64"
      ]
     },
     "execution_count": 58,
     "metadata": {},
     "output_type": "execute_result"
    }
   ],
   "source": [
    "comm_df['소관위원회'].value_counts()"
   ]
  },
  {
   "cell_type": "code",
   "execution_count": 59,
   "metadata": {},
   "outputs": [],
   "source": [
    "comm = comm_df['소관위원회'].unique()\n",
    "special_comm = [com for com in comm if com.endswith('특별위원회') == True]\n",
    "basic_comm = [com for com in comm if com.endswith('특별위원회') == False]"
   ]
  },
  {
   "cell_type": "code",
   "execution_count": 60,
   "metadata": {},
   "outputs": [
    {
     "name": "stdout",
     "output_type": "stream",
     "text": [
      "상설 특별위원회 리스트: \n",
      " ['국회 코로나19 대책 특별위원회', '헌법개정 및 정치개혁 특별위원회', '중앙선거관리위원회 위원 선출에 관한 인사청문특별위원회', '예산결산특별위원회', '정치개혁 특별위원회', '사법개혁 특별위원회', '윤리특별위원회', '헌법재판소 재판관 선출에 관한 인사청문특별위원회', '미세먼지 대책 특별위원회', '평창동계올림픽 및 국제경기대회지원 특별위원회', '저출산·고령화대책 특별위원회', '국회상임위원회 위원정수에 관한 규칙 개정 특별위원회'] \n",
      "\n",
      "상임위원회 리스트: \n",
      " ['법제사법위원회', '행정안전위원회', '정보위원회', '여성가족위원회', '문화체육관광위원회', '국회운영위원회', '과학기술정보방송통신위원회', '정무위원회', '기획재정위원회', '국토교통위원회', '환경노동위원회', '기타', '국방위원회', '외교통일위원회', '농림축산식품해양수산위원회', '산업통상자원중소벤처기업위원회', '교육위원회', '보건복지위원회', '교육문화체육관광위원회', '안전행정위원회', '산업통상자원위원회', '미래창조과학방송통신위원회']\n"
     ]
    }
   ],
   "source": [
    "print('상설 특별위원회 리스트:', '\\n', special_comm, '\\n')\n",
    "print('상임위원회 리스트:', '\\n', basic_comm)"
   ]
  },
  {
   "cell_type": "code",
   "execution_count": 33,
   "metadata": {},
   "outputs": [],
   "source": [
    "comm_df.loc[comm_df['소관위원회'].isin(basic_comm), '위원회 분류'] = '상임위원회'\n",
    "comm_df.loc[comm_df['소관위원회'].isin(special_comm), '위원회 분류'] = '특별위원회'"
   ]
  },
  {
   "cell_type": "markdown",
   "metadata": {},
   "source": [
    "### 상임위원회 분석"
   ]
  },
  {
   "cell_type": "code",
   "execution_count": 76,
   "metadata": {},
   "outputs": [
    {
     "data": {
      "text/html": [
       "<div>\n",
       "<style scoped>\n",
       "    .dataframe tbody tr th:only-of-type {\n",
       "        vertical-align: middle;\n",
       "    }\n",
       "\n",
       "    .dataframe tbody tr th {\n",
       "        vertical-align: top;\n",
       "    }\n",
       "\n",
       "    .dataframe thead th {\n",
       "        text-align: right;\n",
       "    }\n",
       "</style>\n",
       "<table border=\"1\" class=\"dataframe\">\n",
       "  <thead>\n",
       "    <tr style=\"text-align: right;\">\n",
       "      <th></th>\n",
       "      <th>의안번호</th>\n",
       "      <th>의안명</th>\n",
       "      <th>제안자구분</th>\n",
       "      <th>제안일자</th>\n",
       "      <th>의결일자</th>\n",
       "      <th>의결결과</th>\n",
       "      <th>제안회기</th>\n",
       "      <th>제안이유</th>\n",
       "      <th>소관위원회</th>\n",
       "      <th>법률반영여부</th>\n",
       "      <th>의결처리기간</th>\n",
       "      <th>위원회 분류</th>\n",
       "    </tr>\n",
       "  </thead>\n",
       "  <tbody>\n",
       "    <tr>\n",
       "      <th>0</th>\n",
       "      <td>2024996</td>\n",
       "      <td>집합건물의 소유 및 관리에 관한 법률 일부개정법률안(김병관의원 등 13인)</td>\n",
       "      <td>의원</td>\n",
       "      <td>2020-05-22</td>\n",
       "      <td>2020-05-29</td>\n",
       "      <td>임기만료폐기</td>\n",
       "      <td>제20대 (2016~2020) 제378회</td>\n",
       "      <td>아파트 등 공동주택은 「공동주택관리법」에 의해 체계적으로 관리되고 있는 반면  ...</td>\n",
       "      <td>법제사법위원회</td>\n",
       "      <td>미반영</td>\n",
       "      <td>7</td>\n",
       "      <td>상임위원회</td>\n",
       "    </tr>\n",
       "    <tr>\n",
       "      <th>1</th>\n",
       "      <td>2024995</td>\n",
       "      <td>지방세법 일부개정법률안(김병관의원 등 10인)</td>\n",
       "      <td>의원</td>\n",
       "      <td>2020-05-22</td>\n",
       "      <td>2020-05-29</td>\n",
       "      <td>임기만료폐기</td>\n",
       "      <td>제20대 (2016~2020) 제378회</td>\n",
       "      <td>현행법상 아파트 등 주택에 대한 재산세 과세표준은 국토교통부가 해마다 「부동산 가격...</td>\n",
       "      <td>행정안전위원회</td>\n",
       "      <td>미반영</td>\n",
       "      <td>7</td>\n",
       "      <td>상임위원회</td>\n",
       "    </tr>\n",
       "    <tr>\n",
       "      <th>2</th>\n",
       "      <td>2024994</td>\n",
       "      <td>법률용어 정비를 위한 정보위원회 소관 2개 법률 일부개정을 위한 법률안</td>\n",
       "      <td>위원장</td>\n",
       "      <td>2020-05-20</td>\n",
       "      <td>2020-05-20</td>\n",
       "      <td>원안가결</td>\n",
       "      <td>제20대 (2016~2020) 제378회</td>\n",
       "      <td></td>\n",
       "      <td>정보위원회</td>\n",
       "      <td>반영</td>\n",
       "      <td>0</td>\n",
       "      <td>상임위원회</td>\n",
       "    </tr>\n",
       "  </tbody>\n",
       "</table>\n",
       "</div>"
      ],
      "text/plain": [
       "      의안번호                                        의안명 제안자구분       제안일자  \\\n",
       "0  2024996  집합건물의 소유 및 관리에 관한 법률 일부개정법률안(김병관의원 등 13인)    의원 2020-05-22   \n",
       "1  2024995                  지방세법 일부개정법률안(김병관의원 등 10인)    의원 2020-05-22   \n",
       "2  2024994    법률용어 정비를 위한 정보위원회 소관 2개 법률 일부개정을 위한 법률안   위원장 2020-05-20   \n",
       "\n",
       "        의결일자    의결결과                    제안회기  \\\n",
       "0 2020-05-29  임기만료폐기  제20대 (2016~2020) 제378회   \n",
       "1 2020-05-29  임기만료폐기  제20대 (2016~2020) 제378회   \n",
       "2 2020-05-20    원안가결  제20대 (2016~2020) 제378회   \n",
       "\n",
       "                                                제안이유    소관위원회 법률반영여부  의결처리기간  \\\n",
       "0    아파트 등 공동주택은 「공동주택관리법」에 의해 체계적으로 관리되고 있는 반면  ...  법제사법위원회    미반영       7   \n",
       "1  현행법상 아파트 등 주택에 대한 재산세 과세표준은 국토교통부가 해마다 「부동산 가격...  행정안전위원회    미반영       7   \n",
       "2                                                       정보위원회     반영       0   \n",
       "\n",
       "  위원회 분류  \n",
       "0  상임위원회  \n",
       "1  상임위원회  \n",
       "2  상임위원회  "
      ]
     },
     "execution_count": 76,
     "metadata": {},
     "output_type": "execute_result"
    }
   ],
   "source": [
    "comm_df1 = comm_df[comm_df['위원회 분류'] == '상임위원회']\n",
    "comm_df1.head(3)"
   ]
  },
  {
   "cell_type": "code",
   "execution_count": 73,
   "metadata": {},
   "outputs": [
    {
     "data": {
      "text/plain": [
       "행정안전위원회            2751\n",
       "보건복지위원회            2528\n",
       "국토교통위원회            2203\n",
       "기획재정위원회            2047\n",
       "환경노동위원회            2018\n",
       "법제사법위원회            1899\n",
       "농림축산식품해양수산위원회      1668\n",
       "정무위원회              1612\n",
       "산업통상자원중소벤처기업위원회    1264\n",
       "과학기술정보방송통신위원회       990\n",
       "교육위원회               923\n",
       "문화체육관광위원회           792\n",
       "국회운영위원회             613\n",
       "국방위원회               547\n",
       "여성가족위원회             403\n",
       "외교통일위원회             376\n",
       "교육문화체육관광위원회         247\n",
       "기타                  230\n",
       "안전행정위원회             144\n",
       "산업통상자원위원회            99\n",
       "정보위원회                35\n",
       "미래창조과학방송통신위원회        12\n",
       "Name: 소관위원회, dtype: int64"
      ]
     },
     "execution_count": 73,
     "metadata": {},
     "output_type": "execute_result"
    }
   ],
   "source": [
    "comm_df1['소관위원회'].value_counts()"
   ]
  },
  {
   "cell_type": "code",
   "execution_count": 82,
   "metadata": {},
   "outputs": [],
   "source": [
    "def split_name(x): \n",
    "    name = x.split('(')[0]\n",
    "    return name"
   ]
  },
  {
   "cell_type": "code",
   "execution_count": 83,
   "metadata": {},
   "outputs": [
    {
     "name": "stderr",
     "output_type": "stream",
     "text": [
      "<ipython-input-83-2331eb945b2b>:1: SettingWithCopyWarning: \n",
      "A value is trying to be set on a copy of a slice from a DataFrame.\n",
      "Try using .loc[row_indexer,col_indexer] = value instead\n",
      "\n",
      "See the caveats in the documentation: https://pandas.pydata.org/pandas-docs/stable/user_guide/indexing.html#returning-a-view-versus-a-copy\n",
      "  comm_df1['의안명 전처리'] = comm_df1['의안명'].apply(lambda x: split_name(x))\n"
     ]
    }
   ],
   "source": [
    "comm_df1['의안명 전처리'] = comm_df1['의안명'].apply(lambda x: split_name(x))"
   ]
  },
  {
   "cell_type": "code",
   "execution_count": 109,
   "metadata": {},
   "outputs": [
    {
     "name": "stderr",
     "output_type": "stream",
     "text": [
      "<ipython-input-109-b7cc7a351d1f>:1: SettingWithCopyWarning: \n",
      "A value is trying to be set on a copy of a slice from a DataFrame.\n",
      "Try using .loc[row_indexer,col_indexer] = value instead\n",
      "\n",
      "See the caveats in the documentation: https://pandas.pydata.org/pandas-docs/stable/user_guide/indexing.html#returning-a-view-versus-a-copy\n",
      "  comm_df1['의안명+제안이유'] = (comm_df1['의안명 전처리'] + ' ' + comm_df1['제안이유']).str.strip()\n"
     ]
    }
   ],
   "source": [
    "comm_df1['의안명+제안이유'] = (comm_df1['의안명 전처리'] + ' ' + comm_df1['제안이유']).str.strip()"
   ]
  },
  {
   "cell_type": "code",
   "execution_count": 159,
   "metadata": {},
   "outputs": [
    {
     "name": "stdout",
     "output_type": "stream",
     "text": [
      "0 법제사법위원회\n",
      "1 행정안전위원회\n",
      "2 정보위원회\n",
      "3 여성가족위원회\n",
      "4 문화체육관광위원회\n",
      "5 국회운영위원회\n",
      "6 과학기술정보방송통신위원회\n",
      "7 정무위원회\n",
      "8 기획재정위원회\n",
      "9 국토교통위원회\n",
      "10 환경노동위원회\n",
      "11 기타\n",
      "12 국방위원회\n",
      "13 외교통일위원회\n",
      "14 농림축산식품해양수산위원회\n",
      "15 산업통상자원중소벤처기업위원회\n",
      "16 교육위원회\n",
      "17 보건복지위원회\n",
      "18 교육문화체육관광위원회\n",
      "19 안전행정위원회\n",
      "20 산업통상자원위원회\n",
      "21 미래창조과학방송통신위원회\n"
     ]
    }
   ],
   "source": [
    "comm_anal1 = comm_df1[['소관위원회','의결결과','법률반영여부','의결처리기간','의안명+제안이유']]\n",
    "\n",
    "for index, com in enumerate(basic_comm): \n",
    "    print(index, com)"
   ]
  },
  {
   "cell_type": "markdown",
   "metadata": {},
   "source": [
    "#### [0] 법제사법위원회"
   ]
  },
  {
   "cell_type": "code",
   "execution_count": 133,
   "metadata": {},
   "outputs": [],
   "source": [
    "com1 = comm_anal1[comm_anal1['소관위원회'] == basic_comm[0]].reset_index()"
   ]
  },
  {
   "cell_type": "code",
   "execution_count": 150,
   "metadata": {},
   "outputs": [],
   "source": [
    "def preprocessing(text):\n",
    "    # 특수문자 제거\n",
    "    text = re.sub('[?.,;:|\\)(*~`’!^\\-_+<>@\\#$%&-=#}※]', '', text)\n",
    "    # 한글, 영문만 남기고 모두 제거하도록 합니다.\n",
    "    text = re.sub('[^가-힣ㄱ-ㅎㅏ-ㅣa-zA-Z]', ' ', text)\n",
    "    return text\n",
    "\n",
    "com1['의안명+제안이유'] = com1['의안명+제안이유'].apply(lambda x: preprocessing(x))"
   ]
  },
  {
   "cell_type": "code",
   "execution_count": null,
   "metadata": {},
   "outputs": [],
   "source": []
  }
 ],
 "metadata": {
  "kernelspec": {
   "display_name": "Python 3",
   "language": "python",
   "name": "python3"
  },
  "language_info": {
   "codemirror_mode": {
    "name": "ipython",
    "version": 3
   },
   "file_extension": ".py",
   "mimetype": "text/x-python",
   "name": "python",
   "nbconvert_exporter": "python",
   "pygments_lexer": "ipython3",
   "version": "3.8.5"
  }
 },
 "nbformat": 4,
 "nbformat_minor": 4
}
