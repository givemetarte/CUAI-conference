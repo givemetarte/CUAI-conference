{
 "cells": [
  {
   "cell_type": "markdown",
   "metadata": {},
   "source": [
    "# 청와대 청원 크롤링 코드 \n",
    "\n",
    "## 작성자: 박하람\n",
    "## 작성일자: 2020년 8월 10일 \n",
    "\n",
    "분야별 청원 전체 카테고리 선택 후, 추천 순 정렬하여 모든 청원 가져오기"
   ]
  },
  {
   "cell_type": "code",
   "execution_count": 47,
   "metadata": {},
   "outputs": [],
   "source": [
    "import sys\n",
    "sys.path.append(\"/usr/local/lib/python3.8/site-packages\")"
   ]
  },
  {
   "cell_type": "code",
   "execution_count": 245,
   "metadata": {},
   "outputs": [],
   "source": [
    "from selenium import webdriver \n",
    "from selenium.webdriver.support.ui import Select\n",
    "from selenium.webdriver.common.by import By\n",
    "from selenium.webdriver.support.ui import WebDriverWait\n",
    "from selenium.webdriver.support import expected_conditions as EC\n",
    "from selenium.webdriver.common.keys import Keys\n",
    "from urllib.request import urlopen\n",
    "from bs4 import BeautifulSoup\n",
    "import pandas as pd\n",
    "import time"
   ]
  },
  {
   "cell_type": "code",
   "execution_count": 393,
   "metadata": {},
   "outputs": [],
   "source": [
    "driver = webdriver.Chrome('/Users/harampark/Documents/chromedriver')\n",
    "driver.get('https://www1.president.go.kr/petitions')"
   ]
  },
  {
   "cell_type": "code",
   "execution_count": 394,
   "metadata": {},
   "outputs": [],
   "source": [
    "# 만료된 청원 클릭 \n",
    "expired_petition = driver.find_element_by_class_name('category_tab2')\n",
    "expired_petition.send_keys(Keys.ENTER)"
   ]
  },
  {
   "cell_type": "code",
   "execution_count": 395,
   "metadata": {},
   "outputs": [],
   "source": [
    "# 추천순보기 클릭 \n",
    "latest_views = driver.find_element_by_id(\"order\")\n",
    "latest_views.send_keys('추천순 보기')"
   ]
  },
  {
   "cell_type": "code",
   "execution_count": 396,
   "metadata": {},
   "outputs": [],
   "source": [
    "def get_petition_list(): \n",
    "    \n",
    "    category = []\n",
    "    titles = []\n",
    "    address = []\n",
    "    end_date = []\n",
    "    consent_num = []\n",
    "    \n",
    "    res = driver.page_source \n",
    "    soup = BeautifulSoup(res, \"html.parser\")\n",
    "    \n",
    "    contents = soup.find_all('ul', class_='petition_list')\n",
    "    \n",
    "    for i in range(7):\n",
    "        list = contents[0].find_all('div', class_='bl_wrap')[i]\n",
    "    \n",
    "        # 청원 카테고리\n",
    "        category.append(list.find('div', class_='bl_category').get_text().split()[1]) \n",
    "        # 청원 제목 \n",
    "        titles.append(list.find('div', class_='bl_subject').get_text().split('제목 ')[1])\n",
    "        # 청원 주소 \n",
    "        add_url = list.find('a')['href']\n",
    "        address.append('https://www1.president.go.kr'+add_url)\n",
    "        # 청원 만료일 \n",
    "        end_date.append(list.find('div', class_='bl_date').get_text().split()[2])\n",
    "        # 청원 동의 수 \n",
    "        consent_num.append(list.find('div', class_='bl_agree').get_text().split()[1].split('명')[0])\n",
    "    \n",
    "    return category, titles, address, end_date, consent_num \n",
    "    "
   ]
  },
  {
   "cell_type": "code",
   "execution_count": 397,
   "metadata": {},
   "outputs": [],
   "source": [
    "def get_petitions(start, end): \n",
    "    \n",
    "    category = []\n",
    "    titles = []\n",
    "    address = []\n",
    "    end_date = []\n",
    "    consent_num = []\n",
    "    \n",
    "    for page_num in range(start, int(end/10)+1): \n",
    "        for n in range(1,11): \n",
    "            # 1 page 가져와서 넣어주기 \n",
    "            page_info = get_petition_list()\n",
    "            category.append(page_info[0])\n",
    "            titles.append(page_info[1])\n",
    "            address.append(page_info[2])\n",
    "            end_date.append(page_info[3])\n",
    "            consent_num.append(page_info[4])\n",
    "            print(n,'페이지 완료')\n",
    "\n",
    "            # 페이지 바꿔주기 \n",
    "            if n != 10:    \n",
    "                p_btn = driver.find_elements_by_class_name('p_btn')\n",
    "                if start != 1: \n",
    "                    p_btn_num = p_btn[1].find_elements_by_tag_name('a')\n",
    "                    time.sleep(1)\n",
    "                else:\n",
    "                    p_btn_num = p_btn[0].find_elements_by_tag_name('a')\n",
    "                    time.sleep(2)\n",
    "\n",
    "                # 페이지 버튼 클릭 \n",
    "                if n%2 != 0:\n",
    "                    p_btn_num[n].click()\n",
    "                    time.sleep(1)\n",
    "                else:\n",
    "                    p_btn_num[n].click()\n",
    "                    time.sleep(2)\n",
    "                time.sleep(0.5)\n",
    "            else: \n",
    "                p_btn_next = driver.find_elements_by_class_name('p_btn.next')\n",
    "                p_btn_next[0].click()\n",
    "                print(start*10,'pages 완료 -> Next')\n",
    "       \n",
    "        \n",
    "    return category, titles, address, end_date, consent_num\n",
    " \n",
    "   "
   ]
  },
  {
   "cell_type": "code",
   "execution_count": 398,
   "metadata": {},
   "outputs": [],
   "source": [
    "def get_petition_df(start, end): \n",
    "    petitions_raw = get_petitions(start, end)\n",
    "    \n",
    "    for n in range(len(list[0])): \n",
    "        cate += list[0][n]\n",
    "        tit += list[1][n]\n",
    "        add += list[2][n]\n",
    "        end += list[3][n]\n",
    "        con += list[4][n]\n",
    "    \n",
    "    petition_dict = {'카테고리':cate, '제목':tit, '청원종료일': end,\n",
    "       '참여인원': con,'URL': add}\n",
    "    df = pd.DataFrame(petition_dict)\n",
    "    \n",
    "    return df"
   ]
  },
  {
   "cell_type": "code",
   "execution_count": 399,
   "metadata": {},
   "outputs": [
    {
     "name": "stdout",
     "output_type": "stream",
     "text": [
      "1 페이지 완료\n",
      "2 페이지 완료\n",
      "3 페이지 완료\n",
      "4 페이지 완료\n",
      "5 페이지 완료\n",
      "6 페이지 완료\n",
      "7 페이지 완료\n",
      "8 페이지 완료\n",
      "9 페이지 완료\n",
      "10 페이지 완료\n",
      "10 pages 완료 -> Next\n"
     ]
    },
    {
     "ename": "IndexError",
     "evalue": "list index out of range",
     "output_type": "error",
     "traceback": [
      "\u001b[0;31m---------------------------------------------------------------------------\u001b[0m",
      "\u001b[0;31mIndexError\u001b[0m                                Traceback (most recent call last)",
      "\u001b[0;32m<ipython-input-399-ebe380ac364f>\u001b[0m in \u001b[0;36m<module>\u001b[0;34m\u001b[0m\n\u001b[0;32m----> 1\u001b[0;31m \u001b[0mpetition_df\u001b[0m \u001b[0;34m=\u001b[0m \u001b[0mget_petition_df\u001b[0m\u001b[0;34m(\u001b[0m\u001b[0;36m1\u001b[0m\u001b[0;34m,\u001b[0m\u001b[0;36m20\u001b[0m\u001b[0;34m)\u001b[0m\u001b[0;34m\u001b[0m\u001b[0;34m\u001b[0m\u001b[0m\n\u001b[0m\u001b[1;32m      2\u001b[0m \u001b[0mpetition_df\u001b[0m\u001b[0;34m\u001b[0m\u001b[0;34m\u001b[0m\u001b[0m\n",
      "\u001b[0;32m<ipython-input-398-7b463747367a>\u001b[0m in \u001b[0;36mget_petition_df\u001b[0;34m(start, end)\u001b[0m\n\u001b[1;32m      1\u001b[0m \u001b[0;32mdef\u001b[0m \u001b[0mget_petition_df\u001b[0m\u001b[0;34m(\u001b[0m\u001b[0mstart\u001b[0m\u001b[0;34m,\u001b[0m \u001b[0mend\u001b[0m\u001b[0;34m)\u001b[0m\u001b[0;34m:\u001b[0m\u001b[0;34m\u001b[0m\u001b[0;34m\u001b[0m\u001b[0m\n\u001b[0;32m----> 2\u001b[0;31m     \u001b[0mpetitions_raw\u001b[0m \u001b[0;34m=\u001b[0m \u001b[0mget_petitions\u001b[0m\u001b[0;34m(\u001b[0m\u001b[0mstart\u001b[0m\u001b[0;34m,\u001b[0m \u001b[0mend\u001b[0m\u001b[0;34m)\u001b[0m\u001b[0;34m\u001b[0m\u001b[0;34m\u001b[0m\u001b[0m\n\u001b[0m\u001b[1;32m      3\u001b[0m \u001b[0;34m\u001b[0m\u001b[0m\n\u001b[1;32m      4\u001b[0m     \u001b[0;32mfor\u001b[0m \u001b[0mn\u001b[0m \u001b[0;32min\u001b[0m \u001b[0mrange\u001b[0m\u001b[0;34m(\u001b[0m\u001b[0mlen\u001b[0m\u001b[0;34m(\u001b[0m\u001b[0mlist\u001b[0m\u001b[0;34m[\u001b[0m\u001b[0;36m0\u001b[0m\u001b[0;34m]\u001b[0m\u001b[0;34m)\u001b[0m\u001b[0;34m)\u001b[0m\u001b[0;34m:\u001b[0m\u001b[0;34m\u001b[0m\u001b[0;34m\u001b[0m\u001b[0m\n\u001b[1;32m      5\u001b[0m         \u001b[0mcate\u001b[0m \u001b[0;34m+=\u001b[0m \u001b[0mlist\u001b[0m\u001b[0;34m[\u001b[0m\u001b[0;36m0\u001b[0m\u001b[0;34m]\u001b[0m\u001b[0;34m[\u001b[0m\u001b[0mn\u001b[0m\u001b[0;34m]\u001b[0m\u001b[0;34m\u001b[0m\u001b[0;34m\u001b[0m\u001b[0m\n",
      "\u001b[0;32m<ipython-input-397-188693638f5a>\u001b[0m in \u001b[0;36mget_petitions\u001b[0;34m(start, end)\u001b[0m\n\u001b[1;32m     10\u001b[0m         \u001b[0;32mfor\u001b[0m \u001b[0mn\u001b[0m \u001b[0;32min\u001b[0m \u001b[0mrange\u001b[0m\u001b[0;34m(\u001b[0m\u001b[0;36m1\u001b[0m\u001b[0;34m,\u001b[0m\u001b[0;36m11\u001b[0m\u001b[0;34m)\u001b[0m\u001b[0;34m:\u001b[0m\u001b[0;34m\u001b[0m\u001b[0;34m\u001b[0m\u001b[0m\n\u001b[1;32m     11\u001b[0m             \u001b[0;31m# 1 page 가져와서 넣어주기\u001b[0m\u001b[0;34m\u001b[0m\u001b[0;34m\u001b[0m\u001b[0;34m\u001b[0m\u001b[0m\n\u001b[0;32m---> 12\u001b[0;31m             \u001b[0mpage_info\u001b[0m \u001b[0;34m=\u001b[0m \u001b[0mget_petition_list\u001b[0m\u001b[0;34m(\u001b[0m\u001b[0;34m)\u001b[0m\u001b[0;34m\u001b[0m\u001b[0;34m\u001b[0m\u001b[0m\n\u001b[0m\u001b[1;32m     13\u001b[0m             \u001b[0mcategory\u001b[0m\u001b[0;34m.\u001b[0m\u001b[0mappend\u001b[0m\u001b[0;34m(\u001b[0m\u001b[0mpage_info\u001b[0m\u001b[0;34m[\u001b[0m\u001b[0;36m0\u001b[0m\u001b[0;34m]\u001b[0m\u001b[0;34m)\u001b[0m\u001b[0;34m\u001b[0m\u001b[0;34m\u001b[0m\u001b[0m\n\u001b[1;32m     14\u001b[0m             \u001b[0mtitles\u001b[0m\u001b[0;34m.\u001b[0m\u001b[0mappend\u001b[0m\u001b[0;34m(\u001b[0m\u001b[0mpage_info\u001b[0m\u001b[0;34m[\u001b[0m\u001b[0;36m1\u001b[0m\u001b[0;34m]\u001b[0m\u001b[0;34m)\u001b[0m\u001b[0;34m\u001b[0m\u001b[0;34m\u001b[0m\u001b[0m\n",
      "\u001b[0;32m<ipython-input-396-d71f5a7c1a7d>\u001b[0m in \u001b[0;36mget_petition_list\u001b[0;34m()\u001b[0m\n\u001b[1;32m     13\u001b[0m \u001b[0;34m\u001b[0m\u001b[0m\n\u001b[1;32m     14\u001b[0m     \u001b[0;32mfor\u001b[0m \u001b[0mi\u001b[0m \u001b[0;32min\u001b[0m \u001b[0mrange\u001b[0m\u001b[0;34m(\u001b[0m\u001b[0;36m7\u001b[0m\u001b[0;34m)\u001b[0m\u001b[0;34m:\u001b[0m\u001b[0;34m\u001b[0m\u001b[0;34m\u001b[0m\u001b[0m\n\u001b[0;32m---> 15\u001b[0;31m         \u001b[0mlist\u001b[0m \u001b[0;34m=\u001b[0m \u001b[0mcontents\u001b[0m\u001b[0;34m[\u001b[0m\u001b[0;36m0\u001b[0m\u001b[0;34m]\u001b[0m\u001b[0;34m.\u001b[0m\u001b[0mfind_all\u001b[0m\u001b[0;34m(\u001b[0m\u001b[0;34m'div'\u001b[0m\u001b[0;34m,\u001b[0m \u001b[0mclass_\u001b[0m\u001b[0;34m=\u001b[0m\u001b[0;34m'bl_wrap'\u001b[0m\u001b[0;34m)\u001b[0m\u001b[0;34m[\u001b[0m\u001b[0mi\u001b[0m\u001b[0;34m]\u001b[0m\u001b[0;34m\u001b[0m\u001b[0;34m\u001b[0m\u001b[0m\n\u001b[0m\u001b[1;32m     16\u001b[0m \u001b[0;34m\u001b[0m\u001b[0m\n\u001b[1;32m     17\u001b[0m         \u001b[0;31m# 청원 카테고리\u001b[0m\u001b[0;34m\u001b[0m\u001b[0;34m\u001b[0m\u001b[0;34m\u001b[0m\u001b[0m\n",
      "\u001b[0;31mIndexError\u001b[0m: list index out of range"
     ]
    }
   ],
   "source": [
    "petition_df = get_petition_df(1,20)\n",
    "petition_df"
   ]
  },
  {
   "cell_type": "code",
   "execution_count": null,
   "metadata": {},
   "outputs": [],
   "source": []
  },
  {
   "cell_type": "code",
   "execution_count": null,
   "metadata": {},
   "outputs": [],
   "source": []
  },
  {
   "cell_type": "code",
   "execution_count": null,
   "metadata": {},
   "outputs": [],
   "source": []
  },
  {
   "cell_type": "code",
   "execution_count": null,
   "metadata": {},
   "outputs": [],
   "source": []
  },
  {
   "cell_type": "code",
   "execution_count": 392,
   "metadata": {},
   "outputs": [],
   "source": [
    "driver.close()"
   ]
  },
  {
   "cell_type": "code",
   "execution_count": null,
   "metadata": {},
   "outputs": [],
   "source": []
  }
 ],
 "metadata": {
  "kernelspec": {
   "display_name": "Python 3",
   "language": "python",
   "name": "python3"
  },
  "language_info": {
   "codemirror_mode": {
    "name": "ipython",
    "version": 3
   },
   "file_extension": ".py",
   "mimetype": "text/x-python",
   "name": "python",
   "nbconvert_exporter": "python",
   "pygments_lexer": "ipython3",
   "version": "3.8.5"
  }
 },
 "nbformat": 4,
 "nbformat_minor": 4
}
