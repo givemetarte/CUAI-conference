{
 "cells": [
  {
   "cell_type": "markdown",
   "metadata": {},
   "source": [
    "### 1. 모듈"
   ]
  },
  {
   "cell_type": "code",
   "execution_count": 8,
   "metadata": {},
   "outputs": [],
   "source": [
    "from selenium import webdriver\n",
    "from selenium.webdriver.common.keys import Keys\n",
    "from bs4 import BeautifulSoup\n",
    "from tqdm import tqdm_notebook\n",
    "import time\n",
    "import pandas as pd\n",
    "import re"
   ]
  },
  {
   "cell_type": "markdown",
   "metadata": {},
   "source": [
    "### 2. url 접속"
   ]
  },
  {
   "cell_type": "code",
   "execution_count": 9,
   "metadata": {},
   "outputs": [],
   "source": [
    "driver = webdriver.Chrome('C:/Users/NK/Desktop/programming/python/chromedriver.exe')\n",
    "url = 'http://likms.assembly.go.kr/bill/main.do'\n",
    "driver.get(url)"
   ]
  },
  {
   "cell_type": "code",
   "execution_count": 10,
   "metadata": {},
   "outputs": [],
   "source": [
    "search = driver.find_element_by_css_selector('li.gnbL2')\n",
    "search.click()\n",
    "time.sleep(2)\n",
    "\n",
    "driver.find_element_by_css_selector('#AGE_AREA > select:nth-child(2) > option:nth-child(2)').click()\n",
    "\n",
    "search = driver.find_element_by_css_selector('div.mt20.alignC > button.btnd')\n",
    "search .click()\n",
    "time.sleep(2)\n",
    "\n",
    "more_bill = driver.find_element_by_css_selector('#pageSizeOption > option:nth-child(4)').click()"
   ]
  },
  {
   "cell_type": "markdown",
   "metadata": {},
   "source": [
    "### 3. 크롤링"
   ]
  },
  {
   "cell_type": "code",
   "execution_count": 11,
   "metadata": {},
   "outputs": [],
   "source": [
    "num_list = []\n",
    "proposer_list = []"
   ]
  },
  {
   "cell_type": "code",
   "execution_count": 12,
   "metadata": {},
   "outputs": [],
   "source": [
    "n_times = 0\n",
    "\n",
    "## 원하는 시작페이지\n",
    "n_iter = 0\n",
    "\n",
    "driver.find_element_by_css_selector('#pageListViewArea > a:nth-child(11)').click()\n",
    "while n_times <= n_iter - 2:\n",
    "    driver.find_element_by_css_selector('#pageListViewArea > a:nth-child(13)').click()\n",
    "    n_times +=1"
   ]
  },
  {
   "cell_type": "code",
   "execution_count": null,
   "metadata": {},
   "outputs": [
    {
     "name": "stderr",
     "output_type": "stream",
     "text": [
      "C:\\Users\\NK\\Anaconda3\\lib\\site-packages\\ipykernel_launcher.py:10: TqdmDeprecationWarning: This function will be removed in tqdm==5.0.0\n",
      "Please use `tqdm.notebook.tqdm` instead of `tqdm.tqdm_notebook`\n",
      "  # Remove the CWD from sys.path while we load stuff.\n"
     ]
    },
    {
     "data": {
      "application/vnd.jupyter.widget-view+json": {
       "model_id": "90e821f2e55640219a028116ffd51580",
       "version_major": 2,
       "version_minor": 0
      },
      "text/plain": [
       "HBox(children=(FloatProgress(value=0.0, max=10.0), HTML(value='')))"
      ]
     },
     "metadata": {},
     "output_type": "display_data"
    },
    {
     "name": "stderr",
     "output_type": "stream",
     "text": [
      "C:\\Users\\NK\\Anaconda3\\lib\\site-packages\\ipykernel_launcher.py:31: DeprecationWarning: use driver.switch_to.window instead\n",
      "C:\\Users\\NK\\Anaconda3\\lib\\site-packages\\ipykernel_launcher.py:48: DeprecationWarning: use driver.switch_to.window instead\n"
     ]
    }
   ],
   "source": [
    "if n_iter == 0:\n",
    "    start = 1; end = 11\n",
    "else:\n",
    "    start = 3; end = 13\n",
    "    \n",
    "## 10페이지가 끝나면 다음 10페이지를 불러옵니다.\n",
    "while n_iter <= 2:\n",
    "\n",
    "    ## start번째 페이지에 접속합니다.\n",
    "    for k in tqdm_notebook(range(start,end)):\n",
    "        driver.find_element_by_css_selector(f'#pageListViewArea > a:nth-child({k})').click()\n",
    "        ## start번째 페이지의 i번째 의안에 접근합니다.\n",
    "        for i in range(1,101):\n",
    "            ## i 번쨰 의안에 접근합니다.\n",
    "            bill = driver.find_element_by_css_selector(f'body > div > div.contentWrap > div.subContents > div > div.tableCol01 > table > tbody > tr:nth-child({i})')\n",
    "\n",
    "            num = bill.find_element_by_css_selector('td:nth-child(1)').text\n",
    "            num_list.append(num)\n",
    "\n",
    "            ## start번째 페이지의 i번째 의안에 접속합니다.\n",
    "            bill = driver.find_element_by_css_selector(f'body > div > div.contentWrap > div.subContents > div > div.tableCol01 > table > tbody > tr:nth-child({i}) > td.alignL > div.pl25 > a')\n",
    "            bill.click()\n",
    "\n",
    "            ## 제안자를 담습니다.\n",
    "            member_list = []    \n",
    "            try:\n",
    "                proposer = driver.find_element_by_css_selector('body > div > div.contentWrap > div.subContents > div > div.contIn > div.tableCol01 > table > tbody > tr > td:nth-child(3) > a > img')\n",
    "                proposer.click()\n",
    "\n",
    "                # 새로운 창으로 초점을 바꿉니다.\n",
    "                driver.switch_to_window(driver.window_handles[1])\n",
    "                driver.get_window_position(driver.window_handles[1])\n",
    "\n",
    "                member_num = len(driver.find_elements_by_tag_name('a'))\n",
    "                member_end = (member_num//3) + member_num + 2\n",
    "\n",
    "                for j in range(2, member_end):\n",
    "                    try:\n",
    "                        member = driver.find_element_by_css_selector(f'#periodDiv > div.layerInScroll.coaTxtScroll > div > a:nth-child({j})').text\n",
    "                        member_list.append(member)\n",
    "                    except:\n",
    "                        continue\n",
    "                        \n",
    "                driver.close()\n",
    "                proposer_list.append(member_list)\n",
    "\n",
    "                # 원래 창으로 초점을 바꿉니다.\n",
    "                driver.switch_to_window(driver.window_handles[0])\n",
    "                driver.get_window_position(driver.window_handles[0])\n",
    "\n",
    "            except:\n",
    "                proposer_list.append([])\n",
    "    \n",
    "            driver.back()\n",
    "            driver.execute_script(\"window.scrollTo(0, window.scrollY + 50)\")\n",
    "\n",
    "    driver.find_element_by_css_selector(f'#pageListViewArea > a:nth-child({10+start})').click()\n",
    "    if n_iter == 0:\n",
    "        start = 1; end = 11\n",
    "    else:\n",
    "        start = 3; end = 13\n",
    "    n_iter += 1"
   ]
  },
  {
   "cell_type": "markdown",
   "metadata": {},
   "source": [
    "### 4. 데이터프레임"
   ]
  },
  {
   "cell_type": "code",
   "execution_count": null,
   "metadata": {
    "scrolled": true
   },
   "outputs": [],
   "source": [
    "result = [num_list, proposer_list]\n",
    "result_df = pd.DataFrame(result).T\n",
    "result_df.columns = ['의안번호', '제안자']\n",
    "result_df"
   ]
  },
  {
   "cell_type": "code",
   "execution_count": null,
   "metadata": {},
   "outputs": [],
   "source": [
    "result3.to_csv('20대 국회 의안정보(5).csv', encoding='utf-8-sig', index=False)"
   ]
  },
  {
   "cell_type": "code",
   "execution_count": null,
   "metadata": {},
   "outputs": [],
   "source": []
  }
 ],
 "metadata": {
  "kernelspec": {
   "display_name": "Python 3",
   "language": "python",
   "name": "python3"
  },
  "language_info": {
   "codemirror_mode": {
    "name": "ipython",
    "version": 3
   },
   "file_extension": ".py",
   "mimetype": "text/x-python",
   "name": "python",
   "nbconvert_exporter": "python",
   "pygments_lexer": "ipython3",
   "version": "3.7.3"
  }
 },
 "nbformat": 4,
 "nbformat_minor": 4
}
