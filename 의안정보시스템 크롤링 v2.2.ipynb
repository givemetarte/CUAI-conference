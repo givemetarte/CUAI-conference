{
 "cells": [
  {
   "cell_type": "markdown",
   "metadata": {},
   "source": [
    "### 1. 모듈"
   ]
  },
  {
   "cell_type": "code",
   "execution_count": null,
   "metadata": {},
   "outputs": [],
   "source": [
    "from selenium import webdriver\n",
    "from selenium.webdriver.common.keys import Keys\n",
    "from bs4 import BeautifulSoup\n",
    "from tqdm import tqdm_notebook\n",
    "import time\n",
    "import pandas as pd\n",
    "import re"
   ]
  },
  {
   "cell_type": "markdown",
   "metadata": {},
   "source": [
    "### 2. url 접속"
   ]
  },
  {
   "cell_type": "code",
   "execution_count": null,
   "metadata": {},
   "outputs": [],
   "source": [
    "driver = webdriver.Chrome('C:/Users/NK/Desktop/programming/python/chromedriver.exe')\n",
    "url = 'http://likms.assembly.go.kr/bill/main.do'\n",
    "driver.get(url)"
   ]
  },
  {
   "cell_type": "code",
   "execution_count": null,
   "metadata": {},
   "outputs": [],
   "source": [
    "search = driver.find_element_by_css_selector('li.gnbL2')\n",
    "search.click()\n",
    "time.sleep(2)\n",
    "\n",
    "driver.find_element_by_css_selector('#AGE_AREA > select:nth-child(2) > option:nth-child(2)').click()\n",
    "driver.find_element_by_css_selector('#AGE_AREA > select:nth-child(3) > option:nth-child(2)').click()\n",
    "\n",
    "search = driver.find_element_by_css_selector('div.mt20.alignC > button.btnd')\n",
    "search .click()\n",
    "time.sleep(2)\n",
    "\n",
    "more_bill = driver.find_element_by_css_selector('#pageSizeOption > option:nth-child(4)').click()"
   ]
  },
  {
   "cell_type": "markdown",
   "metadata": {},
   "source": [
    "### 3. 크롤링"
   ]
  },
  {
   "cell_type": "code",
   "execution_count": null,
   "metadata": {},
   "outputs": [],
   "source": [
    "num_list = []\n",
    "handled_list = []\n",
    "title_list = []\n",
    "proposer_type_list = []\n",
    "propose_date_list = []\n",
    "resolution_date_list = []\n",
    "resolution_result_list = []\n",
    "progress_list = []\n",
    "\n",
    "proposer_list = []\n",
    "paper_list = []\n",
    "session_list = []\n",
    "reason_list = []\n",
    "board_list = []"
   ]
  },
  {
   "cell_type": "code",
   "execution_count": null,
   "metadata": {},
   "outputs": [],
   "source": [
    "n_times = 0\n",
    "\n",
    "## 원하는 시작페이지\n",
    "n_iter = 10\n",
    "\n",
    "driver.find_element_by_css_selector('#pageListViewArea > a:nth-child(11)').click()\n",
    "while n_times <= n_iter - 2:\n",
    "    driver.find_element_by_css_selector('#pageListViewArea > a:nth-child(13)').click()\n",
    "    n_times +=1"
   ]
  },
  {
   "cell_type": "code",
   "execution_count": null,
   "metadata": {},
   "outputs": [],
   "source": [
    "if n_iter == 0:\n",
    "    start = 1; end = 11\n",
    "else:\n",
    "    start = 3; end = 13\n",
    "    \n",
    "## 10페이지가 끝나면 다음 10페이지를 불러옵니다.\n",
    "while n_iter <= 300:\n",
    "\n",
    "    ## start번째 페이지에 접속합니다.\n",
    "    for k in tqdm_notebook(range(start,end)):\n",
    "        driver.find_element_by_css_selector(f'#pageListViewArea > a:nth-child({k})').click()\n",
    "        ## start번째 페이지의 i번째 의안에 접근합니다.\n",
    "        for i in range(1,101):\n",
    "            ## i 번쨰 의안에 접근합니다.\n",
    "            bill = driver.find_element_by_css_selector(f'body > div > div.contentWrap > div.subContents > div > div.tableCol01 > table > tbody > tr:nth-child({i})')\n",
    "\n",
    "            num = bill.find_element_by_css_selector('td:nth-child(1)').text\n",
    "            title = bill.find_element_by_css_selector('td.alignL').text\n",
    "            proposer_type = bill.find_element_by_css_selector('td:nth-child(3)').text\n",
    "            propose_date = bill.find_element_by_css_selector('td:nth-child(4)').text\n",
    "            resolution_date = bill.find_element_by_css_selector('td:nth-child(5)').text\n",
    "            resolution_result = bill.find_element_by_css_selector('td:nth-child(6)').text\n",
    "            progress = bill.find_element_by_css_selector('td:nth-child(8)').text\n",
    "\n",
    "            num_list.append(num)\n",
    "            if resolution_date == '':\n",
    "                handled_list.append('계')\n",
    "            else:\n",
    "                handled_list.append('처')\n",
    "            title_list.append(title)\n",
    "            proposer_type_list.append(proposer_type)\n",
    "            propose_date_list.append(propose_date)\n",
    "            resolution_date_list.append(resolution_date)\n",
    "            resolution_result_list.append(resolution_result)\n",
    "            progress_list.append(progress)\n",
    "\n",
    "\n",
    "            ## start번째 페이지의 i번째 의안에 접속합니다.\n",
    "            bill = driver.find_element_by_css_selector(f'body > div > div.contentWrap > div.subContents > div > div.tableCol01 > table > tbody > tr:nth-child({i}) > td.alignL > div.pl25 > a')\n",
    "            bill.click()\n",
    "\n",
    "            paper = driver.find_element_by_css_selector('body > div > div.contentWrap > div.subContents > div > div.contIn > div.tableCol01 > table > tbody > tr > td:nth-child(4)').text\n",
    "            session = driver.find_element_by_css_selector('body > div > div.contentWrap > div.subContents > div > div.contIn > div.tableCol01 > table > tbody > tr > td:nth-child(5)').text     \n",
    "\n",
    "            paper_list.append(paper)\n",
    "            session_list.append(session)\n",
    "            \n",
    "            ## 제안이유를 담습니다.\n",
    "            try:\n",
    "                # 더 보기를 클릭합니다.\n",
    "                more_info = driver.find_element_by_css_selector('#summaryContentMoreBtn').click()\n",
    "                reason_raw_text = driver.find_element_by_css_selector('div.contIn > div.textType02').text\n",
    "                \n",
    "                content = []\n",
    "                reason_split = re.split('\\r|\\t|\\n|\\xa0', reason_raw_text)\n",
    "                content.append(''.join(reason_split))\n",
    "                reason_list.append(content)            \n",
    "                \n",
    "            except:\n",
    "                reason_list.append([]) \n",
    "\n",
    "            ## 소관위원회를 담습니다.\n",
    "            try:\n",
    "                board = driver.find_element_by_css_selector('body > div > div.contentWrap > div.subContents > div > div:nth-child(5) > div > table > tbody > tr > td:nth-child(1)').text\n",
    "                board_list.append(board)\n",
    "            except:\n",
    "                board_list.append([])\n",
    "            \n",
    "            ## 제안자를 담습니다.\n",
    "            member_list = []    \n",
    "            try:\n",
    "                proposer = driver.find_element_by_css_selector('body > div > div.contentWrap > div.subContents > div > div.contIn > div.tableCol01 > table > tbody > tr > td:nth-child(3) > a > img')\n",
    "                proposer.click()\n",
    "\n",
    "                # 새로운 창으로 초점을 바꿉니다.\n",
    "                driver.switch_to_window(driver.window_handles[1])\n",
    "                driver.get_window_position(driver.window_handles[1])\n",
    "\n",
    "                member_num = len(driver.find_elements_by_tag_name('a'))\n",
    "                member_end = (member_num//3) + member_num + 2\n",
    "\n",
    "                for j in range(2, member_end):\n",
    "                    try:\n",
    "                        member = driver.find_element_by_css_selector(f'#periodDiv > div.layerInScroll.coaTxtScroll > div > a:nth-child({j})').text\n",
    "                        member_list.append(member)\n",
    "                    except:\n",
    "                        continue\n",
    "                        \n",
    "                driver.close()\n",
    "                proposer_list.append(member_list)\n",
    "\n",
    "                # 원래 창으로 초점을 바꿉니다.\n",
    "                driver.switch_to_window(driver.window_handles[0])\n",
    "                driver.get_window_position(driver.window_handles[0])\n",
    "\n",
    "            except:\n",
    "                proposer_list.append([])\n",
    "    \n",
    "            driver.back()\n",
    "            driver.execute_script(\"window.scrollTo(0, window.scrollY + 70)\")\n",
    "\n",
    "    driver.find_element_by_css_selector(f'#pageListViewArea > a:nth-child({10+start})').click()\n",
    "    if n_iter == 0:\n",
    "        start = 1; end = 11\n",
    "    else:\n",
    "        start = 3; end = 13\n",
    "    n_iter += 1"
   ]
  },
  {
   "cell_type": "markdown",
   "metadata": {},
   "source": [
    "### 4. 데이터프레임"
   ]
  },
  {
   "cell_type": "code",
   "execution_count": null,
   "metadata": {
    "scrolled": true
   },
   "outputs": [],
   "source": [
    "result = [num_list, handled_list, title_list, proposer_type_list, propose_date_list, resolution_date_list, resolution_result_list,\\\n",
    "          progress_list, paper_list, session_list, reason_list, board_list, proposer_list]\n",
    "result_df = pd.DataFrame(result).T\n",
    "result_df.columns = ['의안번호', '처리여부', '의안명', '제안자구분', '제안일자', '의결일자', '의결결과', \\\n",
    "                     '심사진행상태', '문서', '제안회기' , '제안이유', '소관위원회', '제안자']\n",
    "result_df"
   ]
  },
  {
   "cell_type": "code",
   "execution_count": null,
   "metadata": {},
   "outputs": [],
   "source": [
    "result3.to_csv('20대 국회 의안정보(5).csv', encoding='utf-8-sig', index=False)"
   ]
  },
  {
   "cell_type": "code",
   "execution_count": null,
   "metadata": {},
   "outputs": [],
   "source": []
  }
 ],
 "metadata": {
  "kernelspec": {
   "display_name": "Python 3",
   "language": "python",
   "name": "python3"
  },
  "language_info": {
   "codemirror_mode": {
    "name": "ipython",
    "version": 3
   },
   "file_extension": ".py",
   "mimetype": "text/x-python",
   "name": "python",
   "nbconvert_exporter": "python",
   "pygments_lexer": "ipython3",
   "version": "3.7.3"
  }
 },
 "nbformat": 4,
 "nbformat_minor": 4
}
