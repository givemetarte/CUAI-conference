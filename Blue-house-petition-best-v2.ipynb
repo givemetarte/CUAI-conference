{
 "cells": [
  {
   "cell_type": "markdown",
   "metadata": {},
   "source": [
    "# 청와대 청원 크롤링 코드 \n",
    "\n",
    "## 작성자: 박하람\n",
    "## 작성일자: 2020년 8월 10일 \n",
    "\n",
    "분야별 청원 전체 카테고리 선택 후, 추천 순 정렬하여 모든 청원 가져오기"
   ]
  },
  {
   "cell_type": "code",
   "execution_count": 2,
   "metadata": {},
   "outputs": [],
   "source": [
    "import sys\n",
    "sys.path.append(\"/usr/local/lib/python3.8/site-packages\")"
   ]
  },
  {
   "cell_type": "code",
   "execution_count": 3,
   "metadata": {},
   "outputs": [],
   "source": [
    "from urllib.request import urlopen\n",
    "import requests \n",
    "from bs4 import BeautifulSoup\n",
    "from tqdm import tqdm\n",
    "import pandas as pd\n",
    "import time\n",
    "from random import randint\n",
    "import re"
   ]
  },
  {
   "cell_type": "code",
   "execution_count": 34,
   "metadata": {},
   "outputs": [],
   "source": [
    "def get_peti_df(start, end): \n",
    "    \n",
    "    category = []\n",
    "    titles = []\n",
    "    address = []\n",
    "    end_date = []\n",
    "    consent_num = []\n",
    "    \n",
    "    for n in tqdm(range(start, end+1)): \n",
    "        print(n)\n",
    "        session = requests.Session()\n",
    "        url = f'https://www1.president.go.kr/petitions/?c=0&only=2&page={n}&order=2' \n",
    "        headers = {\"User-Agent\": 'Mozilla/5.0 (Macintosh; Intel Mac OS X 10_15_5) AppleWebKit/537.36 (KHTML, like Gecko) Chrome/84.0.4147.105 Safari/537.36',\n",
    "                  \"Accept\": \"text/html,application/xhtml+xml,application/xml;q=0.9,image/webp,*/*;q=0.8\"}\n",
    "        MAX_SLEEP_TIME = 3\n",
    "        rand_value = randint(1, MAX_SLEEP_TIME)\n",
    "        time.sleep(rand_value)\n",
    "        html = session.get(url, headers=headers).content\n",
    "        soup = BeautifulSoup(html, \"html.parser\")\n",
    "        \n",
    "        all_list = soup.find('div', class_=\"ct_list1\")\n",
    "        contents = all_list.find_all('div', class_='bl_body')\n",
    "         \n",
    "        for i in range(7):\n",
    "            peti_list = contents[0].find_all('div', class_='bl_wrap')[i]\n",
    "            \n",
    "            # 청원 카테고리\n",
    "            category.append(peti_list.find('div', class_='bl_category').get_text()) \n",
    "            # 청원 제목 \n",
    "            titles_raw = peti_list.find('div', class_='bl_subject').get_text()\n",
    "            titles_split = re.split('\\r|\\t|\\n|\\xa0|제목', titles_raw)\n",
    "            titles.append(''.join(titles_split))\n",
    "            # 청원 주소 \n",
    "            add_url = peti_list.find('a')['href']\n",
    "            address.append('https://www1.president.go.kr'+add_url)\n",
    "            # 청원 만료일 \n",
    "            end_date.append(peti_list.find('div', class_='bl_date').get_text())\n",
    "            # 청원 동의 수 \n",
    "            consent_num_raw = peti_list.find('div', class_='bl_agree').get_text()\n",
    "            consent_split = re.split('\\r|\\t|\\n|\\xa0', consent_num_raw)\n",
    "            consent_num.append(''.join(consent_split).split()[1][:-1])\n",
    "        \n",
    "    petition_dict = {'카테고리':category, '제목':titles, '청원종료일': end_date, \n",
    "                 '참여인원': consent_num,'URL': address}\n",
    "    df = pd.DataFrame(petition_dict)\n",
    "    return df \n",
    "        "
   ]
  },
  {
   "cell_type": "code",
   "execution_count": 51,
   "metadata": {},
   "outputs": [],
   "source": [
    "from urllib.request import urlopen\n",
    "from bs4 import BeautifulSoup\n",
    "import pandas as pd\n",
    "\n",
    "url = 'https://www1.president.go.kr/petitions/?c=0&only=2&page=3&order=2' \n",
    "html = urlopen(url)\n",
    "soup = BeautifulSoup(html, \"html.parser\")\n",
    "        \n",
    "contents = all_list.find_all('div', class_='bl_body')"
   ]
  },
  {
   "cell_type": "code",
   "execution_count": 52,
   "metadata": {},
   "outputs": [
    {
     "data": {
      "text/plain": [
       "[<div class=\"bl_body\">\n",
       " <ul class=\"petition_list\">\n",
       " </ul>\n",
       " </div>]"
      ]
     },
     "execution_count": 52,
     "metadata": {},
     "output_type": "execute_result"
    }
   ],
   "source": [
    "contents"
   ]
  },
  {
   "cell_type": "code",
   "execution_count": null,
   "metadata": {},
   "outputs": [],
   "source": [
    "#cont_view > div.cs_area > div > div > div.ct_petitions > div.ct_petitions_area.ct_txt_left > div.ct_list1 > div > div.b_list.category.b_list2 > div.bl_body"
   ]
  },
  {
   "cell_type": "code",
   "execution_count": null,
   "metadata": {},
   "outputs": [],
   "source": []
  },
  {
   "cell_type": "code",
   "execution_count": null,
   "metadata": {},
   "outputs": [],
   "source": []
  },
  {
   "cell_type": "code",
   "execution_count": null,
   "metadata": {},
   "outputs": [],
   "source": []
  },
  {
   "cell_type": "code",
   "execution_count": null,
   "metadata": {},
   "outputs": [],
   "source": []
  },
  {
   "cell_type": "code",
   "execution_count": 37,
   "metadata": {},
   "outputs": [
    {
     "name": "stderr",
     "output_type": "stream",
     "text": [
      "\r",
      "  0%|          | 0/2 [00:00<?, ?it/s]"
     ]
    },
    {
     "name": "stdout",
     "output_type": "stream",
     "text": [
      "1\n"
     ]
    },
    {
     "name": "stderr",
     "output_type": "stream",
     "text": [
      "  0%|          | 0/2 [00:01<?, ?it/s]\n"
     ]
    },
    {
     "ename": "IndexError",
     "evalue": "list index out of range",
     "output_type": "error",
     "traceback": [
      "\u001b[0;31m---------------------------------------------------------------------------\u001b[0m",
      "\u001b[0;31mIndexError\u001b[0m                                Traceback (most recent call last)",
      "\u001b[0;32m<timed exec>\u001b[0m in \u001b[0;36m<module>\u001b[0;34m\u001b[0m\n",
      "\u001b[0;32m<ipython-input-34-f3e9bad2fab3>\u001b[0m in \u001b[0;36mget_peti_df\u001b[0;34m(start, end)\u001b[0m\n\u001b[1;32m     23\u001b[0m \u001b[0;34m\u001b[0m\u001b[0m\n\u001b[1;32m     24\u001b[0m         \u001b[0;32mfor\u001b[0m \u001b[0mi\u001b[0m \u001b[0;32min\u001b[0m \u001b[0mrange\u001b[0m\u001b[0;34m(\u001b[0m\u001b[0;36m7\u001b[0m\u001b[0;34m)\u001b[0m\u001b[0;34m:\u001b[0m\u001b[0;34m\u001b[0m\u001b[0;34m\u001b[0m\u001b[0m\n\u001b[0;32m---> 25\u001b[0;31m             \u001b[0mpeti_list\u001b[0m \u001b[0;34m=\u001b[0m \u001b[0mcontents\u001b[0m\u001b[0;34m[\u001b[0m\u001b[0;36m0\u001b[0m\u001b[0;34m]\u001b[0m\u001b[0;34m.\u001b[0m\u001b[0mfind_all\u001b[0m\u001b[0;34m(\u001b[0m\u001b[0;34m'div'\u001b[0m\u001b[0;34m,\u001b[0m \u001b[0mclass_\u001b[0m\u001b[0;34m=\u001b[0m\u001b[0;34m'bl_wrap'\u001b[0m\u001b[0;34m)\u001b[0m\u001b[0;34m[\u001b[0m\u001b[0mi\u001b[0m\u001b[0;34m]\u001b[0m\u001b[0;34m\u001b[0m\u001b[0;34m\u001b[0m\u001b[0m\n\u001b[0m\u001b[1;32m     26\u001b[0m \u001b[0;34m\u001b[0m\u001b[0m\n\u001b[1;32m     27\u001b[0m             \u001b[0;31m# 청원 카테고리\u001b[0m\u001b[0;34m\u001b[0m\u001b[0;34m\u001b[0m\u001b[0;34m\u001b[0m\u001b[0m\n",
      "\u001b[0;31mIndexError\u001b[0m: list index out of range"
     ]
    }
   ],
   "source": [
    "%time peti_df = get_peti_df(1,2)"
   ]
  },
  {
   "cell_type": "code",
   "execution_count": 29,
   "metadata": {},
   "outputs": [
    {
     "name": "stderr",
     "output_type": "stream",
     "text": [
      "\r",
      "  0%|          | 0/300 [00:00<?, ?it/s]"
     ]
    },
    {
     "name": "stdout",
     "output_type": "stream",
     "text": [
      "1\n"
     ]
    },
    {
     "name": "stderr",
     "output_type": "stream",
     "text": [
      "\r",
      "  0%|          | 1/300 [00:01<06:17,  1.26s/it]"
     ]
    },
    {
     "name": "stdout",
     "output_type": "stream",
     "text": [
      "2\n"
     ]
    },
    {
     "name": "stderr",
     "output_type": "stream",
     "text": [
      "\r",
      "  1%|          | 2/300 [00:02<06:18,  1.27s/it]"
     ]
    },
    {
     "name": "stdout",
     "output_type": "stream",
     "text": [
      "3\n"
     ]
    },
    {
     "name": "stderr",
     "output_type": "stream",
     "text": [
      "  1%|          | 2/300 [00:03<09:13,  1.86s/it]\n"
     ]
    },
    {
     "ename": "KeyboardInterrupt",
     "evalue": "",
     "output_type": "error",
     "traceback": [
      "\u001b[0;31m---------------------------------------------------------------------------\u001b[0m",
      "\u001b[0;31mKeyboardInterrupt\u001b[0m                         Traceback (most recent call last)",
      "\u001b[0;32m<timed exec>\u001b[0m in \u001b[0;36m<module>\u001b[0;34m\u001b[0m\n",
      "\u001b[0;32m<ipython-input-27-ba05a0839d86>\u001b[0m in \u001b[0;36mget_peti_df\u001b[0;34m(start, end)\u001b[0m\n\u001b[1;32m     15\u001b[0m         \u001b[0mMAX_SLEEP_TIME\u001b[0m \u001b[0;34m=\u001b[0m \u001b[0;36m3\u001b[0m\u001b[0;34m\u001b[0m\u001b[0;34m\u001b[0m\u001b[0m\n\u001b[1;32m     16\u001b[0m         \u001b[0mrand_value\u001b[0m \u001b[0;34m=\u001b[0m \u001b[0mrandint\u001b[0m\u001b[0;34m(\u001b[0m\u001b[0;36m1\u001b[0m\u001b[0;34m,\u001b[0m \u001b[0mMAX_SLEEP_TIME\u001b[0m\u001b[0;34m)\u001b[0m\u001b[0;34m\u001b[0m\u001b[0;34m\u001b[0m\u001b[0m\n\u001b[0;32m---> 17\u001b[0;31m         \u001b[0mtime\u001b[0m\u001b[0;34m.\u001b[0m\u001b[0msleep\u001b[0m\u001b[0;34m(\u001b[0m\u001b[0mrand_value\u001b[0m\u001b[0;34m)\u001b[0m\u001b[0;34m\u001b[0m\u001b[0;34m\u001b[0m\u001b[0m\n\u001b[0m\u001b[1;32m     18\u001b[0m         \u001b[0mhtml\u001b[0m \u001b[0;34m=\u001b[0m \u001b[0msession\u001b[0m\u001b[0;34m.\u001b[0m\u001b[0mget\u001b[0m\u001b[0;34m(\u001b[0m\u001b[0murl\u001b[0m\u001b[0;34m,\u001b[0m \u001b[0mheaders\u001b[0m\u001b[0;34m=\u001b[0m\u001b[0mheaders\u001b[0m\u001b[0;34m)\u001b[0m\u001b[0;34m.\u001b[0m\u001b[0mcontent\u001b[0m\u001b[0;34m\u001b[0m\u001b[0;34m\u001b[0m\u001b[0m\n\u001b[1;32m     19\u001b[0m         \u001b[0msoup\u001b[0m \u001b[0;34m=\u001b[0m \u001b[0mBeautifulSoup\u001b[0m\u001b[0;34m(\u001b[0m\u001b[0mhtml\u001b[0m\u001b[0;34m,\u001b[0m \u001b[0;34m\"html.parser\"\u001b[0m\u001b[0;34m)\u001b[0m\u001b[0;34m\u001b[0m\u001b[0;34m\u001b[0m\u001b[0m\n",
      "\u001b[0;31mKeyboardInterrupt\u001b[0m: "
     ]
    }
   ],
   "source": [
    "%time peti_df = get_peti_df(1,300)"
   ]
  },
  {
   "cell_type": "code",
   "execution_count": 30,
   "metadata": {},
   "outputs": [
    {
     "data": {
      "text/plain": [
       "140"
      ]
     },
     "execution_count": 30,
     "metadata": {},
     "output_type": "execute_result"
    }
   ],
   "source": [
    "len(peti_df)"
   ]
  },
  {
   "cell_type": "code",
   "execution_count": 31,
   "metadata": {},
   "outputs": [
    {
     "data": {
      "text/html": [
       "<div>\n",
       "<style scoped>\n",
       "    .dataframe tbody tr th:only-of-type {\n",
       "        vertical-align: middle;\n",
       "    }\n",
       "\n",
       "    .dataframe tbody tr th {\n",
       "        vertical-align: top;\n",
       "    }\n",
       "\n",
       "    .dataframe thead th {\n",
       "        text-align: right;\n",
       "    }\n",
       "</style>\n",
       "<table border=\"1\" class=\"dataframe\">\n",
       "  <thead>\n",
       "    <tr style=\"text-align: right;\">\n",
       "      <th></th>\n",
       "      <th>카테고리</th>\n",
       "      <th>제목</th>\n",
       "      <th>청원종료일</th>\n",
       "      <th>참여인원</th>\n",
       "      <th>URL</th>\n",
       "    </tr>\n",
       "  </thead>\n",
       "  <tbody>\n",
       "    <tr>\n",
       "      <th>0</th>\n",
       "      <td>일자리</td>\n",
       "      <td>공기업 비정규직의 정규화 그만해주십오.</td>\n",
       "      <td>20.07.23</td>\n",
       "      <td>352,266</td>\n",
       "      <td>https://www1.president.go.kr/petitions/589941</td>\n",
       "    </tr>\n",
       "    <tr>\n",
       "      <th>1</th>\n",
       "      <td>인권/성평등</td>\n",
       "      <td>'저의 딸이 강간 당하는 것을 목격하여..'  그 충격과 고통으로 딸이 평생 남을...</td>\n",
       "      <td>20.07.11</td>\n",
       "      <td>286,148</td>\n",
       "      <td>https://www1.president.go.kr/petitions/589634</td>\n",
       "    </tr>\n",
       "    <tr>\n",
       "      <th>2</th>\n",
       "      <td>안전/환경</td>\n",
       "      <td>응급환자가 있는 구급차를 막아세운 택시 기사를 처벌해 주세요.</td>\n",
       "      <td>20.08.02</td>\n",
       "      <td>735,972</td>\n",
       "      <td>https://www1.president.go.kr/petitions/590341</td>\n",
       "    </tr>\n",
       "    <tr>\n",
       "      <th>3</th>\n",
       "      <td>인권/성평등</td>\n",
       "      <td>강영수 서울고법 수석부장판사의 대법관 후보 자격 박탈을 청원합니다.</td>\n",
       "      <td>20.08.05</td>\n",
       "      <td>529,144</td>\n",
       "      <td>https://www1.president.go.kr/petitions/590416</td>\n",
       "    </tr>\n",
       "    <tr>\n",
       "      <th>4</th>\n",
       "      <td>행정</td>\n",
       "      <td>정부의 교회 정규 예배 이외 행사 금지를 취소해주세요.</td>\n",
       "      <td>20.08.07</td>\n",
       "      <td>427,470</td>\n",
       "      <td>https://www1.president.go.kr/petitions/590504</td>\n",
       "    </tr>\n",
       "    <tr>\n",
       "      <th>...</th>\n",
       "      <td>...</td>\n",
       "      <td>...</td>\n",
       "      <td>...</td>\n",
       "      <td>...</td>\n",
       "      <td>...</td>\n",
       "    </tr>\n",
       "    <tr>\n",
       "      <th>135</th>\n",
       "      <td>안전/환경</td>\n",
       "      <td>응급환자가 있는 구급차를 막아세운 택시 기사를 처벌해 주세요.</td>\n",
       "      <td>20.08.02</td>\n",
       "      <td>735,972</td>\n",
       "      <td>https://www1.president.go.kr/petitions/590341</td>\n",
       "    </tr>\n",
       "    <tr>\n",
       "      <th>136</th>\n",
       "      <td>인권/성평등</td>\n",
       "      <td>강영수 서울고법 수석부장판사의 대법관 후보 자격 박탈을 청원합니다.</td>\n",
       "      <td>20.08.05</td>\n",
       "      <td>529,144</td>\n",
       "      <td>https://www1.president.go.kr/petitions/590416</td>\n",
       "    </tr>\n",
       "    <tr>\n",
       "      <th>137</th>\n",
       "      <td>행정</td>\n",
       "      <td>정부의 교회 정규 예배 이외 행사 금지를 취소해주세요.</td>\n",
       "      <td>20.08.07</td>\n",
       "      <td>427,470</td>\n",
       "      <td>https://www1.president.go.kr/petitions/590504</td>\n",
       "    </tr>\n",
       "    <tr>\n",
       "      <th>138</th>\n",
       "      <td>인권/성평등</td>\n",
       "      <td>박원순씨 장례를 5일장, 서울특별시장(葬)으로 하는 것 반대합니다.</td>\n",
       "      <td>20.08.09</td>\n",
       "      <td>596,410</td>\n",
       "      <td>https://www1.president.go.kr/petitions/590550</td>\n",
       "    </tr>\n",
       "    <tr>\n",
       "      <th>139</th>\n",
       "      <td>인권/성평등</td>\n",
       "      <td>강서구 데이트폭력 살인미수사건 강력한 처벌을 촉구합니다</td>\n",
       "      <td>20.07.31</td>\n",
       "      <td>212,867</td>\n",
       "      <td>https://www1.president.go.kr/petitions/590258</td>\n",
       "    </tr>\n",
       "  </tbody>\n",
       "</table>\n",
       "<p>140 rows × 5 columns</p>\n",
       "</div>"
      ],
      "text/plain": [
       "       카테고리                                                 제목     청원종료일  \\\n",
       "0       일자리                              공기업 비정규직의 정규화 그만해주십오.  20.07.23   \n",
       "1    인권/성평등   '저의 딸이 강간 당하는 것을 목격하여..'  그 충격과 고통으로 딸이 평생 남을...  20.07.11   \n",
       "2     안전/환경                 응급환자가 있는 구급차를 막아세운 택시 기사를 처벌해 주세요.  20.08.02   \n",
       "3    인권/성평등              강영수 서울고법 수석부장판사의 대법관 후보 자격 박탈을 청원합니다.  20.08.05   \n",
       "4        행정                     정부의 교회 정규 예배 이외 행사 금지를 취소해주세요.  20.08.07   \n",
       "..      ...                                                ...       ...   \n",
       "135   안전/환경                 응급환자가 있는 구급차를 막아세운 택시 기사를 처벌해 주세요.  20.08.02   \n",
       "136  인권/성평등              강영수 서울고법 수석부장판사의 대법관 후보 자격 박탈을 청원합니다.  20.08.05   \n",
       "137      행정                     정부의 교회 정규 예배 이외 행사 금지를 취소해주세요.  20.08.07   \n",
       "138  인권/성평등              박원순씨 장례를 5일장, 서울특별시장(葬)으로 하는 것 반대합니다.  20.08.09   \n",
       "139  인권/성평등                     강서구 데이트폭력 살인미수사건 강력한 처벌을 촉구합니다  20.07.31   \n",
       "\n",
       "        참여인원                                            URL  \n",
       "0    352,266  https://www1.president.go.kr/petitions/589941  \n",
       "1    286,148  https://www1.president.go.kr/petitions/589634  \n",
       "2    735,972  https://www1.president.go.kr/petitions/590341  \n",
       "3    529,144  https://www1.president.go.kr/petitions/590416  \n",
       "4    427,470  https://www1.president.go.kr/petitions/590504  \n",
       "..       ...                                            ...  \n",
       "135  735,972  https://www1.president.go.kr/petitions/590341  \n",
       "136  529,144  https://www1.president.go.kr/petitions/590416  \n",
       "137  427,470  https://www1.president.go.kr/petitions/590504  \n",
       "138  596,410  https://www1.president.go.kr/petitions/590550  \n",
       "139  212,867  https://www1.president.go.kr/petitions/590258  \n",
       "\n",
       "[140 rows x 5 columns]"
      ]
     },
     "execution_count": 31,
     "metadata": {},
     "output_type": "execute_result"
    }
   ],
   "source": [
    "peti_df"
   ]
  },
  {
   "cell_type": "code",
   "execution_count": 32,
   "metadata": {},
   "outputs": [
    {
     "data": {
      "text/html": [
       "<div>\n",
       "<style scoped>\n",
       "    .dataframe tbody tr th:only-of-type {\n",
       "        vertical-align: middle;\n",
       "    }\n",
       "\n",
       "    .dataframe tbody tr th {\n",
       "        vertical-align: top;\n",
       "    }\n",
       "\n",
       "    .dataframe thead th {\n",
       "        text-align: right;\n",
       "    }\n",
       "</style>\n",
       "<table border=\"1\" class=\"dataframe\">\n",
       "  <thead>\n",
       "    <tr style=\"text-align: right;\">\n",
       "      <th></th>\n",
       "      <th>카테고리</th>\n",
       "      <th>제목</th>\n",
       "      <th>청원종료일</th>\n",
       "      <th>참여인원</th>\n",
       "      <th>URL</th>\n",
       "    </tr>\n",
       "  </thead>\n",
       "  <tbody>\n",
       "    <tr>\n",
       "      <th>69</th>\n",
       "      <td>인권/성평등</td>\n",
       "      <td>강서구 데이트폭력 살인미수사건 강력한 처벌을 촉구합니다</td>\n",
       "      <td>20.07.31</td>\n",
       "      <td>212,867</td>\n",
       "      <td>https://www1.president.go.kr/petitions/590258</td>\n",
       "    </tr>\n",
       "    <tr>\n",
       "      <th>97</th>\n",
       "      <td>인권/성평등</td>\n",
       "      <td>강서구 데이트폭력 살인미수사건 강력한 처벌을 촉구합니다</td>\n",
       "      <td>20.07.31</td>\n",
       "      <td>212,867</td>\n",
       "      <td>https://www1.president.go.kr/petitions/590258</td>\n",
       "    </tr>\n",
       "    <tr>\n",
       "      <th>76</th>\n",
       "      <td>인권/성평등</td>\n",
       "      <td>강서구 데이트폭력 살인미수사건 강력한 처벌을 촉구합니다</td>\n",
       "      <td>20.07.31</td>\n",
       "      <td>212,867</td>\n",
       "      <td>https://www1.president.go.kr/petitions/590258</td>\n",
       "    </tr>\n",
       "    <tr>\n",
       "      <th>83</th>\n",
       "      <td>인권/성평등</td>\n",
       "      <td>강서구 데이트폭력 살인미수사건 강력한 처벌을 촉구합니다</td>\n",
       "      <td>20.07.31</td>\n",
       "      <td>212,867</td>\n",
       "      <td>https://www1.president.go.kr/petitions/590258</td>\n",
       "    </tr>\n",
       "    <tr>\n",
       "      <th>139</th>\n",
       "      <td>인권/성평등</td>\n",
       "      <td>강서구 데이트폭력 살인미수사건 강력한 처벌을 촉구합니다</td>\n",
       "      <td>20.07.31</td>\n",
       "      <td>212,867</td>\n",
       "      <td>https://www1.president.go.kr/petitions/590258</td>\n",
       "    </tr>\n",
       "  </tbody>\n",
       "</table>\n",
       "</div>"
      ],
      "text/plain": [
       "       카테고리                               제목     청원종료일     참여인원  \\\n",
       "69   인권/성평등   강서구 데이트폭력 살인미수사건 강력한 처벌을 촉구합니다  20.07.31  212,867   \n",
       "97   인권/성평등   강서구 데이트폭력 살인미수사건 강력한 처벌을 촉구합니다  20.07.31  212,867   \n",
       "76   인권/성평등   강서구 데이트폭력 살인미수사건 강력한 처벌을 촉구합니다  20.07.31  212,867   \n",
       "83   인권/성평등   강서구 데이트폭력 살인미수사건 강력한 처벌을 촉구합니다  20.07.31  212,867   \n",
       "139  인권/성평등   강서구 데이트폭력 살인미수사건 강력한 처벌을 촉구합니다  20.07.31  212,867   \n",
       "\n",
       "                                               URL  \n",
       "69   https://www1.president.go.kr/petitions/590258  \n",
       "97   https://www1.president.go.kr/petitions/590258  \n",
       "76   https://www1.president.go.kr/petitions/590258  \n",
       "83   https://www1.president.go.kr/petitions/590258  \n",
       "139  https://www1.president.go.kr/petitions/590258  "
      ]
     },
     "execution_count": 32,
     "metadata": {},
     "output_type": "execute_result"
    }
   ],
   "source": [
    "peti_df.sort_values('참여인원', ascending=False).tail()"
   ]
  },
  {
   "cell_type": "code",
   "execution_count": 33,
   "metadata": {},
   "outputs": [],
   "source": [
    "peti_df.to_csv('blue-house-petition-best.csv', sep=',', encoding='utf-8')"
   ]
  },
  {
   "cell_type": "code",
   "execution_count": null,
   "metadata": {},
   "outputs": [],
   "source": [
    "import pandas as pd \n",
    "\n",
    "petition = pd.read_csv('blue-house-petition-best.csv', thousands=',', encoding='utf-8', index_col=0)\n",
    "petition.head()"
   ]
  },
  {
   "cell_type": "code",
   "execution_count": null,
   "metadata": {},
   "outputs": [],
   "source": [
    "import re \n",
    "import time\n",
    "from tqdm import tqdm\n",
    "from urllib.request import urlopen\n",
    "from bs4 import BeautifulSoup\n",
    "\n",
    "content = []\n",
    "\n",
    "for n in tqdm(petition.index): \n",
    "    session = requests.Session()\n",
    "    url = petition['URL'][n]\n",
    "    headers = {\"User-Agent\": 'Mozilla/5.0 (Macintosh; Intel Mac OS X 10_15_5) AppleWebKit/537.36 (KHTML, like Gecko) Chrome/84.0.4147.105 Safari/537.36',\n",
    "                  \"Accept\": \"text/html,application/xhtml+xml,application/xml;q=0.9,image/webp,*/*;q=0.8\"}\n",
    "    MAX_SLEEP_TIME = 3\n",
    "    rand_value = randint(1, MAX_SLEEP_TIME)\n",
    "    time.sleep(rand_value)\n",
    "    html = session.get(url, headers=headers).content\n",
    "    soup = BeautifulSoup(html, \"html.parser\") \n",
    "    \n",
    "    # get petition content \n",
    "    content_raw = soup.find_all('div', class_='View_write')\n",
    "    try: \n",
    "        if len(content_raw) > 1:\n",
    "            content_raw_text = content_raw[1].get_text()\n",
    "        else: \n",
    "            content_raw_text = content_raw[0].get_text()   \n",
    "    except IndexError: \n",
    "        print('IndexError:', petition['URL'][n])\n",
    "    \n",
    "    content_split = re.split('\\r|\\t|\\n|\\xa0', content_raw_text)\n",
    "    content.append(''.join(content_split))"
   ]
  },
  {
   "cell_type": "code",
   "execution_count": null,
   "metadata": {},
   "outputs": [],
   "source": [
    "petition['청원내용'] = content"
   ]
  },
  {
   "cell_type": "code",
   "execution_count": null,
   "metadata": {},
   "outputs": [],
   "source": [
    "petition.to_csv('final-blue-house-petition-best.csv', sep=',', encoding='utf-8')"
   ]
  },
  {
   "cell_type": "code",
   "execution_count": null,
   "metadata": {},
   "outputs": [],
   "source": []
  }
 ],
 "metadata": {
  "kernelspec": {
   "display_name": "Python 3",
   "language": "python",
   "name": "python3"
  },
  "language_info": {
   "codemirror_mode": {
    "name": "ipython",
    "version": 3
   },
   "file_extension": ".py",
   "mimetype": "text/x-python",
   "name": "python",
   "nbconvert_exporter": "python",
   "pygments_lexer": "ipython3",
   "version": "3.8.5"
  }
 },
 "nbformat": 4,
 "nbformat_minor": 4
}
