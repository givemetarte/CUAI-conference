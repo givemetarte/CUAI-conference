{
 "cells": [
  {
   "cell_type": "markdown",
   "metadata": {},
   "source": [
    "# 청와대 청원 크롤링 코드 \n",
    "\n",
    "## 작성자: 박하람\n",
    "## 작성일자: 2020년 8월 10일 \n",
    "\n",
    "분야별 청원 전체 카테고리 선택 후, 추천 순 정렬하여 모든 청원 가져오기"
   ]
  },
  {
   "cell_type": "code",
   "execution_count": 1,
   "metadata": {},
   "outputs": [],
   "source": [
    "import sys\n",
    "sys.path.append(\"/usr/local/lib/python3.8/site-packages\")"
   ]
  },
  {
   "cell_type": "code",
   "execution_count": 118,
   "metadata": {},
   "outputs": [],
   "source": [
    "from urllib.request import urlopen\n",
    "from bs4 import BeautifulSoup\n",
    "from tqdm import tqdm\n",
    "import pandas as pd\n",
    "import time"
   ]
  },
  {
   "cell_type": "code",
   "execution_count": 217,
   "metadata": {},
   "outputs": [],
   "source": [
    "def get_peti_df(start, end): \n",
    "    \n",
    "    category = []\n",
    "    titles = []\n",
    "    address = []\n",
    "    end_date = []\n",
    "    consent_num = []\n",
    "    \n",
    "    for n in tqdm(range(start, end+1)): \n",
    "        url = f'https://www1.president.go.kr/petitions/?c=0&only=2&page={n}&order=2'\n",
    "        soup = BeautifulSoup(urlopen(url), \"html.parser\")\n",
    "        \n",
    "        if n % 2 != 0: \n",
    "            time.sleep(1)\n",
    "        else: \n",
    "            time.sleep(0.5)\n",
    "            \n",
    "        contents = soup.find_all('div', class_='bl_body')\n",
    "        \n",
    "        for i in range(7):\n",
    "            time.sleep(0.5)\n",
    "            peti_list = contents[0].find_all('div', class_='bl_wrap')[i]\n",
    "            \n",
    "            # 청원 카테고리\n",
    "            category.append(peti_list.find('div', class_='bl_category').get_text()) \n",
    "            # 청원 제목 \n",
    "            titles_raw = peti_list.find('div', class_='bl_subject').get_text()\n",
    "            titles_split = re.split('\\r|\\t|\\n|\\xa0|제목', titles_raw)\n",
    "            titles.append(''.join(titles_split))\n",
    "            # 청원 주소 \n",
    "            add_url = peti_list.find('a')['href']\n",
    "            address.append('https://www1.president.go.kr'+add_url)\n",
    "            # 청원 만료일 \n",
    "            end_date.append(peti_list.find('div', class_='bl_date').get_text())\n",
    "            # 청원 동의 수 \n",
    "            consent_num_raw = peti_list.find('div', class_='bl_agree').get_text()\n",
    "            consent_split = re.split('\\r|\\t|\\n|\\xa0', consent_num_raw)\n",
    "            consent_num.append(''.join(consent_split).split()[1][:-1])\n",
    "        \n",
    "    petition_dict = {'카테고리':category, '제목':titles, '청원종료일': end_date, \n",
    "                 '참여인원': consent_num,'URL': address}\n",
    "    df = pd.DataFrame(petition_dict)\n",
    "    return df \n",
    "        "
   ]
  },
  {
   "cell_type": "code",
   "execution_count": 209,
   "metadata": {},
   "outputs": [
    {
     "name": "stderr",
     "output_type": "stream",
     "text": [
      "100%|██████████| 50/50 [00:17<00:00,  2.89it/s]"
     ]
    },
    {
     "name": "stdout",
     "output_type": "stream",
     "text": [
      "CPU times: user 4.36 s, sys: 157 ms, total: 4.52 s\n",
      "Wall time: 17.3 s\n"
     ]
    },
    {
     "name": "stderr",
     "output_type": "stream",
     "text": [
      "\n"
     ]
    }
   ],
   "source": [
    "%time peti_df_1 = get_peti_df(1,50)"
   ]
  },
  {
   "cell_type": "code",
   "execution_count": 218,
   "metadata": {},
   "outputs": [
    {
     "name": "stderr",
     "output_type": "stream",
     "text": [
      "  0%|          | 0/50 [00:01<?, ?it/s]\n"
     ]
    },
    {
     "ename": "IndexError",
     "evalue": "list index out of range",
     "output_type": "error",
     "traceback": [
      "\u001b[0;31m---------------------------------------------------------------------------\u001b[0m",
      "\u001b[0;31mIndexError\u001b[0m                                Traceback (most recent call last)",
      "\u001b[0;32m<timed exec>\u001b[0m in \u001b[0;36m<module>\u001b[0;34m\u001b[0m\n",
      "\u001b[0;32m<ipython-input-217-162c2bca144a>\u001b[0m in \u001b[0;36mget_peti_df\u001b[0;34m(start, end)\u001b[0m\n\u001b[1;32m     20\u001b[0m         \u001b[0;32mfor\u001b[0m \u001b[0mi\u001b[0m \u001b[0;32min\u001b[0m \u001b[0mrange\u001b[0m\u001b[0;34m(\u001b[0m\u001b[0;36m7\u001b[0m\u001b[0;34m)\u001b[0m\u001b[0;34m:\u001b[0m\u001b[0;34m\u001b[0m\u001b[0;34m\u001b[0m\u001b[0m\n\u001b[1;32m     21\u001b[0m             \u001b[0mtime\u001b[0m\u001b[0;34m.\u001b[0m\u001b[0msleep\u001b[0m\u001b[0;34m(\u001b[0m\u001b[0;36m0.5\u001b[0m\u001b[0;34m)\u001b[0m\u001b[0;34m\u001b[0m\u001b[0;34m\u001b[0m\u001b[0m\n\u001b[0;32m---> 22\u001b[0;31m             \u001b[0mpeti_list\u001b[0m \u001b[0;34m=\u001b[0m \u001b[0mcontents\u001b[0m\u001b[0;34m[\u001b[0m\u001b[0;36m0\u001b[0m\u001b[0;34m]\u001b[0m\u001b[0;34m.\u001b[0m\u001b[0mfind_all\u001b[0m\u001b[0;34m(\u001b[0m\u001b[0;34m'div'\u001b[0m\u001b[0;34m,\u001b[0m \u001b[0mclass_\u001b[0m\u001b[0;34m=\u001b[0m\u001b[0;34m'bl_wrap'\u001b[0m\u001b[0;34m)\u001b[0m\u001b[0;34m[\u001b[0m\u001b[0mi\u001b[0m\u001b[0;34m]\u001b[0m\u001b[0;34m\u001b[0m\u001b[0;34m\u001b[0m\u001b[0m\n\u001b[0m\u001b[1;32m     23\u001b[0m \u001b[0;34m\u001b[0m\u001b[0m\n\u001b[1;32m     24\u001b[0m             \u001b[0;31m# 청원 카테고리\u001b[0m\u001b[0;34m\u001b[0m\u001b[0;34m\u001b[0m\u001b[0;34m\u001b[0m\u001b[0m\n",
      "\u001b[0;31mIndexError\u001b[0m: list index out of range"
     ]
    }
   ],
   "source": [
    "%time peti_df_2 = get_peti_df(51,100)"
   ]
  },
  {
   "cell_type": "code",
   "execution_count": 159,
   "metadata": {},
   "outputs": [
    {
     "name": "stderr",
     "output_type": "stream",
     "text": [
      "100%|██████████| 50/50 [00:50<00:00,  1.02s/it]"
     ]
    },
    {
     "name": "stdout",
     "output_type": "stream",
     "text": [
      "CPU times: user 3.74 s, sys: 122 ms, total: 3.86 s\n",
      "Wall time: 51 s\n"
     ]
    },
    {
     "name": "stderr",
     "output_type": "stream",
     "text": [
      "\n"
     ]
    }
   ],
   "source": [
    "%time peti_df_3 = get_peti_df(101,150)"
   ]
  },
  {
   "cell_type": "code",
   "execution_count": 160,
   "metadata": {},
   "outputs": [
    {
     "name": "stderr",
     "output_type": "stream",
     "text": [
      "100%|██████████| 50/50 [00:50<00:00,  1.02s/it]"
     ]
    },
    {
     "name": "stdout",
     "output_type": "stream",
     "text": [
      "CPU times: user 3.76 s, sys: 113 ms, total: 3.87 s\n",
      "Wall time: 51 s\n"
     ]
    },
    {
     "name": "stderr",
     "output_type": "stream",
     "text": [
      "\n"
     ]
    }
   ],
   "source": [
    "%time peti_df_4 = get_peti_df(151,200)"
   ]
  },
  {
   "cell_type": "code",
   "execution_count": 167,
   "metadata": {},
   "outputs": [
    {
     "name": "stderr",
     "output_type": "stream",
     "text": [
      "100%|██████████| 50/50 [06:02<00:00,  7.25s/it]"
     ]
    },
    {
     "name": "stdout",
     "output_type": "stream",
     "text": [
      "CPU times: user 4.08 s, sys: 134 ms, total: 4.22 s\n",
      "Wall time: 6min 2s\n"
     ]
    },
    {
     "name": "stderr",
     "output_type": "stream",
     "text": [
      "\n"
     ]
    }
   ],
   "source": [
    "%time peti_df_5 = get_peti_df(201,250)"
   ]
  },
  {
   "cell_type": "code",
   "execution_count": 174,
   "metadata": {},
   "outputs": [
    {
     "name": "stderr",
     "output_type": "stream",
     "text": [
      "100%|██████████| 50/50 [02:51<00:00,  3.43s/it]"
     ]
    },
    {
     "name": "stdout",
     "output_type": "stream",
     "text": [
      "CPU times: user 4.25 s, sys: 157 ms, total: 4.41 s\n",
      "Wall time: 2min 51s\n"
     ]
    },
    {
     "name": "stderr",
     "output_type": "stream",
     "text": [
      "\n"
     ]
    }
   ],
   "source": [
    "%time peti_df_6 = get_peti_df(251, 300)"
   ]
  },
  {
   "cell_type": "code",
   "execution_count": 175,
   "metadata": {},
   "outputs": [
    {
     "data": {
      "text/plain": [
       "2100"
      ]
     },
     "execution_count": 175,
     "metadata": {},
     "output_type": "execute_result"
    }
   ],
   "source": [
    "peti_df = pd.concat([peti_df_1, peti_df_2, peti_df_3, peti_df_4, peti_df_5, peti_df_6])\n",
    "len(peti_df)"
   ]
  },
  {
   "cell_type": "code",
   "execution_count": 178,
   "metadata": {},
   "outputs": [
    {
     "data": {
      "text/html": [
       "<div>\n",
       "<style scoped>\n",
       "    .dataframe tbody tr th:only-of-type {\n",
       "        vertical-align: middle;\n",
       "    }\n",
       "\n",
       "    .dataframe tbody tr th {\n",
       "        vertical-align: top;\n",
       "    }\n",
       "\n",
       "    .dataframe thead th {\n",
       "        text-align: right;\n",
       "    }\n",
       "</style>\n",
       "<table border=\"1\" class=\"dataframe\">\n",
       "  <thead>\n",
       "    <tr style=\"text-align: right;\">\n",
       "      <th></th>\n",
       "      <th>카테고리</th>\n",
       "      <th>제목</th>\n",
       "      <th>청원종료일</th>\n",
       "      <th>참여인원</th>\n",
       "      <th>URL</th>\n",
       "    </tr>\n",
       "  </thead>\n",
       "  <tbody>\n",
       "    <tr>\n",
       "      <th>0</th>\n",
       "      <td>일자리</td>\n",
       "      <td>제목 공기업 비정규직의 정규화 그만해주십오.</td>\n",
       "      <td>20.07.23</td>\n",
       "      <td>352,266</td>\n",
       "      <td>https://www1.president.go.kr/petitions/589941</td>\n",
       "    </tr>\n",
       "    <tr>\n",
       "      <th>1</th>\n",
       "      <td>인권/성평등</td>\n",
       "      <td>제목 '저의 딸이 강간 당하는 것을 목격하여..'  그 충격과 고통으로 딸이 평생 ...</td>\n",
       "      <td>20.07.11</td>\n",
       "      <td>286,148</td>\n",
       "      <td>https://www1.president.go.kr/petitions/589634</td>\n",
       "    </tr>\n",
       "    <tr>\n",
       "      <th>2</th>\n",
       "      <td>안전/환경</td>\n",
       "      <td>제목 응급환자가 있는 구급차를 막아세운 택시 기사를 처벌해 주세요.</td>\n",
       "      <td>20.08.02</td>\n",
       "      <td>735,972</td>\n",
       "      <td>https://www1.president.go.kr/petitions/590341</td>\n",
       "    </tr>\n",
       "    <tr>\n",
       "      <th>3</th>\n",
       "      <td>인권/성평등</td>\n",
       "      <td>제목 강영수 서울고법 수석부장판사의 대법관 후보 자격 박탈을 청원합니다.</td>\n",
       "      <td>20.08.05</td>\n",
       "      <td>529,144</td>\n",
       "      <td>https://www1.president.go.kr/petitions/590416</td>\n",
       "    </tr>\n",
       "    <tr>\n",
       "      <th>4</th>\n",
       "      <td>행정</td>\n",
       "      <td>제목 정부의 교회 정규 예배 이외 행사 금지를 취소해주세요.</td>\n",
       "      <td>20.08.07</td>\n",
       "      <td>427,470</td>\n",
       "      <td>https://www1.president.go.kr/petitions/590504</td>\n",
       "    </tr>\n",
       "  </tbody>\n",
       "</table>\n",
       "</div>"
      ],
      "text/plain": [
       "     카테고리                                                 제목     청원종료일  \\\n",
       "0     일자리                           제목 공기업 비정규직의 정규화 그만해주십오.  20.07.23   \n",
       "1  인권/성평등  제목 '저의 딸이 강간 당하는 것을 목격하여..'  그 충격과 고통으로 딸이 평생 ...  20.07.11   \n",
       "2   안전/환경              제목 응급환자가 있는 구급차를 막아세운 택시 기사를 처벌해 주세요.  20.08.02   \n",
       "3  인권/성평등           제목 강영수 서울고법 수석부장판사의 대법관 후보 자격 박탈을 청원합니다.  20.08.05   \n",
       "4      행정                  제목 정부의 교회 정규 예배 이외 행사 금지를 취소해주세요.  20.08.07   \n",
       "\n",
       "      참여인원                                            URL  \n",
       "0  352,266  https://www1.president.go.kr/petitions/589941  \n",
       "1  286,148  https://www1.president.go.kr/petitions/589634  \n",
       "2  735,972  https://www1.president.go.kr/petitions/590341  \n",
       "3  529,144  https://www1.president.go.kr/petitions/590416  \n",
       "4  427,470  https://www1.president.go.kr/petitions/590504  "
      ]
     },
     "execution_count": 178,
     "metadata": {},
     "output_type": "execute_result"
    }
   ],
   "source": [
    "peti_df.head()"
   ]
  },
  {
   "cell_type": "code",
   "execution_count": null,
   "metadata": {},
   "outputs": [],
   "source": []
  }
 ],
 "metadata": {
  "kernelspec": {
   "display_name": "Python 3",
   "language": "python",
   "name": "python3"
  },
  "language_info": {
   "codemirror_mode": {
    "name": "ipython",
    "version": 3
   },
   "file_extension": ".py",
   "mimetype": "text/x-python",
   "name": "python",
   "nbconvert_exporter": "python",
   "pygments_lexer": "ipython3",
   "version": "3.8.5"
  }
 },
 "nbformat": 4,
 "nbformat_minor": 4
}
